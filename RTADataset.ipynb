{
 "cells": [
  {
   "cell_type": "code",
   "execution_count": 1,
   "id": "9e4b8c8d",
   "metadata": {},
   "outputs": [
    {
     "name": "stderr",
     "output_type": "stream",
     "text": [
      "WARNING: Ignoring invalid distribution -ymongo (c:\\users\\dell\\anaconda3\\lib\\site-packages)\n",
      "WARNING: Ignoring invalid distribution -ymongo (c:\\users\\dell\\anaconda3\\lib\\site-packages)\n"
     ]
    },
    {
     "name": "stdout",
     "output_type": "stream",
     "text": [
      "Requirement already satisfied: mlxtend in c:\\users\\dell\\anaconda3\\lib\\site-packages (0.23.0)\n",
      "Requirement already satisfied: scipy>=1.2.1 in c:\\users\\dell\\anaconda3\\lib\\site-packages (from mlxtend) (1.7.3)\n",
      "Requirement already satisfied: numpy>=1.16.2 in c:\\users\\dell\\anaconda3\\lib\\site-packages (from mlxtend) (1.21.5)\n",
      "Requirement already satisfied: pandas>=0.24.2 in c:\\users\\dell\\anaconda3\\lib\\site-packages (from mlxtend) (1.4.2)\n",
      "Requirement already satisfied: scikit-learn>=1.0.2 in c:\\users\\dell\\anaconda3\\lib\\site-packages (from mlxtend) (1.2.0)\n",
      "Requirement already satisfied: matplotlib>=3.0.0 in c:\\users\\dell\\anaconda3\\lib\\site-packages (from mlxtend) (3.5.1)\n",
      "Requirement already satisfied: joblib>=0.13.2 in c:\\users\\dell\\anaconda3\\lib\\site-packages (from mlxtend) (1.2.0)\n",
      "Requirement already satisfied: cycler>=0.10 in c:\\users\\dell\\anaconda3\\lib\\site-packages (from matplotlib>=3.0.0->mlxtend) (0.11.0)\n",
      "Requirement already satisfied: fonttools>=4.22.0 in c:\\users\\dell\\anaconda3\\lib\\site-packages (from matplotlib>=3.0.0->mlxtend) (4.25.0)\n",
      "Requirement already satisfied: kiwisolver>=1.0.1 in c:\\users\\dell\\anaconda3\\lib\\site-packages (from matplotlib>=3.0.0->mlxtend) (1.3.2)\n",
      "Requirement already satisfied: packaging>=20.0 in c:\\users\\dell\\anaconda3\\lib\\site-packages (from matplotlib>=3.0.0->mlxtend) (21.3)\n",
      "Requirement already satisfied: pillow>=6.2.0 in c:\\users\\dell\\anaconda3\\lib\\site-packages (from matplotlib>=3.0.0->mlxtend) (9.0.1)\n",
      "Requirement already satisfied: pyparsing>=2.2.1 in c:\\users\\dell\\anaconda3\\lib\\site-packages (from matplotlib>=3.0.0->mlxtend) (3.0.4)\n",
      "Requirement already satisfied: python-dateutil>=2.7 in c:\\users\\dell\\anaconda3\\lib\\site-packages (from matplotlib>=3.0.0->mlxtend) (2.8.2)\n",
      "Requirement already satisfied: pytz>=2020.1 in c:\\users\\dell\\anaconda3\\lib\\site-packages (from pandas>=0.24.2->mlxtend) (2021.3)\n",
      "Requirement already satisfied: threadpoolctl>=2.0.0 in c:\\users\\dell\\anaconda3\\lib\\site-packages (from scikit-learn>=1.0.2->mlxtend) (2.2.0)\n",
      "Requirement already satisfied: six>=1.5 in c:\\users\\dell\\anaconda3\\lib\\site-packages (from python-dateutil>=2.7->matplotlib>=3.0.0->mlxtend) (1.15.0)\n"
     ]
    }
   ],
   "source": [
    "import numpy as np\n",
    "import pandas as pd\n",
    "import matplotlib.pyplot as plt\n",
    "import seaborn as sns\n",
    "\n",
    "import plotly.express as px\n",
    "import plotly.offline as py\n",
    "import plotly.graph_objs as go\n",
    "import plotly.tools as tls\n",
    "import plotly.figure_factory as ff\n",
    "import plotly.io as pio\n",
    "pio.renderers.default='notebook'\n",
    "\n",
    "from collections import Counter\n",
    "from sklearn.impute import SimpleImputer\n",
    "from imblearn.over_sampling import SMOTE\n",
    "from sklearn.preprocessing import OrdinalEncoder  \n",
    "from sklearn.model_selection import cross_val_score, StratifiedKFold, KFold\n",
    "\n",
    "from sklearn.model_selection import train_test_split, GridSearchCV\n",
    "\n",
    "from sklearn.metrics import (accuracy_score, \n",
    "                            classification_report,\n",
    "                            recall_score, precision_score, f1_score,\n",
    "                            confusion_matrix)\n",
    "!pip install mlxtend\n",
    "from mlxtend.evaluate import mcnemar_table, mcnemar_tables\n",
    "from mlxtend.plotting import checkerboard_plot, plot_decision_regions\n",
    "from xgboost import XGBClassifier\n",
    "from sklearn.ensemble import ExtraTreesClassifier\n",
    "from sklearn.ensemble import RandomForestClassifier\n",
    "\n",
    "from sklearn.decomposition import PCA\n",
    "%matplotlib inline\n",
    "\n",
    "sns.set_style('darkgrid')\n",
    "pd. set_option(\"display.max_columns\", None)\n",
    "\n",
    "import warnings\n",
    "warnings.filterwarnings('ignore')\n"
   ]
  },
  {
   "cell_type": "markdown",
   "id": "2a5ded44",
   "metadata": {},
   "source": [
    "## Import Data"
   ]
  },
  {
   "cell_type": "code",
   "execution_count": 2,
   "id": "fd5a1481",
   "metadata": {},
   "outputs": [],
   "source": [
    "df = pd.read_csv(r\"C:\\Users\\Dell\\Downloads\\Project 1\\RTA Dataset.csv\")"
   ]
  },
  {
   "cell_type": "code",
   "execution_count": 3,
   "id": "b4cf593d",
   "metadata": {},
   "outputs": [
    {
     "data": {
      "text/html": [
       "<div>\n",
       "<style scoped>\n",
       "    .dataframe tbody tr th:only-of-type {\n",
       "        vertical-align: middle;\n",
       "    }\n",
       "\n",
       "    .dataframe tbody tr th {\n",
       "        vertical-align: top;\n",
       "    }\n",
       "\n",
       "    .dataframe thead th {\n",
       "        text-align: right;\n",
       "    }\n",
       "</style>\n",
       "<table border=\"1\" class=\"dataframe\">\n",
       "  <thead>\n",
       "    <tr style=\"text-align: right;\">\n",
       "      <th></th>\n",
       "      <th>Time</th>\n",
       "      <th>Day_of_week</th>\n",
       "      <th>Age_band_of_driver</th>\n",
       "      <th>Sex_of_driver</th>\n",
       "      <th>Educational_level</th>\n",
       "      <th>Vehicle_driver_relation</th>\n",
       "      <th>Driving_experience</th>\n",
       "      <th>Type_of_vehicle</th>\n",
       "      <th>Owner_of_vehicle</th>\n",
       "      <th>Service_year_of_vehicle</th>\n",
       "      <th>Defect_of_vehicle</th>\n",
       "      <th>Area_accident_occured</th>\n",
       "      <th>Lanes_or_Medians</th>\n",
       "      <th>Road_allignment</th>\n",
       "      <th>Types_of_Junction</th>\n",
       "      <th>Road_surface_type</th>\n",
       "      <th>Road_surface_conditions</th>\n",
       "      <th>Light_conditions</th>\n",
       "      <th>Weather_conditions</th>\n",
       "      <th>Type_of_collision</th>\n",
       "      <th>Number_of_vehicles_involved</th>\n",
       "      <th>Number_of_casualties</th>\n",
       "      <th>Vehicle_movement</th>\n",
       "      <th>Casualty_class</th>\n",
       "      <th>Sex_of_casualty</th>\n",
       "      <th>Age_band_of_casualty</th>\n",
       "      <th>Casualty_severity</th>\n",
       "      <th>Work_of_casuality</th>\n",
       "      <th>Fitness_of_casuality</th>\n",
       "      <th>Pedestrian_movement</th>\n",
       "      <th>Cause_of_accident</th>\n",
       "      <th>Accident_severity</th>\n",
       "    </tr>\n",
       "  </thead>\n",
       "  <tbody>\n",
       "    <tr>\n",
       "      <th>0</th>\n",
       "      <td>17:02:00</td>\n",
       "      <td>Monday</td>\n",
       "      <td>18-30</td>\n",
       "      <td>Male</td>\n",
       "      <td>Above high school</td>\n",
       "      <td>Employee</td>\n",
       "      <td>1-2yr</td>\n",
       "      <td>Automobile</td>\n",
       "      <td>Owner</td>\n",
       "      <td>Above 10yr</td>\n",
       "      <td>No defect</td>\n",
       "      <td>Residential areas</td>\n",
       "      <td>NaN</td>\n",
       "      <td>Tangent road with flat terrain</td>\n",
       "      <td>No junction</td>\n",
       "      <td>Asphalt roads</td>\n",
       "      <td>Dry</td>\n",
       "      <td>Daylight</td>\n",
       "      <td>Normal</td>\n",
       "      <td>Collision with roadside-parked vehicles</td>\n",
       "      <td>2</td>\n",
       "      <td>2</td>\n",
       "      <td>Going straight</td>\n",
       "      <td>na</td>\n",
       "      <td>na</td>\n",
       "      <td>na</td>\n",
       "      <td>na</td>\n",
       "      <td>NaN</td>\n",
       "      <td>NaN</td>\n",
       "      <td>Not a Pedestrian</td>\n",
       "      <td>Moving Backward</td>\n",
       "      <td>Slight Injury</td>\n",
       "    </tr>\n",
       "    <tr>\n",
       "      <th>1</th>\n",
       "      <td>17:02:00</td>\n",
       "      <td>Monday</td>\n",
       "      <td>31-50</td>\n",
       "      <td>Male</td>\n",
       "      <td>Junior high school</td>\n",
       "      <td>Employee</td>\n",
       "      <td>Above 10yr</td>\n",
       "      <td>Public (&gt; 45 seats)</td>\n",
       "      <td>Owner</td>\n",
       "      <td>5-10yrs</td>\n",
       "      <td>No defect</td>\n",
       "      <td>Office areas</td>\n",
       "      <td>Undivided Two way</td>\n",
       "      <td>Tangent road with flat terrain</td>\n",
       "      <td>No junction</td>\n",
       "      <td>Asphalt roads</td>\n",
       "      <td>Dry</td>\n",
       "      <td>Daylight</td>\n",
       "      <td>Normal</td>\n",
       "      <td>Vehicle with vehicle collision</td>\n",
       "      <td>2</td>\n",
       "      <td>2</td>\n",
       "      <td>Going straight</td>\n",
       "      <td>na</td>\n",
       "      <td>na</td>\n",
       "      <td>na</td>\n",
       "      <td>na</td>\n",
       "      <td>NaN</td>\n",
       "      <td>NaN</td>\n",
       "      <td>Not a Pedestrian</td>\n",
       "      <td>Overtaking</td>\n",
       "      <td>Slight Injury</td>\n",
       "    </tr>\n",
       "    <tr>\n",
       "      <th>2</th>\n",
       "      <td>17:02:00</td>\n",
       "      <td>Monday</td>\n",
       "      <td>18-30</td>\n",
       "      <td>Male</td>\n",
       "      <td>Junior high school</td>\n",
       "      <td>Employee</td>\n",
       "      <td>1-2yr</td>\n",
       "      <td>Lorry (41?100Q)</td>\n",
       "      <td>Owner</td>\n",
       "      <td>NaN</td>\n",
       "      <td>No defect</td>\n",
       "      <td>Recreational areas</td>\n",
       "      <td>other</td>\n",
       "      <td>NaN</td>\n",
       "      <td>No junction</td>\n",
       "      <td>Asphalt roads</td>\n",
       "      <td>Dry</td>\n",
       "      <td>Daylight</td>\n",
       "      <td>Normal</td>\n",
       "      <td>Collision with roadside objects</td>\n",
       "      <td>2</td>\n",
       "      <td>2</td>\n",
       "      <td>Going straight</td>\n",
       "      <td>Driver or rider</td>\n",
       "      <td>Male</td>\n",
       "      <td>31-50</td>\n",
       "      <td>3</td>\n",
       "      <td>Driver</td>\n",
       "      <td>NaN</td>\n",
       "      <td>Not a Pedestrian</td>\n",
       "      <td>Changing lane to the left</td>\n",
       "      <td>Serious Injury</td>\n",
       "    </tr>\n",
       "    <tr>\n",
       "      <th>3</th>\n",
       "      <td>1:06:00</td>\n",
       "      <td>Sunday</td>\n",
       "      <td>18-30</td>\n",
       "      <td>Male</td>\n",
       "      <td>Junior high school</td>\n",
       "      <td>Employee</td>\n",
       "      <td>5-10yr</td>\n",
       "      <td>Public (&gt; 45 seats)</td>\n",
       "      <td>Governmental</td>\n",
       "      <td>NaN</td>\n",
       "      <td>No defect</td>\n",
       "      <td>Office areas</td>\n",
       "      <td>other</td>\n",
       "      <td>Tangent road with mild grade and flat terrain</td>\n",
       "      <td>Y Shape</td>\n",
       "      <td>Earth roads</td>\n",
       "      <td>Dry</td>\n",
       "      <td>Darkness - lights lit</td>\n",
       "      <td>Normal</td>\n",
       "      <td>Vehicle with vehicle collision</td>\n",
       "      <td>2</td>\n",
       "      <td>2</td>\n",
       "      <td>Going straight</td>\n",
       "      <td>Pedestrian</td>\n",
       "      <td>Female</td>\n",
       "      <td>18-30</td>\n",
       "      <td>3</td>\n",
       "      <td>Driver</td>\n",
       "      <td>Normal</td>\n",
       "      <td>Not a Pedestrian</td>\n",
       "      <td>Changing lane to the right</td>\n",
       "      <td>Slight Injury</td>\n",
       "    </tr>\n",
       "    <tr>\n",
       "      <th>4</th>\n",
       "      <td>1:06:00</td>\n",
       "      <td>Sunday</td>\n",
       "      <td>18-30</td>\n",
       "      <td>Male</td>\n",
       "      <td>Junior high school</td>\n",
       "      <td>Employee</td>\n",
       "      <td>2-5yr</td>\n",
       "      <td>NaN</td>\n",
       "      <td>Owner</td>\n",
       "      <td>5-10yrs</td>\n",
       "      <td>No defect</td>\n",
       "      <td>Industrial areas</td>\n",
       "      <td>other</td>\n",
       "      <td>Tangent road with flat terrain</td>\n",
       "      <td>Y Shape</td>\n",
       "      <td>Asphalt roads</td>\n",
       "      <td>Dry</td>\n",
       "      <td>Darkness - lights lit</td>\n",
       "      <td>Normal</td>\n",
       "      <td>Vehicle with vehicle collision</td>\n",
       "      <td>2</td>\n",
       "      <td>2</td>\n",
       "      <td>Going straight</td>\n",
       "      <td>na</td>\n",
       "      <td>na</td>\n",
       "      <td>na</td>\n",
       "      <td>na</td>\n",
       "      <td>NaN</td>\n",
       "      <td>NaN</td>\n",
       "      <td>Not a Pedestrian</td>\n",
       "      <td>Overtaking</td>\n",
       "      <td>Slight Injury</td>\n",
       "    </tr>\n",
       "    <tr>\n",
       "      <th>5</th>\n",
       "      <td>14:15:00</td>\n",
       "      <td>Friday</td>\n",
       "      <td>31-50</td>\n",
       "      <td>Male</td>\n",
       "      <td>NaN</td>\n",
       "      <td>Unknown</td>\n",
       "      <td>NaN</td>\n",
       "      <td>NaN</td>\n",
       "      <td>NaN</td>\n",
       "      <td>NaN</td>\n",
       "      <td>NaN</td>\n",
       "      <td>NaN</td>\n",
       "      <td>NaN</td>\n",
       "      <td>NaN</td>\n",
       "      <td>Y Shape</td>\n",
       "      <td>NaN</td>\n",
       "      <td>Dry</td>\n",
       "      <td>Daylight</td>\n",
       "      <td>Normal</td>\n",
       "      <td>Vehicle with vehicle collision</td>\n",
       "      <td>1</td>\n",
       "      <td>1</td>\n",
       "      <td>U-Turn</td>\n",
       "      <td>Driver or rider</td>\n",
       "      <td>Male</td>\n",
       "      <td>31-50</td>\n",
       "      <td>3</td>\n",
       "      <td>Driver</td>\n",
       "      <td>Normal</td>\n",
       "      <td>Not a Pedestrian</td>\n",
       "      <td>Overloading</td>\n",
       "      <td>Slight Injury</td>\n",
       "    </tr>\n",
       "    <tr>\n",
       "      <th>6</th>\n",
       "      <td>17:30:00</td>\n",
       "      <td>Wednesday</td>\n",
       "      <td>18-30</td>\n",
       "      <td>Male</td>\n",
       "      <td>Junior high school</td>\n",
       "      <td>Employee</td>\n",
       "      <td>2-5yr</td>\n",
       "      <td>Automobile</td>\n",
       "      <td>Owner</td>\n",
       "      <td>NaN</td>\n",
       "      <td>No defect</td>\n",
       "      <td>Residential areas</td>\n",
       "      <td>Undivided Two way</td>\n",
       "      <td>Tangent road with flat terrain</td>\n",
       "      <td>Crossing</td>\n",
       "      <td>NaN</td>\n",
       "      <td>Dry</td>\n",
       "      <td>Daylight</td>\n",
       "      <td>Normal</td>\n",
       "      <td>Vehicle with vehicle collision</td>\n",
       "      <td>1</td>\n",
       "      <td>1</td>\n",
       "      <td>Moving Backward</td>\n",
       "      <td>Driver or rider</td>\n",
       "      <td>Female</td>\n",
       "      <td>18-30</td>\n",
       "      <td>3</td>\n",
       "      <td>Driver</td>\n",
       "      <td>Normal</td>\n",
       "      <td>Not a Pedestrian</td>\n",
       "      <td>Other</td>\n",
       "      <td>Slight Injury</td>\n",
       "    </tr>\n",
       "    <tr>\n",
       "      <th>7</th>\n",
       "      <td>17:20:00</td>\n",
       "      <td>Friday</td>\n",
       "      <td>18-30</td>\n",
       "      <td>Male</td>\n",
       "      <td>Junior high school</td>\n",
       "      <td>Employee</td>\n",
       "      <td>2-5yr</td>\n",
       "      <td>Automobile</td>\n",
       "      <td>Governmental</td>\n",
       "      <td>Above 10yr</td>\n",
       "      <td>No defect</td>\n",
       "      <td>Residential areas</td>\n",
       "      <td>other</td>\n",
       "      <td>Tangent road with flat terrain</td>\n",
       "      <td>Y Shape</td>\n",
       "      <td>Asphalt roads</td>\n",
       "      <td>Dry</td>\n",
       "      <td>Daylight</td>\n",
       "      <td>Normal</td>\n",
       "      <td>Vehicle with vehicle collision</td>\n",
       "      <td>2</td>\n",
       "      <td>1</td>\n",
       "      <td>U-Turn</td>\n",
       "      <td>na</td>\n",
       "      <td>na</td>\n",
       "      <td>na</td>\n",
       "      <td>na</td>\n",
       "      <td>NaN</td>\n",
       "      <td>Normal</td>\n",
       "      <td>Not a Pedestrian</td>\n",
       "      <td>No priority to vehicle</td>\n",
       "      <td>Slight Injury</td>\n",
       "    </tr>\n",
       "    <tr>\n",
       "      <th>8</th>\n",
       "      <td>17:20:00</td>\n",
       "      <td>Friday</td>\n",
       "      <td>18-30</td>\n",
       "      <td>Male</td>\n",
       "      <td>Junior high school</td>\n",
       "      <td>Employee</td>\n",
       "      <td>Above 10yr</td>\n",
       "      <td>Lorry (41?100Q)</td>\n",
       "      <td>Owner</td>\n",
       "      <td>1-2yr</td>\n",
       "      <td>No defect</td>\n",
       "      <td>Industrial areas</td>\n",
       "      <td>other</td>\n",
       "      <td>Tangent road with flat terrain</td>\n",
       "      <td>Y Shape</td>\n",
       "      <td>Earth roads</td>\n",
       "      <td>Dry</td>\n",
       "      <td>Daylight</td>\n",
       "      <td>Normal</td>\n",
       "      <td>Collision with roadside-parked vehicles</td>\n",
       "      <td>2</td>\n",
       "      <td>1</td>\n",
       "      <td>Going straight</td>\n",
       "      <td>Pedestrian</td>\n",
       "      <td>Male</td>\n",
       "      <td>Under 18</td>\n",
       "      <td>3</td>\n",
       "      <td>Driver</td>\n",
       "      <td>Normal</td>\n",
       "      <td>Crossing from driver's nearside</td>\n",
       "      <td>Changing lane to the right</td>\n",
       "      <td>Slight Injury</td>\n",
       "    </tr>\n",
       "    <tr>\n",
       "      <th>9</th>\n",
       "      <td>17:20:00</td>\n",
       "      <td>Friday</td>\n",
       "      <td>18-30</td>\n",
       "      <td>Male</td>\n",
       "      <td>Junior high school</td>\n",
       "      <td>Employee</td>\n",
       "      <td>1-2yr</td>\n",
       "      <td>Automobile</td>\n",
       "      <td>Owner</td>\n",
       "      <td>2-5yrs</td>\n",
       "      <td>No defect</td>\n",
       "      <td>Residential areas</td>\n",
       "      <td>Undivided Two way</td>\n",
       "      <td>Tangent road with flat terrain</td>\n",
       "      <td>Y Shape</td>\n",
       "      <td>Asphalt roads</td>\n",
       "      <td>Dry</td>\n",
       "      <td>Daylight</td>\n",
       "      <td>Normal</td>\n",
       "      <td>Collision with roadside-parked vehicles</td>\n",
       "      <td>2</td>\n",
       "      <td>1</td>\n",
       "      <td>U-Turn</td>\n",
       "      <td>Passenger</td>\n",
       "      <td>Male</td>\n",
       "      <td>18-30</td>\n",
       "      <td>3</td>\n",
       "      <td>Driver</td>\n",
       "      <td>Normal</td>\n",
       "      <td>Not a Pedestrian</td>\n",
       "      <td>Moving Backward</td>\n",
       "      <td>Serious Injury</td>\n",
       "    </tr>\n",
       "  </tbody>\n",
       "</table>\n",
       "</div>"
      ],
      "text/plain": [
       "       Time Day_of_week Age_band_of_driver Sex_of_driver   Educational_level  \\\n",
       "0  17:02:00      Monday              18-30          Male   Above high school   \n",
       "1  17:02:00      Monday              31-50          Male  Junior high school   \n",
       "2  17:02:00      Monday              18-30          Male  Junior high school   \n",
       "3   1:06:00      Sunday              18-30          Male  Junior high school   \n",
       "4   1:06:00      Sunday              18-30          Male  Junior high school   \n",
       "5  14:15:00      Friday              31-50          Male                 NaN   \n",
       "6  17:30:00   Wednesday              18-30          Male  Junior high school   \n",
       "7  17:20:00      Friday              18-30          Male  Junior high school   \n",
       "8  17:20:00      Friday              18-30          Male  Junior high school   \n",
       "9  17:20:00      Friday              18-30          Male  Junior high school   \n",
       "\n",
       "  Vehicle_driver_relation Driving_experience      Type_of_vehicle  \\\n",
       "0                Employee              1-2yr           Automobile   \n",
       "1                Employee         Above 10yr  Public (> 45 seats)   \n",
       "2                Employee              1-2yr      Lorry (41?100Q)   \n",
       "3                Employee             5-10yr  Public (> 45 seats)   \n",
       "4                Employee              2-5yr                  NaN   \n",
       "5                 Unknown                NaN                  NaN   \n",
       "6                Employee              2-5yr           Automobile   \n",
       "7                Employee              2-5yr           Automobile   \n",
       "8                Employee         Above 10yr      Lorry (41?100Q)   \n",
       "9                Employee              1-2yr           Automobile   \n",
       "\n",
       "  Owner_of_vehicle Service_year_of_vehicle Defect_of_vehicle  \\\n",
       "0            Owner              Above 10yr         No defect   \n",
       "1            Owner                 5-10yrs         No defect   \n",
       "2            Owner                     NaN         No defect   \n",
       "3     Governmental                     NaN         No defect   \n",
       "4            Owner                 5-10yrs         No defect   \n",
       "5              NaN                     NaN               NaN   \n",
       "6            Owner                     NaN         No defect   \n",
       "7     Governmental              Above 10yr         No defect   \n",
       "8            Owner                   1-2yr         No defect   \n",
       "9            Owner                  2-5yrs         No defect   \n",
       "\n",
       "  Area_accident_occured   Lanes_or_Medians  \\\n",
       "0     Residential areas                NaN   \n",
       "1          Office areas  Undivided Two way   \n",
       "2    Recreational areas              other   \n",
       "3          Office areas              other   \n",
       "4      Industrial areas              other   \n",
       "5                   NaN                NaN   \n",
       "6     Residential areas  Undivided Two way   \n",
       "7     Residential areas              other   \n",
       "8      Industrial areas              other   \n",
       "9     Residential areas  Undivided Two way   \n",
       "\n",
       "                                 Road_allignment Types_of_Junction  \\\n",
       "0                 Tangent road with flat terrain       No junction   \n",
       "1                 Tangent road with flat terrain       No junction   \n",
       "2                                            NaN       No junction   \n",
       "3  Tangent road with mild grade and flat terrain           Y Shape   \n",
       "4                 Tangent road with flat terrain           Y Shape   \n",
       "5                                            NaN           Y Shape   \n",
       "6                 Tangent road with flat terrain          Crossing   \n",
       "7                 Tangent road with flat terrain           Y Shape   \n",
       "8                 Tangent road with flat terrain           Y Shape   \n",
       "9                 Tangent road with flat terrain           Y Shape   \n",
       "\n",
       "  Road_surface_type Road_surface_conditions       Light_conditions  \\\n",
       "0     Asphalt roads                     Dry               Daylight   \n",
       "1     Asphalt roads                     Dry               Daylight   \n",
       "2     Asphalt roads                     Dry               Daylight   \n",
       "3       Earth roads                     Dry  Darkness - lights lit   \n",
       "4     Asphalt roads                     Dry  Darkness - lights lit   \n",
       "5               NaN                     Dry               Daylight   \n",
       "6               NaN                     Dry               Daylight   \n",
       "7     Asphalt roads                     Dry               Daylight   \n",
       "8       Earth roads                     Dry               Daylight   \n",
       "9     Asphalt roads                     Dry               Daylight   \n",
       "\n",
       "  Weather_conditions                        Type_of_collision  \\\n",
       "0             Normal  Collision with roadside-parked vehicles   \n",
       "1             Normal           Vehicle with vehicle collision   \n",
       "2             Normal          Collision with roadside objects   \n",
       "3             Normal           Vehicle with vehicle collision   \n",
       "4             Normal           Vehicle with vehicle collision   \n",
       "5             Normal           Vehicle with vehicle collision   \n",
       "6             Normal           Vehicle with vehicle collision   \n",
       "7             Normal           Vehicle with vehicle collision   \n",
       "8             Normal  Collision with roadside-parked vehicles   \n",
       "9             Normal  Collision with roadside-parked vehicles   \n",
       "\n",
       "   Number_of_vehicles_involved  Number_of_casualties Vehicle_movement  \\\n",
       "0                            2                     2   Going straight   \n",
       "1                            2                     2   Going straight   \n",
       "2                            2                     2   Going straight   \n",
       "3                            2                     2   Going straight   \n",
       "4                            2                     2   Going straight   \n",
       "5                            1                     1           U-Turn   \n",
       "6                            1                     1  Moving Backward   \n",
       "7                            2                     1           U-Turn   \n",
       "8                            2                     1   Going straight   \n",
       "9                            2                     1           U-Turn   \n",
       "\n",
       "    Casualty_class Sex_of_casualty Age_band_of_casualty Casualty_severity  \\\n",
       "0               na              na                   na                na   \n",
       "1               na              na                   na                na   \n",
       "2  Driver or rider            Male                31-50                 3   \n",
       "3       Pedestrian          Female                18-30                 3   \n",
       "4               na              na                   na                na   \n",
       "5  Driver or rider            Male                31-50                 3   \n",
       "6  Driver or rider          Female                18-30                 3   \n",
       "7               na              na                   na                na   \n",
       "8       Pedestrian            Male             Under 18                 3   \n",
       "9        Passenger            Male                18-30                 3   \n",
       "\n",
       "  Work_of_casuality Fitness_of_casuality              Pedestrian_movement  \\\n",
       "0               NaN                  NaN                 Not a Pedestrian   \n",
       "1               NaN                  NaN                 Not a Pedestrian   \n",
       "2            Driver                  NaN                 Not a Pedestrian   \n",
       "3            Driver               Normal                 Not a Pedestrian   \n",
       "4               NaN                  NaN                 Not a Pedestrian   \n",
       "5            Driver               Normal                 Not a Pedestrian   \n",
       "6            Driver               Normal                 Not a Pedestrian   \n",
       "7               NaN               Normal                 Not a Pedestrian   \n",
       "8            Driver               Normal  Crossing from driver's nearside   \n",
       "9            Driver               Normal                 Not a Pedestrian   \n",
       "\n",
       "            Cause_of_accident Accident_severity  \n",
       "0             Moving Backward     Slight Injury  \n",
       "1                  Overtaking     Slight Injury  \n",
       "2   Changing lane to the left    Serious Injury  \n",
       "3  Changing lane to the right     Slight Injury  \n",
       "4                  Overtaking     Slight Injury  \n",
       "5                 Overloading     Slight Injury  \n",
       "6                       Other     Slight Injury  \n",
       "7      No priority to vehicle     Slight Injury  \n",
       "8  Changing lane to the right     Slight Injury  \n",
       "9             Moving Backward    Serious Injury  "
      ]
     },
     "execution_count": 3,
     "metadata": {},
     "output_type": "execute_result"
    }
   ],
   "source": [
    "df.head(10)"
   ]
  },
  {
   "cell_type": "code",
   "execution_count": 4,
   "id": "e2f7cdcd",
   "metadata": {},
   "outputs": [
    {
     "data": {
      "text/html": [
       "<div>\n",
       "<style scoped>\n",
       "    .dataframe tbody tr th:only-of-type {\n",
       "        vertical-align: middle;\n",
       "    }\n",
       "\n",
       "    .dataframe tbody tr th {\n",
       "        vertical-align: top;\n",
       "    }\n",
       "\n",
       "    .dataframe thead th {\n",
       "        text-align: right;\n",
       "    }\n",
       "</style>\n",
       "<table border=\"1\" class=\"dataframe\">\n",
       "  <thead>\n",
       "    <tr style=\"text-align: right;\">\n",
       "      <th></th>\n",
       "      <th>Time</th>\n",
       "      <th>Day_of_week</th>\n",
       "      <th>Age_band_of_driver</th>\n",
       "      <th>Sex_of_driver</th>\n",
       "      <th>Educational_level</th>\n",
       "      <th>Vehicle_driver_relation</th>\n",
       "      <th>Driving_experience</th>\n",
       "      <th>Type_of_vehicle</th>\n",
       "      <th>Owner_of_vehicle</th>\n",
       "      <th>Service_year_of_vehicle</th>\n",
       "      <th>Defect_of_vehicle</th>\n",
       "      <th>Area_accident_occured</th>\n",
       "      <th>Lanes_or_Medians</th>\n",
       "      <th>Road_allignment</th>\n",
       "      <th>Types_of_Junction</th>\n",
       "      <th>Road_surface_type</th>\n",
       "      <th>Road_surface_conditions</th>\n",
       "      <th>Light_conditions</th>\n",
       "      <th>Weather_conditions</th>\n",
       "      <th>Type_of_collision</th>\n",
       "      <th>Number_of_vehicles_involved</th>\n",
       "      <th>Number_of_casualties</th>\n",
       "      <th>Vehicle_movement</th>\n",
       "      <th>Casualty_class</th>\n",
       "      <th>Sex_of_casualty</th>\n",
       "      <th>Age_band_of_casualty</th>\n",
       "      <th>Casualty_severity</th>\n",
       "      <th>Work_of_casuality</th>\n",
       "      <th>Fitness_of_casuality</th>\n",
       "      <th>Pedestrian_movement</th>\n",
       "      <th>Cause_of_accident</th>\n",
       "      <th>Accident_severity</th>\n",
       "    </tr>\n",
       "  </thead>\n",
       "  <tbody>\n",
       "    <tr>\n",
       "      <th>12311</th>\n",
       "      <td>16:15:00</td>\n",
       "      <td>Wednesday</td>\n",
       "      <td>31-50</td>\n",
       "      <td>Male</td>\n",
       "      <td>NaN</td>\n",
       "      <td>Employee</td>\n",
       "      <td>2-5yr</td>\n",
       "      <td>Lorry (11?40Q)</td>\n",
       "      <td>Owner</td>\n",
       "      <td>NaN</td>\n",
       "      <td>No defect</td>\n",
       "      <td>Outside rural areas</td>\n",
       "      <td>Undivided Two way</td>\n",
       "      <td>Tangent road with flat terrain</td>\n",
       "      <td>No junction</td>\n",
       "      <td>Asphalt roads</td>\n",
       "      <td>Dry</td>\n",
       "      <td>Daylight</td>\n",
       "      <td>Normal</td>\n",
       "      <td>Vehicle with vehicle collision</td>\n",
       "      <td>2</td>\n",
       "      <td>1</td>\n",
       "      <td>Going straight</td>\n",
       "      <td>na</td>\n",
       "      <td>na</td>\n",
       "      <td>na</td>\n",
       "      <td>na</td>\n",
       "      <td>Driver</td>\n",
       "      <td>Normal</td>\n",
       "      <td>Not a Pedestrian</td>\n",
       "      <td>No distancing</td>\n",
       "      <td>Slight Injury</td>\n",
       "    </tr>\n",
       "    <tr>\n",
       "      <th>12312</th>\n",
       "      <td>18:00:00</td>\n",
       "      <td>Sunday</td>\n",
       "      <td>Unknown</td>\n",
       "      <td>Male</td>\n",
       "      <td>Elementary school</td>\n",
       "      <td>Employee</td>\n",
       "      <td>5-10yr</td>\n",
       "      <td>Automobile</td>\n",
       "      <td>Owner</td>\n",
       "      <td>NaN</td>\n",
       "      <td>No defect</td>\n",
       "      <td>Outside rural areas</td>\n",
       "      <td>Two-way (divided with broken lines road marking)</td>\n",
       "      <td>Escarpments</td>\n",
       "      <td>No junction</td>\n",
       "      <td>Asphalt roads</td>\n",
       "      <td>Dry</td>\n",
       "      <td>Daylight</td>\n",
       "      <td>Normal</td>\n",
       "      <td>Vehicle with vehicle collision</td>\n",
       "      <td>2</td>\n",
       "      <td>1</td>\n",
       "      <td>Other</td>\n",
       "      <td>na</td>\n",
       "      <td>na</td>\n",
       "      <td>na</td>\n",
       "      <td>na</td>\n",
       "      <td>Driver</td>\n",
       "      <td>Normal</td>\n",
       "      <td>Not a Pedestrian</td>\n",
       "      <td>No distancing</td>\n",
       "      <td>Slight Injury</td>\n",
       "    </tr>\n",
       "    <tr>\n",
       "      <th>12313</th>\n",
       "      <td>13:55:00</td>\n",
       "      <td>Sunday</td>\n",
       "      <td>Over 51</td>\n",
       "      <td>Male</td>\n",
       "      <td>Junior high school</td>\n",
       "      <td>Employee</td>\n",
       "      <td>5-10yr</td>\n",
       "      <td>Bajaj</td>\n",
       "      <td>Owner</td>\n",
       "      <td>2-5yrs</td>\n",
       "      <td>No defect</td>\n",
       "      <td>Outside rural areas</td>\n",
       "      <td>Two-way (divided with broken lines road marking)</td>\n",
       "      <td>Tangent road with mountainous terrain and</td>\n",
       "      <td>No junction</td>\n",
       "      <td>Asphalt roads</td>\n",
       "      <td>Dry</td>\n",
       "      <td>Daylight</td>\n",
       "      <td>Normal</td>\n",
       "      <td>Vehicle with vehicle collision</td>\n",
       "      <td>1</td>\n",
       "      <td>1</td>\n",
       "      <td>Other</td>\n",
       "      <td>Driver or rider</td>\n",
       "      <td>Male</td>\n",
       "      <td>31-50</td>\n",
       "      <td>3</td>\n",
       "      <td>Driver</td>\n",
       "      <td>Normal</td>\n",
       "      <td>Not a Pedestrian</td>\n",
       "      <td>Changing lane to the right</td>\n",
       "      <td>Serious Injury</td>\n",
       "    </tr>\n",
       "    <tr>\n",
       "      <th>12314</th>\n",
       "      <td>13:55:00</td>\n",
       "      <td>Sunday</td>\n",
       "      <td>18-30</td>\n",
       "      <td>Female</td>\n",
       "      <td>Junior high school</td>\n",
       "      <td>Employee</td>\n",
       "      <td>Above 10yr</td>\n",
       "      <td>Lorry (41?100Q)</td>\n",
       "      <td>Owner</td>\n",
       "      <td>2-5yrs</td>\n",
       "      <td>No defect</td>\n",
       "      <td>Office areas</td>\n",
       "      <td>Undivided Two way</td>\n",
       "      <td>Tangent road with mountainous terrain and</td>\n",
       "      <td>No junction</td>\n",
       "      <td>Asphalt roads</td>\n",
       "      <td>Dry</td>\n",
       "      <td>Darkness - lights lit</td>\n",
       "      <td>Normal</td>\n",
       "      <td>Vehicle with vehicle collision</td>\n",
       "      <td>2</td>\n",
       "      <td>1</td>\n",
       "      <td>Other</td>\n",
       "      <td>na</td>\n",
       "      <td>na</td>\n",
       "      <td>na</td>\n",
       "      <td>na</td>\n",
       "      <td>Driver</td>\n",
       "      <td>Normal</td>\n",
       "      <td>Not a Pedestrian</td>\n",
       "      <td>Driving under the influence of drugs</td>\n",
       "      <td>Slight Injury</td>\n",
       "    </tr>\n",
       "    <tr>\n",
       "      <th>12315</th>\n",
       "      <td>13:55:00</td>\n",
       "      <td>Sunday</td>\n",
       "      <td>18-30</td>\n",
       "      <td>Male</td>\n",
       "      <td>Junior high school</td>\n",
       "      <td>Employee</td>\n",
       "      <td>5-10yr</td>\n",
       "      <td>Other</td>\n",
       "      <td>Owner</td>\n",
       "      <td>2-5yrs</td>\n",
       "      <td>No defect</td>\n",
       "      <td>Outside rural areas</td>\n",
       "      <td>Undivided Two way</td>\n",
       "      <td>Tangent road with mountainous terrain and</td>\n",
       "      <td>O Shape</td>\n",
       "      <td>Asphalt roads</td>\n",
       "      <td>Dry</td>\n",
       "      <td>Darkness - lights lit</td>\n",
       "      <td>Normal</td>\n",
       "      <td>Vehicle with vehicle collision</td>\n",
       "      <td>2</td>\n",
       "      <td>1</td>\n",
       "      <td>Stopping</td>\n",
       "      <td>Pedestrian</td>\n",
       "      <td>Female</td>\n",
       "      <td>5</td>\n",
       "      <td>3</td>\n",
       "      <td>Driver</td>\n",
       "      <td>Normal</td>\n",
       "      <td>Crossing from nearside - masked by parked or s...</td>\n",
       "      <td>Changing lane to the right</td>\n",
       "      <td>Slight Injury</td>\n",
       "    </tr>\n",
       "  </tbody>\n",
       "</table>\n",
       "</div>"
      ],
      "text/plain": [
       "           Time Day_of_week Age_band_of_driver Sex_of_driver  \\\n",
       "12311  16:15:00   Wednesday              31-50          Male   \n",
       "12312  18:00:00      Sunday            Unknown          Male   \n",
       "12313  13:55:00      Sunday            Over 51          Male   \n",
       "12314  13:55:00      Sunday              18-30        Female   \n",
       "12315  13:55:00      Sunday              18-30          Male   \n",
       "\n",
       "        Educational_level Vehicle_driver_relation Driving_experience  \\\n",
       "12311                 NaN                Employee              2-5yr   \n",
       "12312   Elementary school                Employee             5-10yr   \n",
       "12313  Junior high school                Employee             5-10yr   \n",
       "12314  Junior high school                Employee         Above 10yr   \n",
       "12315  Junior high school                Employee             5-10yr   \n",
       "\n",
       "       Type_of_vehicle Owner_of_vehicle Service_year_of_vehicle  \\\n",
       "12311   Lorry (11?40Q)            Owner                     NaN   \n",
       "12312       Automobile            Owner                     NaN   \n",
       "12313            Bajaj            Owner                  2-5yrs   \n",
       "12314  Lorry (41?100Q)            Owner                  2-5yrs   \n",
       "12315            Other            Owner                  2-5yrs   \n",
       "\n",
       "      Defect_of_vehicle Area_accident_occured  \\\n",
       "12311         No defect   Outside rural areas   \n",
       "12312         No defect   Outside rural areas   \n",
       "12313         No defect   Outside rural areas   \n",
       "12314         No defect          Office areas   \n",
       "12315         No defect   Outside rural areas   \n",
       "\n",
       "                                       Lanes_or_Medians  \\\n",
       "12311                                 Undivided Two way   \n",
       "12312  Two-way (divided with broken lines road marking)   \n",
       "12313  Two-way (divided with broken lines road marking)   \n",
       "12314                                 Undivided Two way   \n",
       "12315                                 Undivided Two way   \n",
       "\n",
       "                                 Road_allignment Types_of_Junction  \\\n",
       "12311             Tangent road with flat terrain       No junction   \n",
       "12312                                Escarpments       No junction   \n",
       "12313  Tangent road with mountainous terrain and       No junction   \n",
       "12314  Tangent road with mountainous terrain and       No junction   \n",
       "12315  Tangent road with mountainous terrain and           O Shape   \n",
       "\n",
       "      Road_surface_type Road_surface_conditions       Light_conditions  \\\n",
       "12311     Asphalt roads                     Dry               Daylight   \n",
       "12312     Asphalt roads                     Dry               Daylight   \n",
       "12313     Asphalt roads                     Dry               Daylight   \n",
       "12314     Asphalt roads                     Dry  Darkness - lights lit   \n",
       "12315     Asphalt roads                     Dry  Darkness - lights lit   \n",
       "\n",
       "      Weather_conditions               Type_of_collision  \\\n",
       "12311             Normal  Vehicle with vehicle collision   \n",
       "12312             Normal  Vehicle with vehicle collision   \n",
       "12313             Normal  Vehicle with vehicle collision   \n",
       "12314             Normal  Vehicle with vehicle collision   \n",
       "12315             Normal  Vehicle with vehicle collision   \n",
       "\n",
       "       Number_of_vehicles_involved  Number_of_casualties Vehicle_movement  \\\n",
       "12311                            2                     1   Going straight   \n",
       "12312                            2                     1            Other   \n",
       "12313                            1                     1            Other   \n",
       "12314                            2                     1            Other   \n",
       "12315                            2                     1         Stopping   \n",
       "\n",
       "        Casualty_class Sex_of_casualty Age_band_of_casualty Casualty_severity  \\\n",
       "12311               na              na                   na                na   \n",
       "12312               na              na                   na                na   \n",
       "12313  Driver or rider            Male                31-50                 3   \n",
       "12314               na              na                   na                na   \n",
       "12315       Pedestrian          Female                    5                 3   \n",
       "\n",
       "      Work_of_casuality Fitness_of_casuality  \\\n",
       "12311            Driver               Normal   \n",
       "12312            Driver               Normal   \n",
       "12313            Driver               Normal   \n",
       "12314            Driver               Normal   \n",
       "12315            Driver               Normal   \n",
       "\n",
       "                                     Pedestrian_movement  \\\n",
       "12311                                   Not a Pedestrian   \n",
       "12312                                   Not a Pedestrian   \n",
       "12313                                   Not a Pedestrian   \n",
       "12314                                   Not a Pedestrian   \n",
       "12315  Crossing from nearside - masked by parked or s...   \n",
       "\n",
       "                          Cause_of_accident Accident_severity  \n",
       "12311                         No distancing     Slight Injury  \n",
       "12312                         No distancing     Slight Injury  \n",
       "12313            Changing lane to the right    Serious Injury  \n",
       "12314  Driving under the influence of drugs     Slight Injury  \n",
       "12315            Changing lane to the right     Slight Injury  "
      ]
     },
     "execution_count": 4,
     "metadata": {},
     "output_type": "execute_result"
    }
   ],
   "source": [
    "df.tail(5)"
   ]
  },
  {
   "cell_type": "code",
   "execution_count": 5,
   "id": "306751e1",
   "metadata": {},
   "outputs": [
    {
     "data": {
      "text/html": [
       "<div>\n",
       "<style scoped>\n",
       "    .dataframe tbody tr th:only-of-type {\n",
       "        vertical-align: middle;\n",
       "    }\n",
       "\n",
       "    .dataframe tbody tr th {\n",
       "        vertical-align: top;\n",
       "    }\n",
       "\n",
       "    .dataframe thead th {\n",
       "        text-align: right;\n",
       "    }\n",
       "</style>\n",
       "<table border=\"1\" class=\"dataframe\">\n",
       "  <thead>\n",
       "    <tr style=\"text-align: right;\">\n",
       "      <th></th>\n",
       "      <th>Time</th>\n",
       "      <th>Day_of_week</th>\n",
       "      <th>Age_band_of_driver</th>\n",
       "      <th>Sex_of_driver</th>\n",
       "      <th>Educational_level</th>\n",
       "      <th>Vehicle_driver_relation</th>\n",
       "      <th>Driving_experience</th>\n",
       "      <th>Type_of_vehicle</th>\n",
       "      <th>Owner_of_vehicle</th>\n",
       "      <th>Service_year_of_vehicle</th>\n",
       "      <th>Defect_of_vehicle</th>\n",
       "      <th>Area_accident_occured</th>\n",
       "      <th>Lanes_or_Medians</th>\n",
       "      <th>Road_allignment</th>\n",
       "      <th>Types_of_Junction</th>\n",
       "      <th>Road_surface_type</th>\n",
       "      <th>Road_surface_conditions</th>\n",
       "      <th>Light_conditions</th>\n",
       "      <th>Weather_conditions</th>\n",
       "      <th>Type_of_collision</th>\n",
       "      <th>Number_of_vehicles_involved</th>\n",
       "      <th>Number_of_casualties</th>\n",
       "      <th>Vehicle_movement</th>\n",
       "      <th>Casualty_class</th>\n",
       "      <th>Sex_of_casualty</th>\n",
       "      <th>Age_band_of_casualty</th>\n",
       "      <th>Casualty_severity</th>\n",
       "      <th>Work_of_casuality</th>\n",
       "      <th>Fitness_of_casuality</th>\n",
       "      <th>Pedestrian_movement</th>\n",
       "      <th>Cause_of_accident</th>\n",
       "      <th>Accident_severity</th>\n",
       "    </tr>\n",
       "  </thead>\n",
       "  <tbody>\n",
       "    <tr>\n",
       "      <th>10336</th>\n",
       "      <td>13:00:00</td>\n",
       "      <td>Thursday</td>\n",
       "      <td>18-30</td>\n",
       "      <td>Male</td>\n",
       "      <td>Junior high school</td>\n",
       "      <td>Employee</td>\n",
       "      <td>Above 10yr</td>\n",
       "      <td>Pick up upto 10Q</td>\n",
       "      <td>Owner</td>\n",
       "      <td>5-10yrs</td>\n",
       "      <td>NaN</td>\n",
       "      <td>Other</td>\n",
       "      <td>Two-way (divided with broken lines road marking)</td>\n",
       "      <td>Tangent road with flat terrain</td>\n",
       "      <td>No junction</td>\n",
       "      <td>Asphalt roads</td>\n",
       "      <td>Wet or damp</td>\n",
       "      <td>Daylight</td>\n",
       "      <td>Raining</td>\n",
       "      <td>Vehicle with vehicle collision</td>\n",
       "      <td>2</td>\n",
       "      <td>1</td>\n",
       "      <td>Going straight</td>\n",
       "      <td>na</td>\n",
       "      <td>na</td>\n",
       "      <td>na</td>\n",
       "      <td>na</td>\n",
       "      <td>Driver</td>\n",
       "      <td>Normal</td>\n",
       "      <td>Not a Pedestrian</td>\n",
       "      <td>Driving carelessly</td>\n",
       "      <td>Serious Injury</td>\n",
       "    </tr>\n",
       "    <tr>\n",
       "      <th>4726</th>\n",
       "      <td>22:44:00</td>\n",
       "      <td>Friday</td>\n",
       "      <td>18-30</td>\n",
       "      <td>Male</td>\n",
       "      <td>Junior high school</td>\n",
       "      <td>Employee</td>\n",
       "      <td>5-10yr</td>\n",
       "      <td>Lorry (41?100Q)</td>\n",
       "      <td>Owner</td>\n",
       "      <td>Above 10yr</td>\n",
       "      <td>No defect</td>\n",
       "      <td>Other</td>\n",
       "      <td>One way</td>\n",
       "      <td>Steep grade downward with mountainous terrain</td>\n",
       "      <td>Y Shape</td>\n",
       "      <td>Asphalt roads</td>\n",
       "      <td>Dry</td>\n",
       "      <td>Darkness - lights lit</td>\n",
       "      <td>Normal</td>\n",
       "      <td>Collision with roadside objects</td>\n",
       "      <td>1</td>\n",
       "      <td>1</td>\n",
       "      <td>Other</td>\n",
       "      <td>Pedestrian</td>\n",
       "      <td>Male</td>\n",
       "      <td>Over 51</td>\n",
       "      <td>3</td>\n",
       "      <td>Driver</td>\n",
       "      <td>Normal</td>\n",
       "      <td>Not a Pedestrian</td>\n",
       "      <td>Changing lane to the left</td>\n",
       "      <td>Serious Injury</td>\n",
       "    </tr>\n",
       "    <tr>\n",
       "      <th>2057</th>\n",
       "      <td>17:43:00</td>\n",
       "      <td>Friday</td>\n",
       "      <td>18-30</td>\n",
       "      <td>Male</td>\n",
       "      <td>Above high school</td>\n",
       "      <td>Employee</td>\n",
       "      <td>2-5yr</td>\n",
       "      <td>Automobile</td>\n",
       "      <td>Owner</td>\n",
       "      <td>2-5yrs</td>\n",
       "      <td>No defect</td>\n",
       "      <td>Market areas</td>\n",
       "      <td>Undivided Two way</td>\n",
       "      <td>Tangent road with flat terrain</td>\n",
       "      <td>Crossing</td>\n",
       "      <td>Asphalt roads</td>\n",
       "      <td>Dry</td>\n",
       "      <td>Daylight</td>\n",
       "      <td>Normal</td>\n",
       "      <td>Collision with roadside objects</td>\n",
       "      <td>2</td>\n",
       "      <td>2</td>\n",
       "      <td>Going straight</td>\n",
       "      <td>Pedestrian</td>\n",
       "      <td>Male</td>\n",
       "      <td>Under 18</td>\n",
       "      <td>2</td>\n",
       "      <td>Driver</td>\n",
       "      <td>Normal</td>\n",
       "      <td>Crossing from nearside - masked by parked or s...</td>\n",
       "      <td>No priority to pedestrian</td>\n",
       "      <td>Slight Injury</td>\n",
       "    </tr>\n",
       "    <tr>\n",
       "      <th>11323</th>\n",
       "      <td>11:30:00</td>\n",
       "      <td>Thursday</td>\n",
       "      <td>18-30</td>\n",
       "      <td>Male</td>\n",
       "      <td>Junior high school</td>\n",
       "      <td>Employee</td>\n",
       "      <td>No Licence</td>\n",
       "      <td>Lorry (41?100Q)</td>\n",
       "      <td>Owner</td>\n",
       "      <td>NaN</td>\n",
       "      <td>No defect</td>\n",
       "      <td>Other</td>\n",
       "      <td>One way</td>\n",
       "      <td>Tangent road with flat terrain</td>\n",
       "      <td>NaN</td>\n",
       "      <td>Asphalt roads</td>\n",
       "      <td>Dry</td>\n",
       "      <td>Darkness - lights lit</td>\n",
       "      <td>Normal</td>\n",
       "      <td>Vehicle with vehicle collision</td>\n",
       "      <td>2</td>\n",
       "      <td>3</td>\n",
       "      <td>Entering a junction</td>\n",
       "      <td>na</td>\n",
       "      <td>na</td>\n",
       "      <td>na</td>\n",
       "      <td>na</td>\n",
       "      <td>Driver</td>\n",
       "      <td>Normal</td>\n",
       "      <td>Not a Pedestrian</td>\n",
       "      <td>Driving under the influence of drugs</td>\n",
       "      <td>Slight Injury</td>\n",
       "    </tr>\n",
       "    <tr>\n",
       "      <th>1408</th>\n",
       "      <td>9:45:00</td>\n",
       "      <td>Wednesday</td>\n",
       "      <td>18-30</td>\n",
       "      <td>Male</td>\n",
       "      <td>High school</td>\n",
       "      <td>Employee</td>\n",
       "      <td>Below 1yr</td>\n",
       "      <td>Public (&gt; 45 seats)</td>\n",
       "      <td>Owner</td>\n",
       "      <td>Above 10yr</td>\n",
       "      <td>No defect</td>\n",
       "      <td>School areas</td>\n",
       "      <td>other</td>\n",
       "      <td>Tangent road with flat terrain</td>\n",
       "      <td>Y Shape</td>\n",
       "      <td>Asphalt roads</td>\n",
       "      <td>Wet or damp</td>\n",
       "      <td>Daylight</td>\n",
       "      <td>Raining</td>\n",
       "      <td>Vehicle with vehicle collision</td>\n",
       "      <td>2</td>\n",
       "      <td>1</td>\n",
       "      <td>Reversing</td>\n",
       "      <td>na</td>\n",
       "      <td>na</td>\n",
       "      <td>na</td>\n",
       "      <td>na</td>\n",
       "      <td>Other</td>\n",
       "      <td>Normal</td>\n",
       "      <td>Not a Pedestrian</td>\n",
       "      <td>Changing lane to the left</td>\n",
       "      <td>Slight Injury</td>\n",
       "    </tr>\n",
       "  </tbody>\n",
       "</table>\n",
       "</div>"
      ],
      "text/plain": [
       "           Time Day_of_week Age_band_of_driver Sex_of_driver  \\\n",
       "10336  13:00:00    Thursday              18-30          Male   \n",
       "4726   22:44:00      Friday              18-30          Male   \n",
       "2057   17:43:00      Friday              18-30          Male   \n",
       "11323  11:30:00    Thursday              18-30          Male   \n",
       "1408    9:45:00   Wednesday              18-30          Male   \n",
       "\n",
       "        Educational_level Vehicle_driver_relation Driving_experience  \\\n",
       "10336  Junior high school                Employee         Above 10yr   \n",
       "4726   Junior high school                Employee             5-10yr   \n",
       "2057    Above high school                Employee              2-5yr   \n",
       "11323  Junior high school                Employee         No Licence   \n",
       "1408          High school                Employee          Below 1yr   \n",
       "\n",
       "           Type_of_vehicle Owner_of_vehicle Service_year_of_vehicle  \\\n",
       "10336     Pick up upto 10Q            Owner                 5-10yrs   \n",
       "4726       Lorry (41?100Q)            Owner              Above 10yr   \n",
       "2057            Automobile            Owner                  2-5yrs   \n",
       "11323      Lorry (41?100Q)            Owner                     NaN   \n",
       "1408   Public (> 45 seats)            Owner              Above 10yr   \n",
       "\n",
       "      Defect_of_vehicle Area_accident_occured  \\\n",
       "10336               NaN                 Other   \n",
       "4726          No defect                 Other   \n",
       "2057          No defect          Market areas   \n",
       "11323         No defect                 Other   \n",
       "1408          No defect          School areas   \n",
       "\n",
       "                                       Lanes_or_Medians  \\\n",
       "10336  Two-way (divided with broken lines road marking)   \n",
       "4726                                            One way   \n",
       "2057                                  Undivided Two way   \n",
       "11323                                           One way   \n",
       "1408                                              other   \n",
       "\n",
       "                                     Road_allignment Types_of_Junction  \\\n",
       "10336                 Tangent road with flat terrain       No junction   \n",
       "4726   Steep grade downward with mountainous terrain           Y Shape   \n",
       "2057                  Tangent road with flat terrain          Crossing   \n",
       "11323                 Tangent road with flat terrain               NaN   \n",
       "1408                  Tangent road with flat terrain           Y Shape   \n",
       "\n",
       "      Road_surface_type Road_surface_conditions       Light_conditions  \\\n",
       "10336     Asphalt roads             Wet or damp               Daylight   \n",
       "4726      Asphalt roads                     Dry  Darkness - lights lit   \n",
       "2057      Asphalt roads                     Dry               Daylight   \n",
       "11323     Asphalt roads                     Dry  Darkness - lights lit   \n",
       "1408      Asphalt roads             Wet or damp               Daylight   \n",
       "\n",
       "      Weather_conditions                Type_of_collision  \\\n",
       "10336            Raining   Vehicle with vehicle collision   \n",
       "4726              Normal  Collision with roadside objects   \n",
       "2057              Normal  Collision with roadside objects   \n",
       "11323             Normal   Vehicle with vehicle collision   \n",
       "1408             Raining   Vehicle with vehicle collision   \n",
       "\n",
       "       Number_of_vehicles_involved  Number_of_casualties     Vehicle_movement  \\\n",
       "10336                            2                     1       Going straight   \n",
       "4726                             1                     1                Other   \n",
       "2057                             2                     2       Going straight   \n",
       "11323                            2                     3  Entering a junction   \n",
       "1408                             2                     1            Reversing   \n",
       "\n",
       "      Casualty_class Sex_of_casualty Age_band_of_casualty Casualty_severity  \\\n",
       "10336             na              na                   na                na   \n",
       "4726      Pedestrian            Male              Over 51                 3   \n",
       "2057      Pedestrian            Male             Under 18                 2   \n",
       "11323             na              na                   na                na   \n",
       "1408              na              na                   na                na   \n",
       "\n",
       "      Work_of_casuality Fitness_of_casuality  \\\n",
       "10336            Driver               Normal   \n",
       "4726             Driver               Normal   \n",
       "2057             Driver               Normal   \n",
       "11323            Driver               Normal   \n",
       "1408              Other               Normal   \n",
       "\n",
       "                                     Pedestrian_movement  \\\n",
       "10336                                   Not a Pedestrian   \n",
       "4726                                    Not a Pedestrian   \n",
       "2057   Crossing from nearside - masked by parked or s...   \n",
       "11323                                   Not a Pedestrian   \n",
       "1408                                    Not a Pedestrian   \n",
       "\n",
       "                          Cause_of_accident Accident_severity  \n",
       "10336                    Driving carelessly    Serious Injury  \n",
       "4726              Changing lane to the left    Serious Injury  \n",
       "2057              No priority to pedestrian     Slight Injury  \n",
       "11323  Driving under the influence of drugs     Slight Injury  \n",
       "1408              Changing lane to the left     Slight Injury  "
      ]
     },
     "execution_count": 5,
     "metadata": {},
     "output_type": "execute_result"
    }
   ],
   "source": [
    "df.sample(5)"
   ]
  },
  {
   "cell_type": "markdown",
   "id": "7e32eefd",
   "metadata": {},
   "source": [
    "# ##Exploratory Data Analysis"
   ]
  },
  {
   "cell_type": "code",
   "execution_count": 6,
   "id": "68a59395",
   "metadata": {},
   "outputs": [
    {
     "data": {
      "text/plain": [
       "(12316, 32)"
      ]
     },
     "execution_count": 6,
     "metadata": {},
     "output_type": "execute_result"
    }
   ],
   "source": [
    "df.shape"
   ]
  },
  {
   "cell_type": "code",
   "execution_count": 7,
   "id": "337e7150",
   "metadata": {},
   "outputs": [
    {
     "data": {
      "text/html": [
       "<div>\n",
       "<style scoped>\n",
       "    .dataframe tbody tr th:only-of-type {\n",
       "        vertical-align: middle;\n",
       "    }\n",
       "\n",
       "    .dataframe tbody tr th {\n",
       "        vertical-align: top;\n",
       "    }\n",
       "\n",
       "    .dataframe thead th {\n",
       "        text-align: right;\n",
       "    }\n",
       "</style>\n",
       "<table border=\"1\" class=\"dataframe\">\n",
       "  <thead>\n",
       "    <tr style=\"text-align: right;\">\n",
       "      <th></th>\n",
       "      <th>Number_of_vehicles_involved</th>\n",
       "      <th>Number_of_casualties</th>\n",
       "    </tr>\n",
       "  </thead>\n",
       "  <tbody>\n",
       "    <tr>\n",
       "      <th>count</th>\n",
       "      <td>12316.000000</td>\n",
       "      <td>12316.000000</td>\n",
       "    </tr>\n",
       "    <tr>\n",
       "      <th>mean</th>\n",
       "      <td>2.040679</td>\n",
       "      <td>1.548149</td>\n",
       "    </tr>\n",
       "    <tr>\n",
       "      <th>std</th>\n",
       "      <td>0.688790</td>\n",
       "      <td>1.007179</td>\n",
       "    </tr>\n",
       "    <tr>\n",
       "      <th>min</th>\n",
       "      <td>1.000000</td>\n",
       "      <td>1.000000</td>\n",
       "    </tr>\n",
       "    <tr>\n",
       "      <th>25%</th>\n",
       "      <td>2.000000</td>\n",
       "      <td>1.000000</td>\n",
       "    </tr>\n",
       "    <tr>\n",
       "      <th>50%</th>\n",
       "      <td>2.000000</td>\n",
       "      <td>1.000000</td>\n",
       "    </tr>\n",
       "    <tr>\n",
       "      <th>75%</th>\n",
       "      <td>2.000000</td>\n",
       "      <td>2.000000</td>\n",
       "    </tr>\n",
       "    <tr>\n",
       "      <th>max</th>\n",
       "      <td>7.000000</td>\n",
       "      <td>8.000000</td>\n",
       "    </tr>\n",
       "  </tbody>\n",
       "</table>\n",
       "</div>"
      ],
      "text/plain": [
       "       Number_of_vehicles_involved  Number_of_casualties\n",
       "count                 12316.000000          12316.000000\n",
       "mean                      2.040679              1.548149\n",
       "std                       0.688790              1.007179\n",
       "min                       1.000000              1.000000\n",
       "25%                       2.000000              1.000000\n",
       "50%                       2.000000              1.000000\n",
       "75%                       2.000000              2.000000\n",
       "max                       7.000000              8.000000"
      ]
     },
     "execution_count": 7,
     "metadata": {},
     "output_type": "execute_result"
    }
   ],
   "source": [
    "df.describe()"
   ]
  },
  {
   "cell_type": "code",
   "execution_count": 8,
   "id": "2431b2a7",
   "metadata": {
    "scrolled": true
   },
   "outputs": [
    {
     "data": {
      "text/plain": [
       "Index(['Time', 'Day_of_week', 'Age_band_of_driver', 'Sex_of_driver',\n",
       "       'Educational_level', 'Vehicle_driver_relation', 'Driving_experience',\n",
       "       'Type_of_vehicle', 'Owner_of_vehicle', 'Service_year_of_vehicle',\n",
       "       'Defect_of_vehicle', 'Area_accident_occured', 'Lanes_or_Medians',\n",
       "       'Road_allignment', 'Types_of_Junction', 'Road_surface_type',\n",
       "       'Road_surface_conditions', 'Light_conditions', 'Weather_conditions',\n",
       "       'Type_of_collision', 'Number_of_vehicles_involved',\n",
       "       'Number_of_casualties', 'Vehicle_movement', 'Casualty_class',\n",
       "       'Sex_of_casualty', 'Age_band_of_casualty', 'Casualty_severity',\n",
       "       'Work_of_casuality', 'Fitness_of_casuality', 'Pedestrian_movement',\n",
       "       'Cause_of_accident', 'Accident_severity'],\n",
       "      dtype='object')"
      ]
     },
     "execution_count": 8,
     "metadata": {},
     "output_type": "execute_result"
    }
   ],
   "source": [
    "df.columns"
   ]
  },
  {
   "cell_type": "code",
   "execution_count": 9,
   "id": "1fd72185",
   "metadata": {},
   "outputs": [],
   "source": [
    "col_map={\n",
    "    'Time': 'time',\n",
    "    'Day_of_week': 'day_of_week',\n",
    "    'Age_band_of_driver': 'driver_age',\n",
    "    'Sex_of_driver': 'driver_sex',\n",
    "    'Educational_level': 'educational_level',\n",
    "    'Vehicle_driver_relation': 'vehicle_driver_relation',\n",
    "    'Driving_experience': 'driving_experience',\n",
    "    'Type_of_vehicle': 'vehicle_type',\n",
    "    'Owner_of_vehicle': 'vehicle_owner',\n",
    "    'Service_year_of_vehicle': 'service_year',\n",
    "    'Defect_of_vehicle': 'vehicle_defect',\n",
    "    'Area_accident_occured': 'accident_area',\n",
    "    'Lanes_or_Medians': 'lanes',\n",
    "    'Road_allignment': 'road_allignment',\n",
    "    'Types_of_Junction': 'junction_type',\n",
    "    'Road_surface_type': 'surface_type',\n",
    "    'Road_surface_conditions': 'road_surface_conditions',\n",
    "    'Light_conditions': 'light_condition',\n",
    "    'Weather_conditions': 'weather_condition',\n",
    "    'Type_of_collision': 'collision_type',\n",
    "    'Number_of_vehicles_involved': 'vehicles_involved',\n",
    "    'Number_of_casualties': 'casualties',\n",
    "    'Vehicle_movement': 'vehicle_movement',\n",
    "    'Casualty_class': 'casualty_class',\n",
    "    'Sex_of_casualty': 'casualty_sex' , \n",
    "    'Age_band_of_casualty': 'casualty_age', \n",
    "    'Casualty_severity': 'casualty_severity',\n",
    "    'Work_of_casuality': 'casualty_work', \n",
    "    'Fitness_of_casuality': 'casualty_fitness',\n",
    "    'Pedestrian_movement': 'pedestrian_movement',\n",
    "    'Cause_of_accident': 'accident_cause',\n",
    "    'Accident_severity': 'accident_severity'\n",
    "}\n",
    "df.rename(columns=col_map, inplace=True)"
   ]
  },
  {
   "cell_type": "code",
   "execution_count": 10,
   "id": "48027ebc",
   "metadata": {},
   "outputs": [
    {
     "data": {
      "text/html": [
       "<div>\n",
       "<style scoped>\n",
       "    .dataframe tbody tr th:only-of-type {\n",
       "        vertical-align: middle;\n",
       "    }\n",
       "\n",
       "    .dataframe tbody tr th {\n",
       "        vertical-align: top;\n",
       "    }\n",
       "\n",
       "    .dataframe thead th {\n",
       "        text-align: right;\n",
       "    }\n",
       "</style>\n",
       "<table border=\"1\" class=\"dataframe\">\n",
       "  <thead>\n",
       "    <tr style=\"text-align: right;\">\n",
       "      <th></th>\n",
       "      <th>time</th>\n",
       "      <th>day_of_week</th>\n",
       "      <th>driver_age</th>\n",
       "      <th>driver_sex</th>\n",
       "      <th>educational_level</th>\n",
       "      <th>vehicle_driver_relation</th>\n",
       "      <th>driving_experience</th>\n",
       "      <th>vehicle_type</th>\n",
       "      <th>vehicle_owner</th>\n",
       "      <th>service_year</th>\n",
       "      <th>vehicle_defect</th>\n",
       "      <th>accident_area</th>\n",
       "      <th>lanes</th>\n",
       "      <th>road_allignment</th>\n",
       "      <th>junction_type</th>\n",
       "      <th>surface_type</th>\n",
       "      <th>road_surface_conditions</th>\n",
       "      <th>light_condition</th>\n",
       "      <th>weather_condition</th>\n",
       "      <th>collision_type</th>\n",
       "      <th>vehicles_involved</th>\n",
       "      <th>casualties</th>\n",
       "      <th>vehicle_movement</th>\n",
       "      <th>casualty_class</th>\n",
       "      <th>casualty_sex</th>\n",
       "      <th>casualty_age</th>\n",
       "      <th>casualty_severity</th>\n",
       "      <th>casualty_work</th>\n",
       "      <th>casualty_fitness</th>\n",
       "      <th>pedestrian_movement</th>\n",
       "      <th>accident_cause</th>\n",
       "      <th>accident_severity</th>\n",
       "    </tr>\n",
       "  </thead>\n",
       "  <tbody>\n",
       "    <tr>\n",
       "      <th>0</th>\n",
       "      <td>17:02:00</td>\n",
       "      <td>Monday</td>\n",
       "      <td>18-30</td>\n",
       "      <td>Male</td>\n",
       "      <td>Above high school</td>\n",
       "      <td>Employee</td>\n",
       "      <td>1-2yr</td>\n",
       "      <td>Automobile</td>\n",
       "      <td>Owner</td>\n",
       "      <td>Above 10yr</td>\n",
       "      <td>No defect</td>\n",
       "      <td>Residential areas</td>\n",
       "      <td>NaN</td>\n",
       "      <td>Tangent road with flat terrain</td>\n",
       "      <td>No junction</td>\n",
       "      <td>Asphalt roads</td>\n",
       "      <td>Dry</td>\n",
       "      <td>Daylight</td>\n",
       "      <td>Normal</td>\n",
       "      <td>Collision with roadside-parked vehicles</td>\n",
       "      <td>2</td>\n",
       "      <td>2</td>\n",
       "      <td>Going straight</td>\n",
       "      <td>na</td>\n",
       "      <td>na</td>\n",
       "      <td>na</td>\n",
       "      <td>na</td>\n",
       "      <td>NaN</td>\n",
       "      <td>NaN</td>\n",
       "      <td>Not a Pedestrian</td>\n",
       "      <td>Moving Backward</td>\n",
       "      <td>Slight Injury</td>\n",
       "    </tr>\n",
       "    <tr>\n",
       "      <th>1</th>\n",
       "      <td>17:02:00</td>\n",
       "      <td>Monday</td>\n",
       "      <td>31-50</td>\n",
       "      <td>Male</td>\n",
       "      <td>Junior high school</td>\n",
       "      <td>Employee</td>\n",
       "      <td>Above 10yr</td>\n",
       "      <td>Public (&gt; 45 seats)</td>\n",
       "      <td>Owner</td>\n",
       "      <td>5-10yrs</td>\n",
       "      <td>No defect</td>\n",
       "      <td>Office areas</td>\n",
       "      <td>Undivided Two way</td>\n",
       "      <td>Tangent road with flat terrain</td>\n",
       "      <td>No junction</td>\n",
       "      <td>Asphalt roads</td>\n",
       "      <td>Dry</td>\n",
       "      <td>Daylight</td>\n",
       "      <td>Normal</td>\n",
       "      <td>Vehicle with vehicle collision</td>\n",
       "      <td>2</td>\n",
       "      <td>2</td>\n",
       "      <td>Going straight</td>\n",
       "      <td>na</td>\n",
       "      <td>na</td>\n",
       "      <td>na</td>\n",
       "      <td>na</td>\n",
       "      <td>NaN</td>\n",
       "      <td>NaN</td>\n",
       "      <td>Not a Pedestrian</td>\n",
       "      <td>Overtaking</td>\n",
       "      <td>Slight Injury</td>\n",
       "    </tr>\n",
       "    <tr>\n",
       "      <th>2</th>\n",
       "      <td>17:02:00</td>\n",
       "      <td>Monday</td>\n",
       "      <td>18-30</td>\n",
       "      <td>Male</td>\n",
       "      <td>Junior high school</td>\n",
       "      <td>Employee</td>\n",
       "      <td>1-2yr</td>\n",
       "      <td>Lorry (41?100Q)</td>\n",
       "      <td>Owner</td>\n",
       "      <td>NaN</td>\n",
       "      <td>No defect</td>\n",
       "      <td>Recreational areas</td>\n",
       "      <td>other</td>\n",
       "      <td>NaN</td>\n",
       "      <td>No junction</td>\n",
       "      <td>Asphalt roads</td>\n",
       "      <td>Dry</td>\n",
       "      <td>Daylight</td>\n",
       "      <td>Normal</td>\n",
       "      <td>Collision with roadside objects</td>\n",
       "      <td>2</td>\n",
       "      <td>2</td>\n",
       "      <td>Going straight</td>\n",
       "      <td>Driver or rider</td>\n",
       "      <td>Male</td>\n",
       "      <td>31-50</td>\n",
       "      <td>3</td>\n",
       "      <td>Driver</td>\n",
       "      <td>NaN</td>\n",
       "      <td>Not a Pedestrian</td>\n",
       "      <td>Changing lane to the left</td>\n",
       "      <td>Serious Injury</td>\n",
       "    </tr>\n",
       "    <tr>\n",
       "      <th>3</th>\n",
       "      <td>1:06:00</td>\n",
       "      <td>Sunday</td>\n",
       "      <td>18-30</td>\n",
       "      <td>Male</td>\n",
       "      <td>Junior high school</td>\n",
       "      <td>Employee</td>\n",
       "      <td>5-10yr</td>\n",
       "      <td>Public (&gt; 45 seats)</td>\n",
       "      <td>Governmental</td>\n",
       "      <td>NaN</td>\n",
       "      <td>No defect</td>\n",
       "      <td>Office areas</td>\n",
       "      <td>other</td>\n",
       "      <td>Tangent road with mild grade and flat terrain</td>\n",
       "      <td>Y Shape</td>\n",
       "      <td>Earth roads</td>\n",
       "      <td>Dry</td>\n",
       "      <td>Darkness - lights lit</td>\n",
       "      <td>Normal</td>\n",
       "      <td>Vehicle with vehicle collision</td>\n",
       "      <td>2</td>\n",
       "      <td>2</td>\n",
       "      <td>Going straight</td>\n",
       "      <td>Pedestrian</td>\n",
       "      <td>Female</td>\n",
       "      <td>18-30</td>\n",
       "      <td>3</td>\n",
       "      <td>Driver</td>\n",
       "      <td>Normal</td>\n",
       "      <td>Not a Pedestrian</td>\n",
       "      <td>Changing lane to the right</td>\n",
       "      <td>Slight Injury</td>\n",
       "    </tr>\n",
       "    <tr>\n",
       "      <th>4</th>\n",
       "      <td>1:06:00</td>\n",
       "      <td>Sunday</td>\n",
       "      <td>18-30</td>\n",
       "      <td>Male</td>\n",
       "      <td>Junior high school</td>\n",
       "      <td>Employee</td>\n",
       "      <td>2-5yr</td>\n",
       "      <td>NaN</td>\n",
       "      <td>Owner</td>\n",
       "      <td>5-10yrs</td>\n",
       "      <td>No defect</td>\n",
       "      <td>Industrial areas</td>\n",
       "      <td>other</td>\n",
       "      <td>Tangent road with flat terrain</td>\n",
       "      <td>Y Shape</td>\n",
       "      <td>Asphalt roads</td>\n",
       "      <td>Dry</td>\n",
       "      <td>Darkness - lights lit</td>\n",
       "      <td>Normal</td>\n",
       "      <td>Vehicle with vehicle collision</td>\n",
       "      <td>2</td>\n",
       "      <td>2</td>\n",
       "      <td>Going straight</td>\n",
       "      <td>na</td>\n",
       "      <td>na</td>\n",
       "      <td>na</td>\n",
       "      <td>na</td>\n",
       "      <td>NaN</td>\n",
       "      <td>NaN</td>\n",
       "      <td>Not a Pedestrian</td>\n",
       "      <td>Overtaking</td>\n",
       "      <td>Slight Injury</td>\n",
       "    </tr>\n",
       "  </tbody>\n",
       "</table>\n",
       "</div>"
      ],
      "text/plain": [
       "       time day_of_week driver_age driver_sex   educational_level  \\\n",
       "0  17:02:00      Monday      18-30       Male   Above high school   \n",
       "1  17:02:00      Monday      31-50       Male  Junior high school   \n",
       "2  17:02:00      Monday      18-30       Male  Junior high school   \n",
       "3   1:06:00      Sunday      18-30       Male  Junior high school   \n",
       "4   1:06:00      Sunday      18-30       Male  Junior high school   \n",
       "\n",
       "  vehicle_driver_relation driving_experience         vehicle_type  \\\n",
       "0                Employee              1-2yr           Automobile   \n",
       "1                Employee         Above 10yr  Public (> 45 seats)   \n",
       "2                Employee              1-2yr      Lorry (41?100Q)   \n",
       "3                Employee             5-10yr  Public (> 45 seats)   \n",
       "4                Employee              2-5yr                  NaN   \n",
       "\n",
       "  vehicle_owner service_year vehicle_defect         accident_area  \\\n",
       "0         Owner   Above 10yr      No defect     Residential areas   \n",
       "1         Owner      5-10yrs      No defect          Office areas   \n",
       "2         Owner          NaN      No defect    Recreational areas   \n",
       "3  Governmental          NaN      No defect          Office areas   \n",
       "4         Owner      5-10yrs      No defect      Industrial areas   \n",
       "\n",
       "               lanes                                road_allignment  \\\n",
       "0                NaN                 Tangent road with flat terrain   \n",
       "1  Undivided Two way                 Tangent road with flat terrain   \n",
       "2              other                                            NaN   \n",
       "3              other  Tangent road with mild grade and flat terrain   \n",
       "4              other                 Tangent road with flat terrain   \n",
       "\n",
       "  junction_type   surface_type road_surface_conditions        light_condition  \\\n",
       "0   No junction  Asphalt roads                     Dry               Daylight   \n",
       "1   No junction  Asphalt roads                     Dry               Daylight   \n",
       "2   No junction  Asphalt roads                     Dry               Daylight   \n",
       "3       Y Shape    Earth roads                     Dry  Darkness - lights lit   \n",
       "4       Y Shape  Asphalt roads                     Dry  Darkness - lights lit   \n",
       "\n",
       "  weather_condition                           collision_type  \\\n",
       "0            Normal  Collision with roadside-parked vehicles   \n",
       "1            Normal           Vehicle with vehicle collision   \n",
       "2            Normal          Collision with roadside objects   \n",
       "3            Normal           Vehicle with vehicle collision   \n",
       "4            Normal           Vehicle with vehicle collision   \n",
       "\n",
       "   vehicles_involved  casualties vehicle_movement   casualty_class  \\\n",
       "0                  2           2   Going straight               na   \n",
       "1                  2           2   Going straight               na   \n",
       "2                  2           2   Going straight  Driver or rider   \n",
       "3                  2           2   Going straight       Pedestrian   \n",
       "4                  2           2   Going straight               na   \n",
       "\n",
       "  casualty_sex casualty_age casualty_severity casualty_work casualty_fitness  \\\n",
       "0           na           na                na           NaN              NaN   \n",
       "1           na           na                na           NaN              NaN   \n",
       "2         Male        31-50                 3        Driver              NaN   \n",
       "3       Female        18-30                 3        Driver           Normal   \n",
       "4           na           na                na           NaN              NaN   \n",
       "\n",
       "  pedestrian_movement              accident_cause accident_severity  \n",
       "0    Not a Pedestrian             Moving Backward     Slight Injury  \n",
       "1    Not a Pedestrian                  Overtaking     Slight Injury  \n",
       "2    Not a Pedestrian   Changing lane to the left    Serious Injury  \n",
       "3    Not a Pedestrian  Changing lane to the right     Slight Injury  \n",
       "4    Not a Pedestrian                  Overtaking     Slight Injury  "
      ]
     },
     "execution_count": 10,
     "metadata": {},
     "output_type": "execute_result"
    }
   ],
   "source": [
    "df.head(5)"
   ]
  },
  {
   "cell_type": "code",
   "execution_count": 11,
   "id": "48e61252",
   "metadata": {},
   "outputs": [
    {
     "name": "stdout",
     "output_type": "stream",
     "text": [
      "<class 'pandas.core.frame.DataFrame'>\n",
      "RangeIndex: 12316 entries, 0 to 12315\n",
      "Data columns (total 32 columns):\n",
      " #   Column                   Non-Null Count  Dtype \n",
      "---  ------                   --------------  ----- \n",
      " 0   time                     12316 non-null  object\n",
      " 1   day_of_week              12316 non-null  object\n",
      " 2   driver_age               12316 non-null  object\n",
      " 3   driver_sex               12316 non-null  object\n",
      " 4   educational_level        11575 non-null  object\n",
      " 5   vehicle_driver_relation  11737 non-null  object\n",
      " 6   driving_experience       11487 non-null  object\n",
      " 7   vehicle_type             11366 non-null  object\n",
      " 8   vehicle_owner            11834 non-null  object\n",
      " 9   service_year             8388 non-null   object\n",
      " 10  vehicle_defect           7889 non-null   object\n",
      " 11  accident_area            12077 non-null  object\n",
      " 12  lanes                    11931 non-null  object\n",
      " 13  road_allignment          12174 non-null  object\n",
      " 14  junction_type            11429 non-null  object\n",
      " 15  surface_type             12144 non-null  object\n",
      " 16  road_surface_conditions  12316 non-null  object\n",
      " 17  light_condition          12316 non-null  object\n",
      " 18  weather_condition        12316 non-null  object\n",
      " 19  collision_type           12161 non-null  object\n",
      " 20  vehicles_involved        12316 non-null  int64 \n",
      " 21  casualties               12316 non-null  int64 \n",
      " 22  vehicle_movement         12008 non-null  object\n",
      " 23  casualty_class           12316 non-null  object\n",
      " 24  casualty_sex             12316 non-null  object\n",
      " 25  casualty_age             12316 non-null  object\n",
      " 26  casualty_severity        12316 non-null  object\n",
      " 27  casualty_work            9118 non-null   object\n",
      " 28  casualty_fitness         9681 non-null   object\n",
      " 29  pedestrian_movement      12316 non-null  object\n",
      " 30  accident_cause           12316 non-null  object\n",
      " 31  accident_severity        12316 non-null  object\n",
      "dtypes: int64(2), object(30)\n",
      "memory usage: 3.0+ MB\n"
     ]
    }
   ],
   "source": [
    "df.info()"
   ]
  },
  {
   "cell_type": "code",
   "execution_count": 11,
   "id": "e03d9184",
   "metadata": {},
   "outputs": [
    {
     "data": {
      "text/html": [
       "<div>\n",
       "<style scoped>\n",
       "    .dataframe tbody tr th:only-of-type {\n",
       "        vertical-align: middle;\n",
       "    }\n",
       "\n",
       "    .dataframe tbody tr th {\n",
       "        vertical-align: top;\n",
       "    }\n",
       "\n",
       "    .dataframe thead th {\n",
       "        text-align: right;\n",
       "    }\n",
       "</style>\n",
       "<table border=\"1\" class=\"dataframe\">\n",
       "  <thead>\n",
       "    <tr style=\"text-align: right;\">\n",
       "      <th></th>\n",
       "      <th>count</th>\n",
       "      <th>unique</th>\n",
       "      <th>top</th>\n",
       "      <th>freq</th>\n",
       "    </tr>\n",
       "  </thead>\n",
       "  <tbody>\n",
       "    <tr>\n",
       "      <th>time</th>\n",
       "      <td>12316</td>\n",
       "      <td>1074</td>\n",
       "      <td>15:30:00</td>\n",
       "      <td>120</td>\n",
       "    </tr>\n",
       "    <tr>\n",
       "      <th>day_of_week</th>\n",
       "      <td>12316</td>\n",
       "      <td>7</td>\n",
       "      <td>Friday</td>\n",
       "      <td>2041</td>\n",
       "    </tr>\n",
       "    <tr>\n",
       "      <th>driver_age</th>\n",
       "      <td>12316</td>\n",
       "      <td>5</td>\n",
       "      <td>18-30</td>\n",
       "      <td>4271</td>\n",
       "    </tr>\n",
       "    <tr>\n",
       "      <th>driver_sex</th>\n",
       "      <td>12316</td>\n",
       "      <td>3</td>\n",
       "      <td>Male</td>\n",
       "      <td>11437</td>\n",
       "    </tr>\n",
       "    <tr>\n",
       "      <th>educational_level</th>\n",
       "      <td>11575</td>\n",
       "      <td>7</td>\n",
       "      <td>Junior high school</td>\n",
       "      <td>7619</td>\n",
       "    </tr>\n",
       "    <tr>\n",
       "      <th>vehicle_driver_relation</th>\n",
       "      <td>11737</td>\n",
       "      <td>4</td>\n",
       "      <td>Employee</td>\n",
       "      <td>9627</td>\n",
       "    </tr>\n",
       "    <tr>\n",
       "      <th>driving_experience</th>\n",
       "      <td>11487</td>\n",
       "      <td>7</td>\n",
       "      <td>5-10yr</td>\n",
       "      <td>3363</td>\n",
       "    </tr>\n",
       "    <tr>\n",
       "      <th>vehicle_type</th>\n",
       "      <td>11366</td>\n",
       "      <td>17</td>\n",
       "      <td>Automobile</td>\n",
       "      <td>3205</td>\n",
       "    </tr>\n",
       "    <tr>\n",
       "      <th>vehicle_owner</th>\n",
       "      <td>11834</td>\n",
       "      <td>4</td>\n",
       "      <td>Owner</td>\n",
       "      <td>10459</td>\n",
       "    </tr>\n",
       "    <tr>\n",
       "      <th>service_year</th>\n",
       "      <td>8388</td>\n",
       "      <td>6</td>\n",
       "      <td>Unknown</td>\n",
       "      <td>2883</td>\n",
       "    </tr>\n",
       "    <tr>\n",
       "      <th>vehicle_defect</th>\n",
       "      <td>7889</td>\n",
       "      <td>3</td>\n",
       "      <td>No defect</td>\n",
       "      <td>7777</td>\n",
       "    </tr>\n",
       "    <tr>\n",
       "      <th>accident_area</th>\n",
       "      <td>12077</td>\n",
       "      <td>14</td>\n",
       "      <td>Other</td>\n",
       "      <td>3819</td>\n",
       "    </tr>\n",
       "    <tr>\n",
       "      <th>lanes</th>\n",
       "      <td>11931</td>\n",
       "      <td>7</td>\n",
       "      <td>Two-way (divided with broken lines road marking)</td>\n",
       "      <td>4411</td>\n",
       "    </tr>\n",
       "    <tr>\n",
       "      <th>road_allignment</th>\n",
       "      <td>12174</td>\n",
       "      <td>9</td>\n",
       "      <td>Tangent road with flat terrain</td>\n",
       "      <td>10459</td>\n",
       "    </tr>\n",
       "    <tr>\n",
       "      <th>junction_type</th>\n",
       "      <td>11429</td>\n",
       "      <td>8</td>\n",
       "      <td>Y Shape</td>\n",
       "      <td>4543</td>\n",
       "    </tr>\n",
       "    <tr>\n",
       "      <th>surface_type</th>\n",
       "      <td>12144</td>\n",
       "      <td>5</td>\n",
       "      <td>Asphalt roads</td>\n",
       "      <td>11296</td>\n",
       "    </tr>\n",
       "    <tr>\n",
       "      <th>road_surface_conditions</th>\n",
       "      <td>12316</td>\n",
       "      <td>4</td>\n",
       "      <td>Dry</td>\n",
       "      <td>9340</td>\n",
       "    </tr>\n",
       "    <tr>\n",
       "      <th>light_condition</th>\n",
       "      <td>12316</td>\n",
       "      <td>4</td>\n",
       "      <td>Daylight</td>\n",
       "      <td>8798</td>\n",
       "    </tr>\n",
       "    <tr>\n",
       "      <th>weather_condition</th>\n",
       "      <td>12316</td>\n",
       "      <td>9</td>\n",
       "      <td>Normal</td>\n",
       "      <td>10063</td>\n",
       "    </tr>\n",
       "    <tr>\n",
       "      <th>collision_type</th>\n",
       "      <td>12161</td>\n",
       "      <td>10</td>\n",
       "      <td>Vehicle with vehicle collision</td>\n",
       "      <td>8774</td>\n",
       "    </tr>\n",
       "    <tr>\n",
       "      <th>vehicle_movement</th>\n",
       "      <td>12008</td>\n",
       "      <td>13</td>\n",
       "      <td>Going straight</td>\n",
       "      <td>8158</td>\n",
       "    </tr>\n",
       "    <tr>\n",
       "      <th>casualty_class</th>\n",
       "      <td>12316</td>\n",
       "      <td>4</td>\n",
       "      <td>Driver or rider</td>\n",
       "      <td>4944</td>\n",
       "    </tr>\n",
       "    <tr>\n",
       "      <th>casualty_sex</th>\n",
       "      <td>12316</td>\n",
       "      <td>3</td>\n",
       "      <td>Male</td>\n",
       "      <td>5253</td>\n",
       "    </tr>\n",
       "    <tr>\n",
       "      <th>casualty_age</th>\n",
       "      <td>12316</td>\n",
       "      <td>6</td>\n",
       "      <td>na</td>\n",
       "      <td>4443</td>\n",
       "    </tr>\n",
       "    <tr>\n",
       "      <th>casualty_severity</th>\n",
       "      <td>12316</td>\n",
       "      <td>4</td>\n",
       "      <td>3</td>\n",
       "      <td>7076</td>\n",
       "    </tr>\n",
       "    <tr>\n",
       "      <th>casualty_work</th>\n",
       "      <td>9118</td>\n",
       "      <td>7</td>\n",
       "      <td>Driver</td>\n",
       "      <td>5903</td>\n",
       "    </tr>\n",
       "    <tr>\n",
       "      <th>casualty_fitness</th>\n",
       "      <td>9681</td>\n",
       "      <td>5</td>\n",
       "      <td>Normal</td>\n",
       "      <td>9608</td>\n",
       "    </tr>\n",
       "    <tr>\n",
       "      <th>pedestrian_movement</th>\n",
       "      <td>12316</td>\n",
       "      <td>9</td>\n",
       "      <td>Not a Pedestrian</td>\n",
       "      <td>11390</td>\n",
       "    </tr>\n",
       "    <tr>\n",
       "      <th>accident_cause</th>\n",
       "      <td>12316</td>\n",
       "      <td>20</td>\n",
       "      <td>No distancing</td>\n",
       "      <td>2263</td>\n",
       "    </tr>\n",
       "    <tr>\n",
       "      <th>accident_severity</th>\n",
       "      <td>12316</td>\n",
       "      <td>3</td>\n",
       "      <td>Slight Injury</td>\n",
       "      <td>10415</td>\n",
       "    </tr>\n",
       "  </tbody>\n",
       "</table>\n",
       "</div>"
      ],
      "text/plain": [
       "                         count unique  \\\n",
       "time                     12316   1074   \n",
       "day_of_week              12316      7   \n",
       "driver_age               12316      5   \n",
       "driver_sex               12316      3   \n",
       "educational_level        11575      7   \n",
       "vehicle_driver_relation  11737      4   \n",
       "driving_experience       11487      7   \n",
       "vehicle_type             11366     17   \n",
       "vehicle_owner            11834      4   \n",
       "service_year              8388      6   \n",
       "vehicle_defect            7889      3   \n",
       "accident_area            12077     14   \n",
       "lanes                    11931      7   \n",
       "road_allignment          12174      9   \n",
       "junction_type            11429      8   \n",
       "surface_type             12144      5   \n",
       "road_surface_conditions  12316      4   \n",
       "light_condition          12316      4   \n",
       "weather_condition        12316      9   \n",
       "collision_type           12161     10   \n",
       "vehicle_movement         12008     13   \n",
       "casualty_class           12316      4   \n",
       "casualty_sex             12316      3   \n",
       "casualty_age             12316      6   \n",
       "casualty_severity        12316      4   \n",
       "casualty_work             9118      7   \n",
       "casualty_fitness          9681      5   \n",
       "pedestrian_movement      12316      9   \n",
       "accident_cause           12316     20   \n",
       "accident_severity        12316      3   \n",
       "\n",
       "                                                                      top  \\\n",
       "time                                                             15:30:00   \n",
       "day_of_week                                                        Friday   \n",
       "driver_age                                                          18-30   \n",
       "driver_sex                                                           Male   \n",
       "educational_level                                      Junior high school   \n",
       "vehicle_driver_relation                                          Employee   \n",
       "driving_experience                                                 5-10yr   \n",
       "vehicle_type                                                   Automobile   \n",
       "vehicle_owner                                                       Owner   \n",
       "service_year                                                      Unknown   \n",
       "vehicle_defect                                                  No defect   \n",
       "accident_area                                                       Other   \n",
       "lanes                    Two-way (divided with broken lines road marking)   \n",
       "road_allignment                            Tangent road with flat terrain   \n",
       "junction_type                                                     Y Shape   \n",
       "surface_type                                                Asphalt roads   \n",
       "road_surface_conditions                                               Dry   \n",
       "light_condition                                                  Daylight   \n",
       "weather_condition                                                  Normal   \n",
       "collision_type                             Vehicle with vehicle collision   \n",
       "vehicle_movement                                           Going straight   \n",
       "casualty_class                                            Driver or rider   \n",
       "casualty_sex                                                         Male   \n",
       "casualty_age                                                           na   \n",
       "casualty_severity                                                       3   \n",
       "casualty_work                                                      Driver   \n",
       "casualty_fitness                                                   Normal   \n",
       "pedestrian_movement                                      Not a Pedestrian   \n",
       "accident_cause                                              No distancing   \n",
       "accident_severity                                           Slight Injury   \n",
       "\n",
       "                          freq  \n",
       "time                       120  \n",
       "day_of_week               2041  \n",
       "driver_age                4271  \n",
       "driver_sex               11437  \n",
       "educational_level         7619  \n",
       "vehicle_driver_relation   9627  \n",
       "driving_experience        3363  \n",
       "vehicle_type              3205  \n",
       "vehicle_owner            10459  \n",
       "service_year              2883  \n",
       "vehicle_defect            7777  \n",
       "accident_area             3819  \n",
       "lanes                     4411  \n",
       "road_allignment          10459  \n",
       "junction_type             4543  \n",
       "surface_type             11296  \n",
       "road_surface_conditions   9340  \n",
       "light_condition           8798  \n",
       "weather_condition        10063  \n",
       "collision_type            8774  \n",
       "vehicle_movement          8158  \n",
       "casualty_class            4944  \n",
       "casualty_sex              5253  \n",
       "casualty_age              4443  \n",
       "casualty_severity         7076  \n",
       "casualty_work             5903  \n",
       "casualty_fitness          9608  \n",
       "pedestrian_movement      11390  \n",
       "accident_cause            2263  \n",
       "accident_severity        10415  "
      ]
     },
     "execution_count": 11,
     "metadata": {},
     "output_type": "execute_result"
    }
   ],
   "source": [
    "df.describe(include=['O']).T # to include categorical columns"
   ]
  },
  {
   "cell_type": "markdown",
   "id": "6bbd9fae",
   "metadata": {},
   "source": [
    "#### isna(): Detect missing values"
   ]
  },
  {
   "cell_type": "code",
   "execution_count": 12,
   "id": "9e1304e7",
   "metadata": {},
   "outputs": [
    {
     "data": {
      "text/plain": [
       "time                          0\n",
       "day_of_week                   0\n",
       "driver_age                    0\n",
       "driver_sex                    0\n",
       "educational_level           741\n",
       "vehicle_driver_relation     579\n",
       "driving_experience          829\n",
       "vehicle_type                950\n",
       "vehicle_owner               482\n",
       "service_year               3928\n",
       "vehicle_defect             4427\n",
       "accident_area               239\n",
       "lanes                       385\n",
       "road_allignment             142\n",
       "junction_type               887\n",
       "surface_type                172\n",
       "road_surface_conditions       0\n",
       "light_condition               0\n",
       "weather_condition             0\n",
       "collision_type              155\n",
       "vehicles_involved             0\n",
       "casualties                    0\n",
       "vehicle_movement            308\n",
       "casualty_class                0\n",
       "casualty_sex                  0\n",
       "casualty_age                  0\n",
       "casualty_severity             0\n",
       "casualty_work              3198\n",
       "casualty_fitness           2635\n",
       "pedestrian_movement           0\n",
       "accident_cause                0\n",
       "accident_severity             0\n",
       "dtype: int64"
      ]
     },
     "execution_count": 12,
     "metadata": {},
     "output_type": "execute_result"
    }
   ],
   "source": [
    "df.isna().sum() # add .sum() to get total count of missing values in column"
   ]
  },
  {
   "cell_type": "markdown",
   "id": "f2f4e66e",
   "metadata": {},
   "source": [
    "## duplicated(): Detect duplicate values."
   ]
  },
  {
   "cell_type": "code",
   "execution_count": 13,
   "id": "ac2b2b04",
   "metadata": {},
   "outputs": [
    {
     "name": "stdout",
     "output_type": "stream",
     "text": [
      "Number of duplicates:  0\n"
     ]
    }
   ],
   "source": [
    "print(\"Number of duplicates: \", df.duplicated().sum())"
   ]
  },
  {
   "cell_type": "code",
   "execution_count": 14,
   "id": "333e21ad",
   "metadata": {
    "scrolled": false
   },
   "outputs": [
    {
     "name": "stdout",
     "output_type": "stream",
     "text": [
      "Unique values per column:\n"
     ]
    },
    {
     "data": {
      "text/plain": [
       "time                       1074\n",
       "day_of_week                   7\n",
       "driver_age                    5\n",
       "driver_sex                    3\n",
       "educational_level             7\n",
       "vehicle_driver_relation       4\n",
       "driving_experience            7\n",
       "vehicle_type                 17\n",
       "vehicle_owner                 4\n",
       "service_year                  6\n",
       "vehicle_defect                3\n",
       "accident_area                14\n",
       "lanes                         7\n",
       "road_allignment               9\n",
       "junction_type                 8\n",
       "surface_type                  5\n",
       "road_surface_conditions       4\n",
       "light_condition               4\n",
       "weather_condition             9\n",
       "collision_type               10\n",
       "vehicles_involved             6\n",
       "casualties                    8\n",
       "vehicle_movement             13\n",
       "casualty_class                4\n",
       "casualty_sex                  3\n",
       "casualty_age                  6\n",
       "casualty_severity             4\n",
       "casualty_work                 7\n",
       "casualty_fitness              5\n",
       "pedestrian_movement           9\n",
       "accident_cause               20\n",
       "accident_severity             3\n",
       "dtype: int64"
      ]
     },
     "execution_count": 14,
     "metadata": {},
     "output_type": "execute_result"
    }
   ],
   "source": [
    "print(\"Unique values per column:\")\n",
    "df.nunique()"
   ]
  },
  {
   "cell_type": "code",
   "execution_count": 15,
   "id": "2d644829",
   "metadata": {},
   "outputs": [
    {
     "data": {
      "image/png": "[encoded data removed]",
      "text/plain": [
       "<Figure size 1008x504 with 2 Axes>"
      ]
     },
     "metadata": {},
     "output_type": "display_data"
    }
   ],
   "source": [
    "# checking the target\n",
    "plt.figure(figsize=(14,7))\n",
    "\n",
    "# barplot\n",
    "ax1 = plt.subplot(1,2,1)\n",
    "cp = sns.countplot(x=df[\"accident_severity\"])\n",
    "ax1.set_xlabel(\" \")\n",
    "ax1.set_ylabel(\" \")\n",
    "plt.xticks(fontsize=14)\n",
    "plt.yticks(fontsize=14)\n",
    "sns.despine(top=True, right=True)\n",
    "\n",
    "# pieplot\n",
    "ax2 = plt.subplot(1,2,2)\n",
    "plt.pie(df[\"accident_severity\"].value_counts(),\n",
    "        labels=list(df[\"accident_severity\"].unique()),\n",
    "        autopct='%1.2f%%',\n",
    "        pctdistance=0.8,\n",
    "        shadow=True,\n",
    "        radius=1.4,\n",
    "        #textprops={'fontsize':14}\n",
    "       )\n",
    "ax2.set_xlabel(\" \")\n",
    "plt.xlabel('Composition of \"Accident Severity\"', fontsize=15, labelpad=20)\n",
    "plt.subplots_adjust(wspace=0.4)\n",
    "plt.show()"
   ]
  },
  {
   "cell_type": "code",
   "execution_count": 16,
   "id": "648287a9",
   "metadata": {},
   "outputs": [
    {
     "data": {
      "text/html": [
       "        <script type=\"text/javascript\">\n",
       "        window.PlotlyConfig = {MathJaxConfig: 'local'};\n",
       "        if (window.MathJax) {MathJax.Hub.Config({SVG: {font: \"STIX-Web\"}});}\n",
       "        if (typeof require !== 'undefined') {\n",
       "        require.undef(\"plotly\");\n",
       "        requirejs.config({\n",
       "            paths: {\n",
       "                'plotly': ['https://cdn.plot.ly/plotly-2.9.0.min']\n",
       "            }\n",
       "        });\n",
       "        require(['plotly'], function(Plotly) {\n",
       "            window._Plotly = Plotly;\n",
       "        });\n",
       "        }\n",
       "        </script>\n",
       "        "
      ]
     },
     "metadata": {},
     "output_type": "display_data"
    },
    {
     "data": {
      "application/vnd.plotly.v1+json": {
       "config": {
        "linkText": "Export to plot.ly",
        "plotlyServerURL": "https://plot.ly",
        "showLink": false
       },
       "data": [
        {
         "branchvalues": "total",
         "domain": {
          "x": [
           0,
           1
          ],
          "y": [
           0,
           1
          ]
         },
         "hovertemplate": "labels=%{label}<br>count=%{value}<br>parent=%{parent}<br>id=%{id}<extra></extra>",
         "ids": [
          "Changing lane to the left",
          "Changing lane to the right",
          "Driving at high speed",
          "Driving carelessly",
          "Driving to the left",
          "Driving under the influence of drugs",
          "Drunk driving",
          "Getting off the vehicle improperly",
          "Improper parking",
          "Moving Backward",
          "No distancing",
          "No priority to pedestrian",
          "No priority to vehicle",
          "Other",
          "Overloading",
          "Overspeed",
          "Overtaking",
          "Overturning",
          "Turnover",
          "Unknown"
         ],
         "labels": [
          "Changing lane to the left",
          "Changing lane to the right",
          "Driving at high speed",
          "Driving carelessly",
          "Driving to the left",
          "Driving under the influence of drugs",
          "Drunk driving",
          "Getting off the vehicle improperly",
          "Improper parking",
          "Moving Backward",
          "No distancing",
          "No priority to pedestrian",
          "No priority to vehicle",
          "Other",
          "Overloading",
          "Overspeed",
          "Overtaking",
          "Overturning",
          "Turnover",
          "Unknown"
         ],
         "name": "",
         "parents": [
          "",
          "",
          "",
          "",
          "",
          "",
          "",
          "",
          "",
          "",
          "",
          "",
          "",
          "",
          "",
          "",
          "",
          "",
          "",
          ""
         ],
         "type": "treemap",
         "values": [
          1473,
          1808,
          174,
          1402,
          284,
          340,
          27,
          197,
          25,
          1137,
          2263,
          721,
          1207,
          456,
          59,
          61,
          430,
          149,
          78,
          25
         ]
        }
       ],
       "layout": {
        "height": 400,
        "legend": {
         "tracegroupgap": 0
        },
        "margin": {
         "b": 25,
         "l": 25,
         "r": 25,
         "t": 50
        },
        "template": {
         "data": {
          "bar": [
           {
            "error_x": {
             "color": "#2a3f5f"
            },
            "error_y": {
             "color": "#2a3f5f"
            },
            "marker": {
             "line": {
              "color": "#E5ECF6",
              "width": 0.5
             },
             "pattern": {
              "fillmode": "overlay",
              "size": 10,
              "solidity": 0.2
             }
            },
            "type": "bar"
           }
          ],
          "barpolar": [
           {
            "marker": {
             "line": {
              "color": "#E5ECF6",
              "width": 0.5
             },
             "pattern": {
              "fillmode": "overlay",
              "size": 10,
              "solidity": 0.2
             }
            },
            "type": "barpolar"
           }
          ],
          "carpet": [
           {
            "aaxis": {
             "endlinecolor": "#2a3f5f",
             "gridcolor": "white",
             "linecolor": "white",
             "minorgridcolor": "white",
             "startlinecolor": "#2a3f5f"
            },
            "baxis": {
             "endlinecolor": "#2a3f5f",
             "gridcolor": "white",
             "linecolor": "white",
             "minorgridcolor": "white",
             "startlinecolor": "#2a3f5f"
            },
            "type": "carpet"
           }
          ],
          "choropleth": [
           {
            "colorbar": {
             "outlinewidth": 0,
             "ticks": ""
            },
            "type": "choropleth"
           }
          ],
          "contour": [
           {
            "colorbar": {
             "outlinewidth": 0,
             "ticks": ""
            },
            "colorscale": [
             [
              0,
              "#0d0887"
             ],
             [
              0.1111111111111111,
              "#46039f"
             ],
             [
              0.2222222222222222,
              "#7201a8"
             ],
             [
              0.3333333333333333,
              "#9c179e"
             ],
             [
              0.4444444444444444,
              "#bd3786"
             ],
             [
              0.5555555555555556,
              "#d8576b"
             ],
             [
              0.6666666666666666,
              "#ed7953"
             ],
             [
              0.7777777777777778,
              "#fb9f3a"
             ],
             [
              0.8888888888888888,
              "#fdca26"
             ],
             [
              1,
              "#f0f921"
             ]
            ],
            "type": "contour"
           }
          ],
          "contourcarpet": [
           {
            "colorbar": {
             "outlinewidth": 0,
             "ticks": ""
            },
            "type": "contourcarpet"
           }
          ],
          "heatmap": [
           {
            "colorbar": {
             "outlinewidth": 0,
             "ticks": ""
            },
            "colorscale": [
             [
              0,
              "#0d0887"
             ],
             [
              0.1111111111111111,
              "#46039f"
             ],
             [
              0.2222222222222222,
              "#7201a8"
             ],
             [
              0.3333333333333333,
              "#9c179e"
             ],
             [
              0.4444444444444444,
              "#bd3786"
             ],
             [
              0.5555555555555556,
              "#d8576b"
             ],
             [
              0.6666666666666666,
              "#ed7953"
             ],
             [
              0.7777777777777778,
              "#fb9f3a"
             ],
             [
              0.8888888888888888,
              "#fdca26"
             ],
             [
              1,
              "#f0f921"
             ]
            ],
            "type": "heatmap"
           }
          ],
          "heatmapgl": [
           {
            "colorbar": {
             "outlinewidth": 0,
             "ticks": ""
            },
            "colorscale": [
             [
              0,
              "#0d0887"
             ],
             [
              0.1111111111111111,
              "#46039f"
             ],
             [
              0.2222222222222222,
              "#7201a8"
             ],
             [
              0.3333333333333333,
              "#9c179e"
             ],
             [
              0.4444444444444444,
              "#bd3786"
             ],
             [
              0.5555555555555556,
              "#d8576b"
             ],
             [
              0.6666666666666666,
              "#ed7953"
             ],
             [
              0.7777777777777778,
              "#fb9f3a"
             ],
             [
              0.8888888888888888,
              "#fdca26"
             ],
             [
              1,
              "#f0f921"
             ]
            ],
            "type": "heatmapgl"
           }
          ],
          "histogram": [
           {
            "marker": {
             "pattern": {
              "fillmode": "overlay",
              "size": 10,
              "solidity": 0.2
             }
            },
            "type": "histogram"
           }
          ],
          "histogram2d": [
           {
            "colorbar": {
             "outlinewidth": 0,
             "ticks": ""
            },
            "colorscale": [
             [
              0,
              "#0d0887"
             ],
             [
              0.1111111111111111,
              "#46039f"
             ],
             [
              0.2222222222222222,
              "#7201a8"
             ],
             [
              0.3333333333333333,
              "#9c179e"
             ],
             [
              0.4444444444444444,
              "#bd3786"
             ],
             [
              0.5555555555555556,
              "#d8576b"
             ],
             [
              0.6666666666666666,
              "#ed7953"
             ],
             [
              0.7777777777777778,
              "#fb9f3a"
             ],
             [
              0.8888888888888888,
              "#fdca26"
             ],
             [
              1,
              "#f0f921"
             ]
            ],
            "type": "histogram2d"
           }
          ],
          "histogram2dcontour": [
           {
            "colorbar": {
             "outlinewidth": 0,
             "ticks": ""
            },
            "colorscale": [
             [
              0,
              "#0d0887"
             ],
             [
              0.1111111111111111,
              "#46039f"
             ],
             [
              0.2222222222222222,
              "#7201a8"
             ],
             [
              0.3333333333333333,
              "#9c179e"
             ],
             [
              0.4444444444444444,
              "#bd3786"
             ],
             [
              0.5555555555555556,
              "#d8576b"
             ],
             [
              0.6666666666666666,
              "#ed7953"
             ],
             [
              0.7777777777777778,
              "#fb9f3a"
             ],
             [
              0.8888888888888888,
              "#fdca26"
             ],
             [
              1,
              "#f0f921"
             ]
            ],
            "type": "histogram2dcontour"
           }
          ],
          "mesh3d": [
           {
            "colorbar": {
             "outlinewidth": 0,
             "ticks": ""
            },
            "type": "mesh3d"
           }
          ],
          "parcoords": [
           {
            "line": {
             "colorbar": {
              "outlinewidth": 0,
              "ticks": ""
             }
            },
            "type": "parcoords"
           }
          ],
          "pie": [
           {
            "automargin": true,
            "type": "pie"
           }
          ],
          "scatter": [
           {
            "marker": {
             "colorbar": {
              "outlinewidth": 0,
              "ticks": ""
             }
            },
            "type": "scatter"
           }
          ],
          "scatter3d": [
           {
            "line": {
             "colorbar": {
              "outlinewidth": 0,
              "ticks": ""
             }
            },
            "marker": {
             "colorbar": {
              "outlinewidth": 0,
              "ticks": ""
             }
            },
            "type": "scatter3d"
           }
          ],
          "scattercarpet": [
           {
            "marker": {
             "colorbar": {
              "outlinewidth": 0,
              "ticks": ""
             }
            },
            "type": "scattercarpet"
           }
          ],
          "scattergeo": [
           {
            "marker": {
             "colorbar": {
              "outlinewidth": 0,
              "ticks": ""
             }
            },
            "type": "scattergeo"
           }
          ],
          "scattergl": [
           {
            "marker": {
             "colorbar": {
              "outlinewidth": 0,
              "ticks": ""
             }
            },
            "type": "scattergl"
           }
          ],
          "scattermapbox": [
           {
            "marker": {
             "colorbar": {
              "outlinewidth": 0,
              "ticks": ""
             }
            },
            "type": "scattermapbox"
           }
          ],
          "scatterpolar": [
           {
            "marker": {
             "colorbar": {
              "outlinewidth": 0,
              "ticks": ""
             }
            },
            "type": "scatterpolar"
           }
          ],
          "scatterpolargl": [
           {
            "marker": {
             "colorbar": {
              "outlinewidth": 0,
              "ticks": ""
             }
            },
            "type": "scatterpolargl"
           }
          ],
          "scatterternary": [
           {
            "marker": {
             "colorbar": {
              "outlinewidth": 0,
              "ticks": ""
             }
            },
            "type": "scatterternary"
           }
          ],
          "surface": [
           {
            "colorbar": {
             "outlinewidth": 0,
             "ticks": ""
            },
            "colorscale": [
             [
              0,
              "#0d0887"
             ],
             [
              0.1111111111111111,
              "#46039f"
             ],
             [
              0.2222222222222222,
              "#7201a8"
             ],
             [
              0.3333333333333333,
              "#9c179e"
             ],
             [
              0.4444444444444444,
              "#bd3786"
             ],
             [
              0.5555555555555556,
              "#d8576b"
             ],
             [
              0.6666666666666666,
              "#ed7953"
             ],
             [
              0.7777777777777778,
              "#fb9f3a"
             ],
             [
              0.8888888888888888,
              "#fdca26"
             ],
             [
              1,
              "#f0f921"
             ]
            ],
            "type": "surface"
           }
          ],
          "table": [
           {
            "cells": {
             "fill": {
              "color": "#EBF0F8"
             },
             "line": {
              "color": "white"
             }
            },
            "header": {
             "fill": {
              "color": "#C8D4E3"
             },
             "line": {
              "color": "white"
             }
            },
            "type": "table"
           }
          ]
         },
         "layout": {
          "annotationdefaults": {
           "arrowcolor": "#2a3f5f",
           "arrowhead": 0,
           "arrowwidth": 1
          },
          "autotypenumbers": "strict",
          "coloraxis": {
           "colorbar": {
            "outlinewidth": 0,
            "ticks": ""
           }
          },
          "colorscale": {
           "diverging": [
            [
             0,
             "#8e0152"
            ],
            [
             0.1,
             "#c51b7d"
            ],
            [
             0.2,
             "#de77ae"
            ],
            [
             0.3,
             "#f1b6da"
            ],
            [
             0.4,
             "#fde0ef"
            ],
            [
             0.5,
             "#f7f7f7"
            ],
            [
             0.6,
             "#e6f5d0"
            ],
            [
             0.7,
             "#b8e186"
            ],
            [
             0.8,
             "#7fbc41"
            ],
            [
             0.9,
             "#4d9221"
            ],
            [
             1,
             "#276419"
            ]
           ],
           "sequential": [
            [
             0,
             "#0d0887"
            ],
            [
             0.1111111111111111,
             "#46039f"
            ],
            [
             0.2222222222222222,
             "#7201a8"
            ],
            [
             0.3333333333333333,
             "#9c179e"
            ],
            [
             0.4444444444444444,
             "#bd3786"
            ],
            [
             0.5555555555555556,
             "#d8576b"
            ],
            [
             0.6666666666666666,
             "#ed7953"
            ],
            [
             0.7777777777777778,
             "#fb9f3a"
            ],
            [
             0.8888888888888888,
             "#fdca26"
            ],
            [
             1,
             "#f0f921"
            ]
           ],
           "sequentialminus": [
            [
             0,
             "#0d0887"
            ],
            [
             0.1111111111111111,
             "#46039f"
            ],
            [
             0.2222222222222222,
             "#7201a8"
            ],
            [
             0.3333333333333333,
             "#9c179e"
            ],
            [
             0.4444444444444444,
             "#bd3786"
            ],
            [
             0.5555555555555556,
             "#d8576b"
            ],
            [
             0.6666666666666666,
             "#ed7953"
            ],
            [
             0.7777777777777778,
             "#fb9f3a"
            ],
            [
             0.8888888888888888,
             "#fdca26"
            ],
            [
             1,
             "#f0f921"
            ]
           ]
          },
          "colorway": [
           "#636efa",
           "#EF553B",
           "#00cc96",
           "#ab63fa",
           "#FFA15A",
           "#19d3f3",
           "#FF6692",
           "#B6E880",
           "#FF97FF",
           "#FECB52"
          ],
          "font": {
           "color": "#2a3f5f"
          },
          "geo": {
           "bgcolor": "white",
           "lakecolor": "white",
           "landcolor": "#E5ECF6",
           "showlakes": true,
           "showland": true,
           "subunitcolor": "white"
          },
          "hoverlabel": {
           "align": "left"
          },
          "hovermode": "closest",
          "mapbox": {
           "style": "light"
          },
          "paper_bgcolor": "white",
          "plot_bgcolor": "#E5ECF6",
          "polar": {
           "angularaxis": {
            "gridcolor": "white",
            "linecolor": "white",
            "ticks": ""
           },
           "bgcolor": "#E5ECF6",
           "radialaxis": {
            "gridcolor": "white",
            "linecolor": "white",
            "ticks": ""
           }
          },
          "scene": {
           "xaxis": {
            "backgroundcolor": "#E5ECF6",
            "gridcolor": "white",
            "gridwidth": 2,
            "linecolor": "white",
            "showbackground": true,
            "ticks": "",
            "zerolinecolor": "white"
           },
           "yaxis": {
            "backgroundcolor": "#E5ECF6",
            "gridcolor": "white",
            "gridwidth": 2,
            "linecolor": "white",
            "showbackground": true,
            "ticks": "",
            "zerolinecolor": "white"
           },
           "zaxis": {
            "backgroundcolor": "#E5ECF6",
            "gridcolor": "white",
            "gridwidth": 2,
            "linecolor": "white",
            "showbackground": true,
            "ticks": "",
            "zerolinecolor": "white"
           }
          },
          "shapedefaults": {
           "line": {
            "color": "#2a3f5f"
           }
          },
          "ternary": {
           "aaxis": {
            "gridcolor": "white",
            "linecolor": "white",
            "ticks": ""
           },
           "baxis": {
            "gridcolor": "white",
            "linecolor": "white",
            "ticks": ""
           },
           "bgcolor": "#E5ECF6",
           "caxis": {
            "gridcolor": "white",
            "linecolor": "white",
            "ticks": ""
           }
          },
          "title": {
           "x": 0.05
          },
          "xaxis": {
           "automargin": true,
           "gridcolor": "white",
           "linecolor": "white",
           "ticks": "",
           "title": {
            "standoff": 15
           },
           "zerolinecolor": "white",
           "zerolinewidth": 2
          },
          "yaxis": {
           "automargin": true,
           "gridcolor": "white",
           "linecolor": "white",
           "ticks": "",
           "title": {
            "standoff": 15
           },
           "zerolinecolor": "white",
           "zerolinewidth": 2
          }
         }
        },
        "width": 800
       }
      },
      "text/html": [
       "<div>                            <div id=\"659e84fd-0a30-44b0-8ab0-c2d1705f4982\" class=\"plotly-graph-div\" style=\"height:400px; width:800px;\"></div>            <script type=\"text/javascript\">                require([\"plotly\"], function(Plotly) {                    window.PLOTLYENV=window.PLOTLYENV || {};                                    if (document.getElementById(\"659e84fd-0a30-44b0-8ab0-c2d1705f4982\")) {                    Plotly.newPlot(                        \"659e84fd-0a30-44b0-8ab0-c2d1705f4982\",                        [{\"branchvalues\":\"total\",\"domain\":{\"x\":[0.0,1.0],\"y\":[0.0,1.0]},\"hovertemplate\":\"labels=%{label}<br>count=%{value}<br>parent=%{parent}<br>id=%{id}<extra></extra>\",\"ids\":[\"Changing lane to the left\",\"Changing lane to the right\",\"Driving at high speed\",\"Driving carelessly\",\"Driving to the left\",\"Driving under the influence of drugs\",\"Drunk driving\",\"Getting off the vehicle improperly\",\"Improper parking\",\"Moving Backward\",\"No distancing\",\"No priority to pedestrian\",\"No priority to vehicle\",\"Other\",\"Overloading\",\"Overspeed\",\"Overtaking\",\"Overturning\",\"Turnover\",\"Unknown\"],\"labels\":[\"Changing lane to the left\",\"Changing lane to the right\",\"Driving at high speed\",\"Driving carelessly\",\"Driving to the left\",\"Driving under the influence of drugs\",\"Drunk driving\",\"Getting off the vehicle improperly\",\"Improper parking\",\"Moving Backward\",\"No distancing\",\"No priority to pedestrian\",\"No priority to vehicle\",\"Other\",\"Overloading\",\"Overspeed\",\"Overtaking\",\"Overturning\",\"Turnover\",\"Unknown\"],\"name\":\"\",\"parents\":[\"\",\"\",\"\",\"\",\"\",\"\",\"\",\"\",\"\",\"\",\"\",\"\",\"\",\"\",\"\",\"\",\"\",\"\",\"\",\"\"],\"values\":[1473,1808,174,1402,284,340,27,197,25,1137,2263,721,1207,456,59,61,430,149,78,25],\"type\":\"treemap\"}],                        {\"height\":400,\"legend\":{\"tracegroupgap\":0},\"margin\":{\"b\":25,\"l\":25,\"r\":25,\"t\":50},\"template\":{\"data\":{\"barpolar\":[{\"marker\":{\"line\":{\"color\":\"#E5ECF6\",\"width\":0.5},\"pattern\":{\"fillmode\":\"overlay\",\"size\":10,\"solidity\":0.2}},\"type\":\"barpolar\"}],\"bar\":[{\"error_x\":{\"color\":\"#2a3f5f\"},\"error_y\":{\"color\":\"#2a3f5f\"},\"marker\":{\"line\":{\"color\":\"#E5ECF6\",\"width\":0.5},\"pattern\":{\"fillmode\":\"overlay\",\"size\":10,\"solidity\":0.2}},\"type\":\"bar\"}],\"carpet\":[{\"aaxis\":{\"endlinecolor\":\"#2a3f5f\",\"gridcolor\":\"white\",\"linecolor\":\"white\",\"minorgridcolor\":\"white\",\"startlinecolor\":\"#2a3f5f\"},\"baxis\":{\"endlinecolor\":\"#2a3f5f\",\"gridcolor\":\"white\",\"linecolor\":\"white\",\"minorgridcolor\":\"white\",\"startlinecolor\":\"#2a3f5f\"},\"type\":\"carpet\"}],\"choropleth\":[{\"colorbar\":{\"outlinewidth\":0,\"ticks\":\"\"},\"type\":\"choropleth\"}],\"contourcarpet\":[{\"colorbar\":{\"outlinewidth\":0,\"ticks\":\"\"},\"type\":\"contourcarpet\"}],\"contour\":[{\"colorbar\":{\"outlinewidth\":0,\"ticks\":\"\"},\"colorscale\":[[0.0,\"#0d0887\"],[0.1111111111111111,\"#46039f\"],[0.2222222222222222,\"#7201a8\"],[0.3333333333333333,\"#9c179e\"],[0.4444444444444444,\"#bd3786\"],[0.5555555555555556,\"#d8576b\"],[0.6666666666666666,\"#ed7953\"],[0.7777777777777778,\"#fb9f3a\"],[0.8888888888888888,\"#fdca26\"],[1.0,\"#f0f921\"]],\"type\":\"contour\"}],\"heatmapgl\":[{\"colorbar\":{\"outlinewidth\":0,\"ticks\":\"\"},\"colorscale\":[[0.0,\"#0d0887\"],[0.1111111111111111,\"#46039f\"],[0.2222222222222222,\"#7201a8\"],[0.3333333333333333,\"#9c179e\"],[0.4444444444444444,\"#bd3786\"],[0.5555555555555556,\"#d8576b\"],[0.6666666666666666,\"#ed7953\"],[0.7777777777777778,\"#fb9f3a\"],[0.8888888888888888,\"#fdca26\"],[1.0,\"#f0f921\"]],\"type\":\"heatmapgl\"}],\"heatmap\":[{\"colorbar\":{\"outlinewidth\":0,\"ticks\":\"\"},\"colorscale\":[[0.0,\"#0d0887\"],[0.1111111111111111,\"#46039f\"],[0.2222222222222222,\"#7201a8\"],[0.3333333333333333,\"#9c179e\"],[0.4444444444444444,\"#bd3786\"],[0.5555555555555556,\"#d8576b\"],[0.6666666666666666,\"#ed7953\"],[0.7777777777777778,\"#fb9f3a\"],[0.8888888888888888,\"#fdca26\"],[1.0,\"#f0f921\"]],\"type\":\"heatmap\"}],\"histogram2dcontour\":[{\"colorbar\":{\"outlinewidth\":0,\"ticks\":\"\"},\"colorscale\":[[0.0,\"#0d0887\"],[0.1111111111111111,\"#46039f\"],[0.2222222222222222,\"#7201a8\"],[0.3333333333333333,\"#9c179e\"],[0.4444444444444444,\"#bd3786\"],[0.5555555555555556,\"#d8576b\"],[0.6666666666666666,\"#ed7953\"],[0.7777777777777778,\"#fb9f3a\"],[0.8888888888888888,\"#fdca26\"],[1.0,\"#f0f921\"]],\"type\":\"histogram2dcontour\"}],\"histogram2d\":[{\"colorbar\":{\"outlinewidth\":0,\"ticks\":\"\"},\"colorscale\":[[0.0,\"#0d0887\"],[0.1111111111111111,\"#46039f\"],[0.2222222222222222,\"#7201a8\"],[0.3333333333333333,\"#9c179e\"],[0.4444444444444444,\"#bd3786\"],[0.5555555555555556,\"#d8576b\"],[0.6666666666666666,\"#ed7953\"],[0.7777777777777778,\"#fb9f3a\"],[0.8888888888888888,\"#fdca26\"],[1.0,\"#f0f921\"]],\"type\":\"histogram2d\"}],\"histogram\":[{\"marker\":{\"pattern\":{\"fillmode\":\"overlay\",\"size\":10,\"solidity\":0.2}},\"type\":\"histogram\"}],\"mesh3d\":[{\"colorbar\":{\"outlinewidth\":0,\"ticks\":\"\"},\"type\":\"mesh3d\"}],\"parcoords\":[{\"line\":{\"colorbar\":{\"outlinewidth\":0,\"ticks\":\"\"}},\"type\":\"parcoords\"}],\"pie\":[{\"automargin\":true,\"type\":\"pie\"}],\"scatter3d\":[{\"line\":{\"colorbar\":{\"outlinewidth\":0,\"ticks\":\"\"}},\"marker\":{\"colorbar\":{\"outlinewidth\":0,\"ticks\":\"\"}},\"type\":\"scatter3d\"}],\"scattercarpet\":[{\"marker\":{\"colorbar\":{\"outlinewidth\":0,\"ticks\":\"\"}},\"type\":\"scattercarpet\"}],\"scattergeo\":[{\"marker\":{\"colorbar\":{\"outlinewidth\":0,\"ticks\":\"\"}},\"type\":\"scattergeo\"}],\"scattergl\":[{\"marker\":{\"colorbar\":{\"outlinewidth\":0,\"ticks\":\"\"}},\"type\":\"scattergl\"}],\"scattermapbox\":[{\"marker\":{\"colorbar\":{\"outlinewidth\":0,\"ticks\":\"\"}},\"type\":\"scattermapbox\"}],\"scatterpolargl\":[{\"marker\":{\"colorbar\":{\"outlinewidth\":0,\"ticks\":\"\"}},\"type\":\"scatterpolargl\"}],\"scatterpolar\":[{\"marker\":{\"colorbar\":{\"outlinewidth\":0,\"ticks\":\"\"}},\"type\":\"scatterpolar\"}],\"scatter\":[{\"marker\":{\"colorbar\":{\"outlinewidth\":0,\"ticks\":\"\"}},\"type\":\"scatter\"}],\"scatterternary\":[{\"marker\":{\"colorbar\":{\"outlinewidth\":0,\"ticks\":\"\"}},\"type\":\"scatterternary\"}],\"surface\":[{\"colorbar\":{\"outlinewidth\":0,\"ticks\":\"\"},\"colorscale\":[[0.0,\"#0d0887\"],[0.1111111111111111,\"#46039f\"],[0.2222222222222222,\"#7201a8\"],[0.3333333333333333,\"#9c179e\"],[0.4444444444444444,\"#bd3786\"],[0.5555555555555556,\"#d8576b\"],[0.6666666666666666,\"#ed7953\"],[0.7777777777777778,\"#fb9f3a\"],[0.8888888888888888,\"#fdca26\"],[1.0,\"#f0f921\"]],\"type\":\"surface\"}],\"table\":[{\"cells\":{\"fill\":{\"color\":\"#EBF0F8\"},\"line\":{\"color\":\"white\"}},\"header\":{\"fill\":{\"color\":\"#C8D4E3\"},\"line\":{\"color\":\"white\"}},\"type\":\"table\"}]},\"layout\":{\"annotationdefaults\":{\"arrowcolor\":\"#2a3f5f\",\"arrowhead\":0,\"arrowwidth\":1},\"autotypenumbers\":\"strict\",\"coloraxis\":{\"colorbar\":{\"outlinewidth\":0,\"ticks\":\"\"}},\"colorscale\":{\"diverging\":[[0,\"#8e0152\"],[0.1,\"#c51b7d\"],[0.2,\"#de77ae\"],[0.3,\"#f1b6da\"],[0.4,\"#fde0ef\"],[0.5,\"#f7f7f7\"],[0.6,\"#e6f5d0\"],[0.7,\"#b8e186\"],[0.8,\"#7fbc41\"],[0.9,\"#4d9221\"],[1,\"#276419\"]],\"sequential\":[[0.0,\"#0d0887\"],[0.1111111111111111,\"#46039f\"],[0.2222222222222222,\"#7201a8\"],[0.3333333333333333,\"#9c179e\"],[0.4444444444444444,\"#bd3786\"],[0.5555555555555556,\"#d8576b\"],[0.6666666666666666,\"#ed7953\"],[0.7777777777777778,\"#fb9f3a\"],[0.8888888888888888,\"#fdca26\"],[1.0,\"#f0f921\"]],\"sequentialminus\":[[0.0,\"#0d0887\"],[0.1111111111111111,\"#46039f\"],[0.2222222222222222,\"#7201a8\"],[0.3333333333333333,\"#9c179e\"],[0.4444444444444444,\"#bd3786\"],[0.5555555555555556,\"#d8576b\"],[0.6666666666666666,\"#ed7953\"],[0.7777777777777778,\"#fb9f3a\"],[0.8888888888888888,\"#fdca26\"],[1.0,\"#f0f921\"]]},\"colorway\":[\"#636efa\",\"#EF553B\",\"#00cc96\",\"#ab63fa\",\"#FFA15A\",\"#19d3f3\",\"#FF6692\",\"#B6E880\",\"#FF97FF\",\"#FECB52\"],\"font\":{\"color\":\"#2a3f5f\"},\"geo\":{\"bgcolor\":\"white\",\"lakecolor\":\"white\",\"landcolor\":\"#E5ECF6\",\"showlakes\":true,\"showland\":true,\"subunitcolor\":\"white\"},\"hoverlabel\":{\"align\":\"left\"},\"hovermode\":\"closest\",\"mapbox\":{\"style\":\"light\"},\"paper_bgcolor\":\"white\",\"plot_bgcolor\":\"#E5ECF6\",\"polar\":{\"angularaxis\":{\"gridcolor\":\"white\",\"linecolor\":\"white\",\"ticks\":\"\"},\"bgcolor\":\"#E5ECF6\",\"radialaxis\":{\"gridcolor\":\"white\",\"linecolor\":\"white\",\"ticks\":\"\"}},\"scene\":{\"xaxis\":{\"backgroundcolor\":\"#E5ECF6\",\"gridcolor\":\"white\",\"gridwidth\":2,\"linecolor\":\"white\",\"showbackground\":true,\"ticks\":\"\",\"zerolinecolor\":\"white\"},\"yaxis\":{\"backgroundcolor\":\"#E5ECF6\",\"gridcolor\":\"white\",\"gridwidth\":2,\"linecolor\":\"white\",\"showbackground\":true,\"ticks\":\"\",\"zerolinecolor\":\"white\"},\"zaxis\":{\"backgroundcolor\":\"#E5ECF6\",\"gridcolor\":\"white\",\"gridwidth\":2,\"linecolor\":\"white\",\"showbackground\":true,\"ticks\":\"\",\"zerolinecolor\":\"white\"}},\"shapedefaults\":{\"line\":{\"color\":\"#2a3f5f\"}},\"ternary\":{\"aaxis\":{\"gridcolor\":\"white\",\"linecolor\":\"white\",\"ticks\":\"\"},\"baxis\":{\"gridcolor\":\"white\",\"linecolor\":\"white\",\"ticks\":\"\"},\"bgcolor\":\"#E5ECF6\",\"caxis\":{\"gridcolor\":\"white\",\"linecolor\":\"white\",\"ticks\":\"\"}},\"title\":{\"x\":0.05},\"xaxis\":{\"automargin\":true,\"gridcolor\":\"white\",\"linecolor\":\"white\",\"ticks\":\"\",\"title\":{\"standoff\":15},\"zerolinecolor\":\"white\",\"zerolinewidth\":2},\"yaxis\":{\"automargin\":true,\"gridcolor\":\"white\",\"linecolor\":\"white\",\"ticks\":\"\",\"title\":{\"standoff\":15},\"zerolinecolor\":\"white\",\"zerolinewidth\":2}}},\"width\":800},                        {\"responsive\": true}                    ).then(function(){\n",
       "                            \n",
       "var gd = document.getElementById('659e84fd-0a30-44b0-8ab0-c2d1705f4982');\n",
       "var x = new MutationObserver(function (mutations, observer) {{\n",
       "        var display = window.getComputedStyle(gd).display;\n",
       "        if (!display || display === 'none') {{\n",
       "            console.log([gd, 'removed!']);\n",
       "            Plotly.purge(gd);\n",
       "            observer.disconnect();\n",
       "        }}\n",
       "}});\n",
       "\n",
       "// Listen for the removal of the full notebook cells\n",
       "var notebookContainer = gd.closest('#notebook-container');\n",
       "if (notebookContainer) {{\n",
       "    x.observe(notebookContainer, {childList: true});\n",
       "}}\n",
       "\n",
       "// Listen for the clearing of the current output cell\n",
       "var outputEl = gd.closest('.output');\n",
       "if (outputEl) {{\n",
       "    x.observe(outputEl, {childList: true});\n",
       "}}\n",
       "\n",
       "                        })                };                });            </script>        </div>"
      ]
     },
     "metadata": {},
     "output_type": "display_data"
    }
   ],
   "source": [
    "fig = px.treemap(df, path=['accident_cause'], width=800, height=400)\n",
    "fig.update_layout(\n",
    "    margin = dict(t=50, l=25, r=25, b=25))\n",
    "\n",
    "py.init_notebook_mode(connected=True)\n",
    "py.iplot(fig,filename= \"treemap\")"
   ]
  },
  {
   "cell_type": "code",
   "execution_count": 17,
   "id": "050625d3",
   "metadata": {
    "scrolled": true
   },
   "outputs": [
    {
     "data": {
      "image/png": "[encoded data removed]",
      "text/plain": [
       "<Figure size 720x216 with 1 Axes>"
      ]
     },
     "metadata": {},
     "output_type": "display_data"
    }
   ],
   "source": [
    "plt.figure(figsize=(10,3))\n",
    "sns.countplot(data=df, y='lanes', palette = 'Dark2')\n",
    "plt.xticks(fontsize=12)\n",
    "plt.yticks(fontsize=12)\n",
    "plt.title('Lanes', fontsize=14)\n",
    "plt.xlabel('')\n",
    "plt.ylabel('')\n",
    "plt.tight_layout()"
   ]
  },
  {
   "cell_type": "code",
   "execution_count": 18,
   "id": "ce1483e1",
   "metadata": {},
   "outputs": [
    {
     "data": {
      "image/png": "[encoded data removed]",
      "text/plain": [
       "<Figure size 720x216 with 1 Axes>"
      ]
     },
     "metadata": {},
     "output_type": "display_data"
    }
   ],
   "source": [
    "plt.figure(figsize=(10,3))\n",
    "sns.countplot(data=df, y='road_allignment', palette = 'Dark2')\n",
    "plt.xticks(fontsize=12)\n",
    "plt.yticks(fontsize=12)\n",
    "plt.title('Road Allignment', fontsize=14)\n",
    "plt.xlabel('')\n",
    "plt.ylabel('')\n",
    "plt.tight_layout()"
   ]
  },
  {
   "cell_type": "code",
   "execution_count": 19,
   "id": "b4d609d6",
   "metadata": {},
   "outputs": [
    {
     "data": {
      "image/png": "[encoded data removed]",
      "text/plain": [
       "<Figure size 720x360 with 1 Axes>"
      ]
     },
     "metadata": {},
     "output_type": "display_data"
    }
   ],
   "source": [
    "plt.figure(figsize=(10,5))\n",
    "sns.countplot(data=df, y='pedestrian_movement', palette = 'Dark2')\n",
    "plt.xticks(fontsize=12)\n",
    "plt.yticks(fontsize=12)\n",
    "plt.title('Pedestrian Movement', fontsize=14)\n",
    "plt.xlabel('')\n",
    "plt.ylabel('')\n",
    "plt.tight_layout()"
   ]
  },
  {
   "cell_type": "code",
   "execution_count": 20,
   "id": "e9d1005d",
   "metadata": {},
   "outputs": [],
   "source": [
    "df['time'] = pd.to_datetime(df['time'])\n",
    "\n",
    "df['time'].dt.hour\n",
    "\n",
    "df['hour'] = df['time'].dt.hour\n",
    "df['minute'] = df['time'].dt.minute\n",
    "df.drop('time', axis=1, inplace=True)"
   ]
  },
  {
   "cell_type": "code",
   "execution_count": 21,
   "id": "71b96820",
   "metadata": {},
   "outputs": [
    {
     "data": {
      "text/html": [
       "<div>\n",
       "<style scoped>\n",
       "    .dataframe tbody tr th:only-of-type {\n",
       "        vertical-align: middle;\n",
       "    }\n",
       "\n",
       "    .dataframe tbody tr th {\n",
       "        vertical-align: top;\n",
       "    }\n",
       "\n",
       "    .dataframe thead th {\n",
       "        text-align: right;\n",
       "    }\n",
       "</style>\n",
       "<table border=\"1\" class=\"dataframe\">\n",
       "  <thead>\n",
       "    <tr style=\"text-align: right;\">\n",
       "      <th></th>\n",
       "      <th>day_of_week</th>\n",
       "      <th>driver_age</th>\n",
       "      <th>driver_sex</th>\n",
       "      <th>educational_level</th>\n",
       "      <th>vehicle_driver_relation</th>\n",
       "      <th>driving_experience</th>\n",
       "      <th>vehicle_type</th>\n",
       "      <th>vehicle_owner</th>\n",
       "      <th>service_year</th>\n",
       "      <th>vehicle_defect</th>\n",
       "      <th>accident_area</th>\n",
       "      <th>lanes</th>\n",
       "      <th>road_allignment</th>\n",
       "      <th>junction_type</th>\n",
       "      <th>surface_type</th>\n",
       "      <th>road_surface_conditions</th>\n",
       "      <th>light_condition</th>\n",
       "      <th>weather_condition</th>\n",
       "      <th>collision_type</th>\n",
       "      <th>vehicles_involved</th>\n",
       "      <th>casualties</th>\n",
       "      <th>vehicle_movement</th>\n",
       "      <th>casualty_class</th>\n",
       "      <th>casualty_sex</th>\n",
       "      <th>casualty_age</th>\n",
       "      <th>casualty_severity</th>\n",
       "      <th>casualty_work</th>\n",
       "      <th>casualty_fitness</th>\n",
       "      <th>pedestrian_movement</th>\n",
       "      <th>accident_cause</th>\n",
       "      <th>accident_severity</th>\n",
       "      <th>hour</th>\n",
       "      <th>minute</th>\n",
       "    </tr>\n",
       "  </thead>\n",
       "  <tbody>\n",
       "    <tr>\n",
       "      <th>0</th>\n",
       "      <td>Monday</td>\n",
       "      <td>18-30</td>\n",
       "      <td>Male</td>\n",
       "      <td>Above high school</td>\n",
       "      <td>Employee</td>\n",
       "      <td>1-2yr</td>\n",
       "      <td>Automobile</td>\n",
       "      <td>Owner</td>\n",
       "      <td>Above 10yr</td>\n",
       "      <td>No defect</td>\n",
       "      <td>Residential areas</td>\n",
       "      <td>NaN</td>\n",
       "      <td>Tangent road with flat terrain</td>\n",
       "      <td>No junction</td>\n",
       "      <td>Asphalt roads</td>\n",
       "      <td>Dry</td>\n",
       "      <td>Daylight</td>\n",
       "      <td>Normal</td>\n",
       "      <td>Collision with roadside-parked vehicles</td>\n",
       "      <td>2</td>\n",
       "      <td>2</td>\n",
       "      <td>Going straight</td>\n",
       "      <td>na</td>\n",
       "      <td>na</td>\n",
       "      <td>na</td>\n",
       "      <td>na</td>\n",
       "      <td>NaN</td>\n",
       "      <td>NaN</td>\n",
       "      <td>Not a Pedestrian</td>\n",
       "      <td>Moving Backward</td>\n",
       "      <td>Slight Injury</td>\n",
       "      <td>17</td>\n",
       "      <td>2</td>\n",
       "    </tr>\n",
       "    <tr>\n",
       "      <th>1</th>\n",
       "      <td>Monday</td>\n",
       "      <td>31-50</td>\n",
       "      <td>Male</td>\n",
       "      <td>Junior high school</td>\n",
       "      <td>Employee</td>\n",
       "      <td>Above 10yr</td>\n",
       "      <td>Public (&gt; 45 seats)</td>\n",
       "      <td>Owner</td>\n",
       "      <td>5-10yrs</td>\n",
       "      <td>No defect</td>\n",
       "      <td>Office areas</td>\n",
       "      <td>Undivided Two way</td>\n",
       "      <td>Tangent road with flat terrain</td>\n",
       "      <td>No junction</td>\n",
       "      <td>Asphalt roads</td>\n",
       "      <td>Dry</td>\n",
       "      <td>Daylight</td>\n",
       "      <td>Normal</td>\n",
       "      <td>Vehicle with vehicle collision</td>\n",
       "      <td>2</td>\n",
       "      <td>2</td>\n",
       "      <td>Going straight</td>\n",
       "      <td>na</td>\n",
       "      <td>na</td>\n",
       "      <td>na</td>\n",
       "      <td>na</td>\n",
       "      <td>NaN</td>\n",
       "      <td>NaN</td>\n",
       "      <td>Not a Pedestrian</td>\n",
       "      <td>Overtaking</td>\n",
       "      <td>Slight Injury</td>\n",
       "      <td>17</td>\n",
       "      <td>2</td>\n",
       "    </tr>\n",
       "    <tr>\n",
       "      <th>2</th>\n",
       "      <td>Monday</td>\n",
       "      <td>18-30</td>\n",
       "      <td>Male</td>\n",
       "      <td>Junior high school</td>\n",
       "      <td>Employee</td>\n",
       "      <td>1-2yr</td>\n",
       "      <td>Lorry (41?100Q)</td>\n",
       "      <td>Owner</td>\n",
       "      <td>NaN</td>\n",
       "      <td>No defect</td>\n",
       "      <td>Recreational areas</td>\n",
       "      <td>other</td>\n",
       "      <td>NaN</td>\n",
       "      <td>No junction</td>\n",
       "      <td>Asphalt roads</td>\n",
       "      <td>Dry</td>\n",
       "      <td>Daylight</td>\n",
       "      <td>Normal</td>\n",
       "      <td>Collision with roadside objects</td>\n",
       "      <td>2</td>\n",
       "      <td>2</td>\n",
       "      <td>Going straight</td>\n",
       "      <td>Driver or rider</td>\n",
       "      <td>Male</td>\n",
       "      <td>31-50</td>\n",
       "      <td>3</td>\n",
       "      <td>Driver</td>\n",
       "      <td>NaN</td>\n",
       "      <td>Not a Pedestrian</td>\n",
       "      <td>Changing lane to the left</td>\n",
       "      <td>Serious Injury</td>\n",
       "      <td>17</td>\n",
       "      <td>2</td>\n",
       "    </tr>\n",
       "    <tr>\n",
       "      <th>3</th>\n",
       "      <td>Sunday</td>\n",
       "      <td>18-30</td>\n",
       "      <td>Male</td>\n",
       "      <td>Junior high school</td>\n",
       "      <td>Employee</td>\n",
       "      <td>5-10yr</td>\n",
       "      <td>Public (&gt; 45 seats)</td>\n",
       "      <td>Governmental</td>\n",
       "      <td>NaN</td>\n",
       "      <td>No defect</td>\n",
       "      <td>Office areas</td>\n",
       "      <td>other</td>\n",
       "      <td>Tangent road with mild grade and flat terrain</td>\n",
       "      <td>Y Shape</td>\n",
       "      <td>Earth roads</td>\n",
       "      <td>Dry</td>\n",
       "      <td>Darkness - lights lit</td>\n",
       "      <td>Normal</td>\n",
       "      <td>Vehicle with vehicle collision</td>\n",
       "      <td>2</td>\n",
       "      <td>2</td>\n",
       "      <td>Going straight</td>\n",
       "      <td>Pedestrian</td>\n",
       "      <td>Female</td>\n",
       "      <td>18-30</td>\n",
       "      <td>3</td>\n",
       "      <td>Driver</td>\n",
       "      <td>Normal</td>\n",
       "      <td>Not a Pedestrian</td>\n",
       "      <td>Changing lane to the right</td>\n",
       "      <td>Slight Injury</td>\n",
       "      <td>1</td>\n",
       "      <td>6</td>\n",
       "    </tr>\n",
       "    <tr>\n",
       "      <th>4</th>\n",
       "      <td>Sunday</td>\n",
       "      <td>18-30</td>\n",
       "      <td>Male</td>\n",
       "      <td>Junior high school</td>\n",
       "      <td>Employee</td>\n",
       "      <td>2-5yr</td>\n",
       "      <td>NaN</td>\n",
       "      <td>Owner</td>\n",
       "      <td>5-10yrs</td>\n",
       "      <td>No defect</td>\n",
       "      <td>Industrial areas</td>\n",
       "      <td>other</td>\n",
       "      <td>Tangent road with flat terrain</td>\n",
       "      <td>Y Shape</td>\n",
       "      <td>Asphalt roads</td>\n",
       "      <td>Dry</td>\n",
       "      <td>Darkness - lights lit</td>\n",
       "      <td>Normal</td>\n",
       "      <td>Vehicle with vehicle collision</td>\n",
       "      <td>2</td>\n",
       "      <td>2</td>\n",
       "      <td>Going straight</td>\n",
       "      <td>na</td>\n",
       "      <td>na</td>\n",
       "      <td>na</td>\n",
       "      <td>na</td>\n",
       "      <td>NaN</td>\n",
       "      <td>NaN</td>\n",
       "      <td>Not a Pedestrian</td>\n",
       "      <td>Overtaking</td>\n",
       "      <td>Slight Injury</td>\n",
       "      <td>1</td>\n",
       "      <td>6</td>\n",
       "    </tr>\n",
       "    <tr>\n",
       "      <th>...</th>\n",
       "      <td>...</td>\n",
       "      <td>...</td>\n",
       "      <td>...</td>\n",
       "      <td>...</td>\n",
       "      <td>...</td>\n",
       "      <td>...</td>\n",
       "      <td>...</td>\n",
       "      <td>...</td>\n",
       "      <td>...</td>\n",
       "      <td>...</td>\n",
       "      <td>...</td>\n",
       "      <td>...</td>\n",
       "      <td>...</td>\n",
       "      <td>...</td>\n",
       "      <td>...</td>\n",
       "      <td>...</td>\n",
       "      <td>...</td>\n",
       "      <td>...</td>\n",
       "      <td>...</td>\n",
       "      <td>...</td>\n",
       "      <td>...</td>\n",
       "      <td>...</td>\n",
       "      <td>...</td>\n",
       "      <td>...</td>\n",
       "      <td>...</td>\n",
       "      <td>...</td>\n",
       "      <td>...</td>\n",
       "      <td>...</td>\n",
       "      <td>...</td>\n",
       "      <td>...</td>\n",
       "      <td>...</td>\n",
       "      <td>...</td>\n",
       "      <td>...</td>\n",
       "    </tr>\n",
       "    <tr>\n",
       "      <th>12311</th>\n",
       "      <td>Wednesday</td>\n",
       "      <td>31-50</td>\n",
       "      <td>Male</td>\n",
       "      <td>NaN</td>\n",
       "      <td>Employee</td>\n",
       "      <td>2-5yr</td>\n",
       "      <td>Lorry (11?40Q)</td>\n",
       "      <td>Owner</td>\n",
       "      <td>NaN</td>\n",
       "      <td>No defect</td>\n",
       "      <td>Outside rural areas</td>\n",
       "      <td>Undivided Two way</td>\n",
       "      <td>Tangent road with flat terrain</td>\n",
       "      <td>No junction</td>\n",
       "      <td>Asphalt roads</td>\n",
       "      <td>Dry</td>\n",
       "      <td>Daylight</td>\n",
       "      <td>Normal</td>\n",
       "      <td>Vehicle with vehicle collision</td>\n",
       "      <td>2</td>\n",
       "      <td>1</td>\n",
       "      <td>Going straight</td>\n",
       "      <td>na</td>\n",
       "      <td>na</td>\n",
       "      <td>na</td>\n",
       "      <td>na</td>\n",
       "      <td>Driver</td>\n",
       "      <td>Normal</td>\n",
       "      <td>Not a Pedestrian</td>\n",
       "      <td>No distancing</td>\n",
       "      <td>Slight Injury</td>\n",
       "      <td>16</td>\n",
       "      <td>15</td>\n",
       "    </tr>\n",
       "    <tr>\n",
       "      <th>12312</th>\n",
       "      <td>Sunday</td>\n",
       "      <td>Unknown</td>\n",
       "      <td>Male</td>\n",
       "      <td>Elementary school</td>\n",
       "      <td>Employee</td>\n",
       "      <td>5-10yr</td>\n",
       "      <td>Automobile</td>\n",
       "      <td>Owner</td>\n",
       "      <td>NaN</td>\n",
       "      <td>No defect</td>\n",
       "      <td>Outside rural areas</td>\n",
       "      <td>Two-way (divided with broken lines road marking)</td>\n",
       "      <td>Escarpments</td>\n",
       "      <td>No junction</td>\n",
       "      <td>Asphalt roads</td>\n",
       "      <td>Dry</td>\n",
       "      <td>Daylight</td>\n",
       "      <td>Normal</td>\n",
       "      <td>Vehicle with vehicle collision</td>\n",
       "      <td>2</td>\n",
       "      <td>1</td>\n",
       "      <td>Other</td>\n",
       "      <td>na</td>\n",
       "      <td>na</td>\n",
       "      <td>na</td>\n",
       "      <td>na</td>\n",
       "      <td>Driver</td>\n",
       "      <td>Normal</td>\n",
       "      <td>Not a Pedestrian</td>\n",
       "      <td>No distancing</td>\n",
       "      <td>Slight Injury</td>\n",
       "      <td>18</td>\n",
       "      <td>0</td>\n",
       "    </tr>\n",
       "    <tr>\n",
       "      <th>12313</th>\n",
       "      <td>Sunday</td>\n",
       "      <td>Over 51</td>\n",
       "      <td>Male</td>\n",
       "      <td>Junior high school</td>\n",
       "      <td>Employee</td>\n",
       "      <td>5-10yr</td>\n",
       "      <td>Bajaj</td>\n",
       "      <td>Owner</td>\n",
       "      <td>2-5yrs</td>\n",
       "      <td>No defect</td>\n",
       "      <td>Outside rural areas</td>\n",
       "      <td>Two-way (divided with broken lines road marking)</td>\n",
       "      <td>Tangent road with mountainous terrain and</td>\n",
       "      <td>No junction</td>\n",
       "      <td>Asphalt roads</td>\n",
       "      <td>Dry</td>\n",
       "      <td>Daylight</td>\n",
       "      <td>Normal</td>\n",
       "      <td>Vehicle with vehicle collision</td>\n",
       "      <td>1</td>\n",
       "      <td>1</td>\n",
       "      <td>Other</td>\n",
       "      <td>Driver or rider</td>\n",
       "      <td>Male</td>\n",
       "      <td>31-50</td>\n",
       "      <td>3</td>\n",
       "      <td>Driver</td>\n",
       "      <td>Normal</td>\n",
       "      <td>Not a Pedestrian</td>\n",
       "      <td>Changing lane to the right</td>\n",
       "      <td>Serious Injury</td>\n",
       "      <td>13</td>\n",
       "      <td>55</td>\n",
       "    </tr>\n",
       "    <tr>\n",
       "      <th>12314</th>\n",
       "      <td>Sunday</td>\n",
       "      <td>18-30</td>\n",
       "      <td>Female</td>\n",
       "      <td>Junior high school</td>\n",
       "      <td>Employee</td>\n",
       "      <td>Above 10yr</td>\n",
       "      <td>Lorry (41?100Q)</td>\n",
       "      <td>Owner</td>\n",
       "      <td>2-5yrs</td>\n",
       "      <td>No defect</td>\n",
       "      <td>Office areas</td>\n",
       "      <td>Undivided Two way</td>\n",
       "      <td>Tangent road with mountainous terrain and</td>\n",
       "      <td>No junction</td>\n",
       "      <td>Asphalt roads</td>\n",
       "      <td>Dry</td>\n",
       "      <td>Darkness - lights lit</td>\n",
       "      <td>Normal</td>\n",
       "      <td>Vehicle with vehicle collision</td>\n",
       "      <td>2</td>\n",
       "      <td>1</td>\n",
       "      <td>Other</td>\n",
       "      <td>na</td>\n",
       "      <td>na</td>\n",
       "      <td>na</td>\n",
       "      <td>na</td>\n",
       "      <td>Driver</td>\n",
       "      <td>Normal</td>\n",
       "      <td>Not a Pedestrian</td>\n",
       "      <td>Driving under the influence of drugs</td>\n",
       "      <td>Slight Injury</td>\n",
       "      <td>13</td>\n",
       "      <td>55</td>\n",
       "    </tr>\n",
       "    <tr>\n",
       "      <th>12315</th>\n",
       "      <td>Sunday</td>\n",
       "      <td>18-30</td>\n",
       "      <td>Male</td>\n",
       "      <td>Junior high school</td>\n",
       "      <td>Employee</td>\n",
       "      <td>5-10yr</td>\n",
       "      <td>Other</td>\n",
       "      <td>Owner</td>\n",
       "      <td>2-5yrs</td>\n",
       "      <td>No defect</td>\n",
       "      <td>Outside rural areas</td>\n",
       "      <td>Undivided Two way</td>\n",
       "      <td>Tangent road with mountainous terrain and</td>\n",
       "      <td>O Shape</td>\n",
       "      <td>Asphalt roads</td>\n",
       "      <td>Dry</td>\n",
       "      <td>Darkness - lights lit</td>\n",
       "      <td>Normal</td>\n",
       "      <td>Vehicle with vehicle collision</td>\n",
       "      <td>2</td>\n",
       "      <td>1</td>\n",
       "      <td>Stopping</td>\n",
       "      <td>Pedestrian</td>\n",
       "      <td>Female</td>\n",
       "      <td>5</td>\n",
       "      <td>3</td>\n",
       "      <td>Driver</td>\n",
       "      <td>Normal</td>\n",
       "      <td>Crossing from nearside - masked by parked or s...</td>\n",
       "      <td>Changing lane to the right</td>\n",
       "      <td>Slight Injury</td>\n",
       "      <td>13</td>\n",
       "      <td>55</td>\n",
       "    </tr>\n",
       "  </tbody>\n",
       "</table>\n",
       "<p>12316 rows × 33 columns</p>\n",
       "</div>"
      ],
      "text/plain": [
       "      day_of_week driver_age driver_sex   educational_level  \\\n",
       "0          Monday      18-30       Male   Above high school   \n",
       "1          Monday      31-50       Male  Junior high school   \n",
       "2          Monday      18-30       Male  Junior high school   \n",
       "3          Sunday      18-30       Male  Junior high school   \n",
       "4          Sunday      18-30       Male  Junior high school   \n",
       "...           ...        ...        ...                 ...   \n",
       "12311   Wednesday      31-50       Male                 NaN   \n",
       "12312      Sunday    Unknown       Male   Elementary school   \n",
       "12313      Sunday    Over 51       Male  Junior high school   \n",
       "12314      Sunday      18-30     Female  Junior high school   \n",
       "12315      Sunday      18-30       Male  Junior high school   \n",
       "\n",
       "      vehicle_driver_relation driving_experience         vehicle_type  \\\n",
       "0                    Employee              1-2yr           Automobile   \n",
       "1                    Employee         Above 10yr  Public (> 45 seats)   \n",
       "2                    Employee              1-2yr      Lorry (41?100Q)   \n",
       "3                    Employee             5-10yr  Public (> 45 seats)   \n",
       "4                    Employee              2-5yr                  NaN   \n",
       "...                       ...                ...                  ...   \n",
       "12311                Employee              2-5yr       Lorry (11?40Q)   \n",
       "12312                Employee             5-10yr           Automobile   \n",
       "12313                Employee             5-10yr                Bajaj   \n",
       "12314                Employee         Above 10yr      Lorry (41?100Q)   \n",
       "12315                Employee             5-10yr                Other   \n",
       "\n",
       "      vehicle_owner service_year vehicle_defect         accident_area  \\\n",
       "0             Owner   Above 10yr      No defect     Residential areas   \n",
       "1             Owner      5-10yrs      No defect          Office areas   \n",
       "2             Owner          NaN      No defect    Recreational areas   \n",
       "3      Governmental          NaN      No defect          Office areas   \n",
       "4             Owner      5-10yrs      No defect      Industrial areas   \n",
       "...             ...          ...            ...                   ...   \n",
       "12311         Owner          NaN      No defect   Outside rural areas   \n",
       "12312         Owner          NaN      No defect   Outside rural areas   \n",
       "12313         Owner       2-5yrs      No defect   Outside rural areas   \n",
       "12314         Owner       2-5yrs      No defect          Office areas   \n",
       "12315         Owner       2-5yrs      No defect   Outside rural areas   \n",
       "\n",
       "                                                  lanes  \\\n",
       "0                                                   NaN   \n",
       "1                                     Undivided Two way   \n",
       "2                                                 other   \n",
       "3                                                 other   \n",
       "4                                                 other   \n",
       "...                                                 ...   \n",
       "12311                                 Undivided Two way   \n",
       "12312  Two-way (divided with broken lines road marking)   \n",
       "12313  Two-way (divided with broken lines road marking)   \n",
       "12314                                 Undivided Two way   \n",
       "12315                                 Undivided Two way   \n",
       "\n",
       "                                     road_allignment junction_type  \\\n",
       "0                     Tangent road with flat terrain   No junction   \n",
       "1                     Tangent road with flat terrain   No junction   \n",
       "2                                                NaN   No junction   \n",
       "3      Tangent road with mild grade and flat terrain       Y Shape   \n",
       "4                     Tangent road with flat terrain       Y Shape   \n",
       "...                                              ...           ...   \n",
       "12311                 Tangent road with flat terrain   No junction   \n",
       "12312                                    Escarpments   No junction   \n",
       "12313      Tangent road with mountainous terrain and   No junction   \n",
       "12314      Tangent road with mountainous terrain and   No junction   \n",
       "12315      Tangent road with mountainous terrain and       O Shape   \n",
       "\n",
       "        surface_type road_surface_conditions        light_condition  \\\n",
       "0      Asphalt roads                     Dry               Daylight   \n",
       "1      Asphalt roads                     Dry               Daylight   \n",
       "2      Asphalt roads                     Dry               Daylight   \n",
       "3        Earth roads                     Dry  Darkness - lights lit   \n",
       "4      Asphalt roads                     Dry  Darkness - lights lit   \n",
       "...              ...                     ...                    ...   \n",
       "12311  Asphalt roads                     Dry               Daylight   \n",
       "12312  Asphalt roads                     Dry               Daylight   \n",
       "12313  Asphalt roads                     Dry               Daylight   \n",
       "12314  Asphalt roads                     Dry  Darkness - lights lit   \n",
       "12315  Asphalt roads                     Dry  Darkness - lights lit   \n",
       "\n",
       "      weather_condition                           collision_type  \\\n",
       "0                Normal  Collision with roadside-parked vehicles   \n",
       "1                Normal           Vehicle with vehicle collision   \n",
       "2                Normal          Collision with roadside objects   \n",
       "3                Normal           Vehicle with vehicle collision   \n",
       "4                Normal           Vehicle with vehicle collision   \n",
       "...                 ...                                      ...   \n",
       "12311            Normal           Vehicle with vehicle collision   \n",
       "12312            Normal           Vehicle with vehicle collision   \n",
       "12313            Normal           Vehicle with vehicle collision   \n",
       "12314            Normal           Vehicle with vehicle collision   \n",
       "12315            Normal           Vehicle with vehicle collision   \n",
       "\n",
       "       vehicles_involved  casualties vehicle_movement   casualty_class  \\\n",
       "0                      2           2   Going straight               na   \n",
       "1                      2           2   Going straight               na   \n",
       "2                      2           2   Going straight  Driver or rider   \n",
       "3                      2           2   Going straight       Pedestrian   \n",
       "4                      2           2   Going straight               na   \n",
       "...                  ...         ...              ...              ...   \n",
       "12311                  2           1   Going straight               na   \n",
       "12312                  2           1            Other               na   \n",
       "12313                  1           1            Other  Driver or rider   \n",
       "12314                  2           1            Other               na   \n",
       "12315                  2           1         Stopping       Pedestrian   \n",
       "\n",
       "      casualty_sex casualty_age casualty_severity casualty_work  \\\n",
       "0               na           na                na           NaN   \n",
       "1               na           na                na           NaN   \n",
       "2             Male        31-50                 3        Driver   \n",
       "3           Female        18-30                 3        Driver   \n",
       "4               na           na                na           NaN   \n",
       "...            ...          ...               ...           ...   \n",
       "12311           na           na                na        Driver   \n",
       "12312           na           na                na        Driver   \n",
       "12313         Male        31-50                 3        Driver   \n",
       "12314           na           na                na        Driver   \n",
       "12315       Female            5                 3        Driver   \n",
       "\n",
       "      casualty_fitness                                pedestrian_movement  \\\n",
       "0                  NaN                                   Not a Pedestrian   \n",
       "1                  NaN                                   Not a Pedestrian   \n",
       "2                  NaN                                   Not a Pedestrian   \n",
       "3               Normal                                   Not a Pedestrian   \n",
       "4                  NaN                                   Not a Pedestrian   \n",
       "...                ...                                                ...   \n",
       "12311           Normal                                   Not a Pedestrian   \n",
       "12312           Normal                                   Not a Pedestrian   \n",
       "12313           Normal                                   Not a Pedestrian   \n",
       "12314           Normal                                   Not a Pedestrian   \n",
       "12315           Normal  Crossing from nearside - masked by parked or s...   \n",
       "\n",
       "                             accident_cause accident_severity  hour  minute  \n",
       "0                           Moving Backward     Slight Injury    17       2  \n",
       "1                                Overtaking     Slight Injury    17       2  \n",
       "2                 Changing lane to the left    Serious Injury    17       2  \n",
       "3                Changing lane to the right     Slight Injury     1       6  \n",
       "4                                Overtaking     Slight Injury     1       6  \n",
       "...                                     ...               ...   ...     ...  \n",
       "12311                         No distancing     Slight Injury    16      15  \n",
       "12312                         No distancing     Slight Injury    18       0  \n",
       "12313            Changing lane to the right    Serious Injury    13      55  \n",
       "12314  Driving under the influence of drugs     Slight Injury    13      55  \n",
       "12315            Changing lane to the right     Slight Injury    13      55  \n",
       "\n",
       "[12316 rows x 33 columns]"
      ]
     },
     "execution_count": 21,
     "metadata": {},
     "output_type": "execute_result"
    }
   ],
   "source": [
    "df"
   ]
  },
  {
   "cell_type": "markdown",
   "id": "c90be3da",
   "metadata": {},
   "source": [
    "\n",
    "<div style=\"border-radius:10px; border:#DEB887 solid; padding: 15px; background-color: #FFFAF0; font-size:100%; text-align:left\">\n",
    "<h3 align=\"left\"><font color='#DEB887'>Observation:</font></h3>\n",
    "    \n",
    "\n",
    "Most of the accidents:\n",
    "* involved 2 vehicles and 2 casualties\n",
    "* occured on Fridays and after noon hours\n",
    "\n",
    "Most of the drivers:\n",
    "* are male and in 18-30 yrs age group\n",
    "* have only went upto Junior high school and are employees\n",
    "* have 5-10 yrs of driving experience\n",
    "\n",
    "Most of the accidents happened with personally owned passenger vehicles.\n",
    "\n",
    "Most of the drivers have met with accident on:\n",
    "* two-way lanes\n",
    "* tangent road with flat terrains\n",
    "* Y shaped junctions\n",
    "* asphalt roads\n",
    "* day time\n",
    "* normal weather conditions\n",
    "\n",
    "Most of the casualties:\n",
    "* happened to physically fit male drivers\n",
    "* are of severity 3\n",
    "\n",
    "The conditions on which most of the drivers met with the accident are:\n",
    "* vehicle to vehicle collision\n",
    "* straight movement\n",
    "* no pedestrian accidents\n",
    "\n",
    "Not keeping enough distance between the vehicles was the major cause for most of the accidents and majority of the accidents resulted in slight injury.\n",
    "    "
   ]
  },
  {
   "cell_type": "markdown",
   "id": "0f59af2e",
   "metadata": {},
   "source": [
    "<div style=\"border-radius:10px; border:#DEB887 solid; padding: 15px; background-color: #FFFAF0; font-size:100%; text-align:left\">\n",
    "<h3 align=\"left\"><font color='#DEB887'>Observation:</font></h3>\n",
    "    \n",
    "    \n",
    "* Most of the accidents have taken place between 3pm to 6pm with maximum numbers at 5 pm\n",
    "* Most of the time in minutes seems to have been recorded in intervals of 5 minutes for the sake of convenience. Hence more numbers to be seen at the 0 and 30 minutes."
   ]
  },
  {
   "cell_type": "code",
   "execution_count": 22,
   "id": "198a4108",
   "metadata": {},
   "outputs": [],
   "source": [
    "min = list(range(5,56, 5))\n",
    "def convert_minutes(x: int):\n",
    "    for m in min:\n",
    "        if x % m == x and x > m-5:\n",
    "            return m\n",
    "        if x in [56,57,58,59]:\n",
    "            return 0\n",
    "        if x in min+[0]:\n",
    "            return x"
   ]
  },
  {
   "cell_type": "code",
   "execution_count": 23,
   "id": "ad1c7c6a",
   "metadata": {},
   "outputs": [],
   "source": [
    "df['minute'] = df['minute'].apply(lambda x: convert_minutes(x))"
   ]
  },
  {
   "cell_type": "code",
   "execution_count": 24,
   "id": "72225430",
   "metadata": {},
   "outputs": [
    {
     "data": {
      "image/png": "[encoded data removed]",
      "text/plain": [
       "<Figure size 360x504 with 1 Axes>"
      ]
     },
     "metadata": {},
     "output_type": "display_data"
    }
   ],
   "source": [
    "plt.figure(figsize=(5,7))\n",
    "sns.countplot(data=df, y='minute')\n",
    "plt.xticks(fontsize=12)\n",
    "plt.yticks(fontsize=12)\n",
    "plt.title('Minute', fontsize=14)\n",
    "plt.xlabel('')\n",
    "plt.ylabel('')\n",
    "plt.tight_layout()"
   ]
  },
  {
   "cell_type": "markdown",
   "id": "72acb737",
   "metadata": {},
   "source": [
    "<div style=\"border-radius:10px; border:#DEB887 solid; padding: 15px; background-color: #FFFAF0; font-size:100%; text-align:left\">\n",
    "<h3 align=\"left\"><font color='#DEB887'>Observation:</font></h3>\n",
    "    \n",
    "* Most of the accidents with fatal injuries happened between 2pm to 7pm.\n",
    "* Most of the accidents with fatal injuries happened on weekends.\n",
    "* Highest number of non-fatal injuries happened at 5pm.\n",
    "* Highest number of non-fatal injuries happened on fridays.\n",
    "* Most accidents are caused by drivers aged 18-30 and the least by drivers aged under 18.\n",
    "* Proportion of fatal accidents are lower for female drivers.\n",
    "* Drivers with 2-5yrs of experience caused most accidents with fatal injury and those with 5-10yrs experience caused most accidents with non-fatal injuries.\n",
    "* Proportion of fatal injuries caused by vehicles with more than 10yrs of service is lower compared to non-fatal injuries.\n",
    "* Though most of the accident happened around offices, a higher proportion of accidents happened around residential areas have led to fatal injuries.\n",
    "* Most accidents with fatal injuries occured on undivided two-ways.\n",
    "* Most accidents with non-fatal injuries occured on two-way divided with broken lines road marking\n",
    "* Double carriageway has a lower proportion of fatal accidents compared to non-fatal accidents.\n",
    "* Severity of accidents increases at places with no junctions and the most number of fatal injuries occured at places with no junctions.\n",
    "* Crossings and Y-shaped junctions shows a decreasing trend with respect to severity of accidents though the numbers are high.\n",
    "* Most of the accidents with fatal injury have happened at night.\n",
    "* Collisions with pedestrians have resulted in more fatal injuries compared to non-fatal injuries.\n",
    "* Accidents with 4 casualties have a huge proportion on fatal injuries compared to non-fatal injuries.\n",
    "* Accidents involving drivers with 18-30yrs of age have an increasing pattern with respect to severity of injuries.\n",
    "* Moving backward led to most of the accidents with fatal injuries whereas failing to keep enough distance between vehicles led to more number of accidents with non-fatal injuries."
   ]
  },
  {
   "cell_type": "code",
   "execution_count": 25,
   "id": "f0d46acc",
   "metadata": {},
   "outputs": [],
   "source": [
    "# //////////////////////////////////////////////////////"
   ]
  },
  {
   "cell_type": "code",
   "execution_count": 26,
   "id": "f4aa7b58",
   "metadata": {},
   "outputs": [],
   "source": [
    "hypothesis_df = df.copy(deep=True)"
   ]
  },
  {
   "cell_type": "markdown",
   "id": "f810c1f6",
   "metadata": {},
   "source": [
    "<div style=\"border-radius:10px; border: #0080FF solid; padding: 15px; background-color: #CEF6F5; font-size:100%; text-align:left\">\n",
    "<h2 align=\"left\"><font color='#0080FF'> Hypothesis 1: Which of both genders is actually dangerous in Driving?</font></h2><br>\n",
    "\n",
    "\n",
    "### Calculating the Conditional Probability; Probability of an Accident Happen When the Driver is a Female and Repeating the Calculations when it's Male\n",
    "\n",
    "####  P(Gender = Male | Severity = 2) P(Gender = Female | Severity = 2)"
   ]
  },
  {
   "cell_type": "code",
   "execution_count": 27,
   "id": "c80dfe80",
   "metadata": {},
   "outputs": [
    {
     "data": {
      "text/plain": [
       "driver_sex\n",
       "Accidents(in %) Caused by Female      5.691783\n",
       "Accidents(in %) Caused by Male       92.862943\n",
       "Accidents(in %) Caused by Unknown     1.445274\n",
       "dtype: float64"
      ]
     },
     "execution_count": 27,
     "metadata": {},
     "output_type": "execute_result"
    }
   ],
   "source": [
    "((hypothesis_df.groupby(['driver_sex']).size() / hypothesis_df[\"driver_sex\"].count()) * 100).add_prefix('Accidents(in %) Caused by ')"
   ]
  },
  {
   "cell_type": "code",
   "execution_count": 28,
   "id": "ed6a86fc",
   "metadata": {
    "scrolled": true
   },
   "outputs": [
    {
     "data": {
      "image/png": "[encoded data removed]",
      "text/plain": [
       "<Figure size 864x720 with 1 Axes>"
      ]
     },
     "metadata": {},
     "output_type": "display_data"
    }
   ],
   "source": [
    "plt.figure(figsize=(12,10))\n",
    "male_df = hypothesis_df.loc[hypothesis_df.driver_sex == 'Male']\n",
    "female_df = hypothesis_df.loc[hypothesis_df.driver_sex == 'Female']\n",
    "sns.barplot(data=male_df,x = male_df.accident_cause.unique(),y = male_df.accident_cause.value_counts().values,color='dodgerblue', label=\"Male\")\n",
    "sns.barplot(data=female_df,x = female_df.accident_cause.unique(),y = female_df.accident_cause.value_counts().values,color='crimson', label=\"Female\")\n",
    "plt.xticks(rotation=90)\n",
    "plt.legend()\n",
    "plt.show()"
   ]
  },
  {
   "cell_type": "code",
   "execution_count": 29,
   "id": "530d2a4a",
   "metadata": {},
   "outputs": [
    {
     "data": {
      "text/html": [
       "<div>\n",
       "<style scoped>\n",
       "    .dataframe tbody tr th:only-of-type {\n",
       "        vertical-align: middle;\n",
       "    }\n",
       "\n",
       "    .dataframe tbody tr th {\n",
       "        vertical-align: top;\n",
       "    }\n",
       "\n",
       "    .dataframe thead th {\n",
       "        text-align: right;\n",
       "    }\n",
       "</style>\n",
       "<table border=\"1\" class=\"dataframe\">\n",
       "  <thead>\n",
       "    <tr style=\"text-align: right;\">\n",
       "      <th>accident_severity</th>\n",
       "      <th>Fatal injury</th>\n",
       "      <th>Serious Injury</th>\n",
       "      <th>Slight Injury</th>\n",
       "      <th>All</th>\n",
       "    </tr>\n",
       "    <tr>\n",
       "      <th>driver_sex</th>\n",
       "      <th></th>\n",
       "      <th></th>\n",
       "      <th></th>\n",
       "      <th></th>\n",
       "    </tr>\n",
       "  </thead>\n",
       "  <tbody>\n",
       "    <tr>\n",
       "      <th>Female</th>\n",
       "      <td>5</td>\n",
       "      <td>104</td>\n",
       "      <td>592</td>\n",
       "      <td>701</td>\n",
       "    </tr>\n",
       "    <tr>\n",
       "      <th>Male</th>\n",
       "      <td>152</td>\n",
       "      <td>1621</td>\n",
       "      <td>9664</td>\n",
       "      <td>11437</td>\n",
       "    </tr>\n",
       "    <tr>\n",
       "      <th>All</th>\n",
       "      <td>157</td>\n",
       "      <td>1725</td>\n",
       "      <td>10256</td>\n",
       "      <td>12138</td>\n",
       "    </tr>\n",
       "  </tbody>\n",
       "</table>\n",
       "</div>"
      ],
      "text/plain": [
       "accident_severity  Fatal injury  Serious Injury  Slight Injury    All\n",
       "driver_sex                                                           \n",
       "Female                        5             104            592    701\n",
       "Male                        152            1621           9664  11437\n",
       "All                         157            1725          10256  12138"
      ]
     },
     "execution_count": 29,
     "metadata": {},
     "output_type": "execute_result"
    }
   ],
   "source": [
    "ff = pd.crosstab(index=hypothesis_df['driver_sex'].loc[hypothesis_df['driver_sex'] !=\"Unknown\"], columns=df['accident_severity']\n",
    "                 , margins=True)\n",
    "ff"
   ]
  },
  {
   "cell_type": "code",
   "execution_count": 30,
   "id": "217cef56",
   "metadata": {},
   "outputs": [
    {
     "name": "stdout",
     "output_type": "stream",
     "text": [
      "P(Gender = Female | Severity = Fatal) = 0.7132667617689016%\n",
      "P(Gender = Male | Severity = Fatal) = 1.3290198478622017%\n",
      "\n",
      "P(Gender = Female | Severity = Serious Injury) = 14.835948644793154%\n",
      "P(Gender = Male | Severity = Serious Injury) = 14.173297193319925%\n",
      "\n",
      "P(Gender = Female | Severity = Slight Injury) = 84.45078459343794%\n",
      "P(Gender = Male | Severity = Slight Injury) = 84.49768295881788%\n"
     ]
    }
   ],
   "source": [
    "print(\"P(Gender = Female | Severity = Fatal) = \" + str((ff.iloc[0,0])/(ff.iloc[0,3]*1.0)*100) + '%')\n",
    "print(\"P(Gender = Male | Severity = Fatal) = \" + str((ff.iloc[1,0])/(ff.iloc[1,3]*1.0)*100) + '%\\n')\n",
    "\n",
    "\n",
    "print(\"P(Gender = Female | Severity = Serious Injury) = \" + str((ff.iloc[0,1])/(ff.iloc[0,3]*1.0)*100) + '%')\n",
    "print(\"P(Gender = Male | Severity = Serious Injury) = \" + str((ff.iloc[1,1])/(ff.iloc[1,3]*1.0)*100) + '%\\n')\n",
    "\n",
    "\n",
    "print(\"P(Gender = Female | Severity = Slight Injury) = \" + str((ff.iloc[0,2])/(ff.iloc[0,3]*1.0)*100) + '%')\n",
    "print(\"P(Gender = Male | Severity = Slight Injury) = \" + str((ff.iloc[1,2])/(ff.iloc[1,3]*1.0)*100) + '%')"
   ]
  },
  {
   "cell_type": "markdown",
   "id": "9724348e",
   "metadata": {},
   "source": [
    "### Observation:\n",
    "    \n",
    "##### Although, the percentage of Accidents done in this sample by males is over 92% but, it doesn't actually indicate that males are more dangerous\n",
    "##### If we calculated the probability for each gender we can deduce that both are quite the same."
   ]
  },
  {
   "cell_type": "markdown",
   "id": "9a91252b",
   "metadata": {},
   "source": [
    "<div style=\"border-radius:10px; border: #0080FF solid; padding: 15px; background-color: #CEF6F5; font-size:100%; text-align:left\">\n",
    "<h2 align=\"left\"><font color='#0080FF'>Hypothesis 2: Is Speeding is the main Cause for Car Crashes?</font></h2><br>"
   ]
  },
  {
   "cell_type": "code",
   "execution_count": 31,
   "id": "7883da34",
   "metadata": {},
   "outputs": [
    {
     "data": {
      "text/html": [
       "<div>\n",
       "<style scoped>\n",
       "    .dataframe tbody tr th:only-of-type {\n",
       "        vertical-align: middle;\n",
       "    }\n",
       "\n",
       "    .dataframe tbody tr th {\n",
       "        vertical-align: top;\n",
       "    }\n",
       "\n",
       "    .dataframe thead th {\n",
       "        text-align: right;\n",
       "    }\n",
       "</style>\n",
       "<table border=\"1\" class=\"dataframe\">\n",
       "  <thead>\n",
       "    <tr style=\"text-align: right;\">\n",
       "      <th>accident_severity</th>\n",
       "      <th>Fatal injury</th>\n",
       "      <th>Serious Injury</th>\n",
       "      <th>Slight Injury</th>\n",
       "      <th>All</th>\n",
       "    </tr>\n",
       "    <tr>\n",
       "      <th>accident_cause</th>\n",
       "      <th></th>\n",
       "      <th></th>\n",
       "      <th></th>\n",
       "      <th></th>\n",
       "    </tr>\n",
       "  </thead>\n",
       "  <tbody>\n",
       "    <tr>\n",
       "      <th>Changing lane to the left</th>\n",
       "      <td>16</td>\n",
       "      <td>206</td>\n",
       "      <td>1251</td>\n",
       "      <td>1473</td>\n",
       "    </tr>\n",
       "    <tr>\n",
       "      <th>Changing lane to the right</th>\n",
       "      <td>23</td>\n",
       "      <td>260</td>\n",
       "      <td>1525</td>\n",
       "      <td>1808</td>\n",
       "    </tr>\n",
       "    <tr>\n",
       "      <th>Driving at high speed</th>\n",
       "      <td>2</td>\n",
       "      <td>31</td>\n",
       "      <td>141</td>\n",
       "      <td>174</td>\n",
       "    </tr>\n",
       "    <tr>\n",
       "      <th>Driving carelessly</th>\n",
       "      <td>22</td>\n",
       "      <td>209</td>\n",
       "      <td>1171</td>\n",
       "      <td>1402</td>\n",
       "    </tr>\n",
       "    <tr>\n",
       "      <th>Driving to the left</th>\n",
       "      <td>4</td>\n",
       "      <td>53</td>\n",
       "      <td>227</td>\n",
       "      <td>284</td>\n",
       "    </tr>\n",
       "    <tr>\n",
       "      <th>Driving under the influence of drugs</th>\n",
       "      <td>5</td>\n",
       "      <td>46</td>\n",
       "      <td>289</td>\n",
       "      <td>340</td>\n",
       "    </tr>\n",
       "    <tr>\n",
       "      <th>Drunk driving</th>\n",
       "      <td>0</td>\n",
       "      <td>3</td>\n",
       "      <td>24</td>\n",
       "      <td>27</td>\n",
       "    </tr>\n",
       "    <tr>\n",
       "      <th>Getting off the vehicle improperly</th>\n",
       "      <td>3</td>\n",
       "      <td>29</td>\n",
       "      <td>165</td>\n",
       "      <td>197</td>\n",
       "    </tr>\n",
       "    <tr>\n",
       "      <th>Improper parking</th>\n",
       "      <td>1</td>\n",
       "      <td>2</td>\n",
       "      <td>22</td>\n",
       "      <td>25</td>\n",
       "    </tr>\n",
       "    <tr>\n",
       "      <th>Moving Backward</th>\n",
       "      <td>26</td>\n",
       "      <td>162</td>\n",
       "      <td>949</td>\n",
       "      <td>1137</td>\n",
       "    </tr>\n",
       "    <tr>\n",
       "      <th>No distancing</th>\n",
       "      <td>20</td>\n",
       "      <td>303</td>\n",
       "      <td>1940</td>\n",
       "      <td>2263</td>\n",
       "    </tr>\n",
       "    <tr>\n",
       "      <th>No priority to pedestrian</th>\n",
       "      <td>5</td>\n",
       "      <td>95</td>\n",
       "      <td>621</td>\n",
       "      <td>721</td>\n",
       "    </tr>\n",
       "    <tr>\n",
       "      <th>No priority to vehicle</th>\n",
       "      <td>13</td>\n",
       "      <td>149</td>\n",
       "      <td>1045</td>\n",
       "      <td>1207</td>\n",
       "    </tr>\n",
       "    <tr>\n",
       "      <th>Other</th>\n",
       "      <td>7</td>\n",
       "      <td>64</td>\n",
       "      <td>385</td>\n",
       "      <td>456</td>\n",
       "    </tr>\n",
       "    <tr>\n",
       "      <th>Overloading</th>\n",
       "      <td>2</td>\n",
       "      <td>10</td>\n",
       "      <td>47</td>\n",
       "      <td>59</td>\n",
       "    </tr>\n",
       "    <tr>\n",
       "      <th>Overspeed</th>\n",
       "      <td>1</td>\n",
       "      <td>15</td>\n",
       "      <td>45</td>\n",
       "      <td>61</td>\n",
       "    </tr>\n",
       "    <tr>\n",
       "      <th>Overtaking</th>\n",
       "      <td>4</td>\n",
       "      <td>75</td>\n",
       "      <td>351</td>\n",
       "      <td>430</td>\n",
       "    </tr>\n",
       "    <tr>\n",
       "      <th>Overturning</th>\n",
       "      <td>2</td>\n",
       "      <td>23</td>\n",
       "      <td>124</td>\n",
       "      <td>149</td>\n",
       "    </tr>\n",
       "    <tr>\n",
       "      <th>Turnover</th>\n",
       "      <td>2</td>\n",
       "      <td>6</td>\n",
       "      <td>70</td>\n",
       "      <td>78</td>\n",
       "    </tr>\n",
       "    <tr>\n",
       "      <th>Unknown</th>\n",
       "      <td>0</td>\n",
       "      <td>2</td>\n",
       "      <td>23</td>\n",
       "      <td>25</td>\n",
       "    </tr>\n",
       "    <tr>\n",
       "      <th>All</th>\n",
       "      <td>158</td>\n",
       "      <td>1743</td>\n",
       "      <td>10415</td>\n",
       "      <td>12316</td>\n",
       "    </tr>\n",
       "  </tbody>\n",
       "</table>\n",
       "</div>"
      ],
      "text/plain": [
       "accident_severity                     Fatal injury  Serious Injury  \\\n",
       "accident_cause                                                       \n",
       "Changing lane to the left                       16             206   \n",
       "Changing lane to the right                      23             260   \n",
       "Driving at high speed                            2              31   \n",
       "Driving carelessly                              22             209   \n",
       "Driving to the left                              4              53   \n",
       "Driving under the influence of drugs             5              46   \n",
       "Drunk driving                                    0               3   \n",
       "Getting off the vehicle improperly               3              29   \n",
       "Improper parking                                 1               2   \n",
       "Moving Backward                                 26             162   \n",
       "No distancing                                   20             303   \n",
       "No priority to pedestrian                        5              95   \n",
       "No priority to vehicle                          13             149   \n",
       "Other                                            7              64   \n",
       "Overloading                                      2              10   \n",
       "Overspeed                                        1              15   \n",
       "Overtaking                                       4              75   \n",
       "Overturning                                      2              23   \n",
       "Turnover                                         2               6   \n",
       "Unknown                                          0               2   \n",
       "All                                            158            1743   \n",
       "\n",
       "accident_severity                     Slight Injury    All  \n",
       "accident_cause                                              \n",
       "Changing lane to the left                      1251   1473  \n",
       "Changing lane to the right                     1525   1808  \n",
       "Driving at high speed                           141    174  \n",
       "Driving carelessly                             1171   1402  \n",
       "Driving to the left                             227    284  \n",
       "Driving under the influence of drugs            289    340  \n",
       "Drunk driving                                    24     27  \n",
       "Getting off the vehicle improperly              165    197  \n",
       "Improper parking                                 22     25  \n",
       "Moving Backward                                 949   1137  \n",
       "No distancing                                  1940   2263  \n",
       "No priority to pedestrian                       621    721  \n",
       "No priority to vehicle                         1045   1207  \n",
       "Other                                           385    456  \n",
       "Overloading                                      47     59  \n",
       "Overspeed                                        45     61  \n",
       "Overtaking                                      351    430  \n",
       "Overturning                                     124    149  \n",
       "Turnover                                         70     78  \n",
       "Unknown                                          23     25  \n",
       "All                                           10415  12316  "
      ]
     },
     "execution_count": 31,
     "metadata": {},
     "output_type": "execute_result"
    }
   ],
   "source": [
    "ff = pd.crosstab(index=hypothesis_df['accident_cause'], columns=hypothesis_df['accident_severity'], margins=True)\n",
    "ff"
   ]
  },
  {
   "cell_type": "code",
   "execution_count": 32,
   "id": "cbcd85b1",
   "metadata": {},
   "outputs": [
    {
     "name": "stdout",
     "output_type": "stream",
     "text": [
      "Injuries(all types due to speeding): 141/1402\n",
      "In percentage: 10.057061340941512 %\n"
     ]
    }
   ],
   "source": [
    "print(f'Injuries(all types due to speeding): {ff.iloc[2,2]}/{ff.iloc[3,3]}')\n",
    "print(f'In percentage: {(ff.iloc[2,2]/ff.iloc[3,3])*100} %')"
   ]
  },
  {
   "cell_type": "markdown",
   "id": "a1ab8969",
   "metadata": {},
   "source": [
    "<div style=\"border-radius:10px; border:#DEB887 solid; padding: 15px; background-color: #FFFAF0; font-size:100%; text-align:left\">\n",
    "<h3 align=\"left\"><font color='#DEB887'>Observation:</font></h3>\n",
    "    \n",
    "Despite the fact that speeding causes accidents. After analysis it’s found that speeding is not one of the main factors."
   ]
  },
  {
   "cell_type": "markdown",
   "id": "94b5832e",
   "metadata": {},
   "source": [
    "<div style=\"border-radius:10px; border: #0080FF solid; padding: 15px; background-color: #CEF6F5; font-size:100%; text-align:left\">\n",
    "<h2 align=\"left\"><font color='#0080FF'>Hypothesis 3: Do weekends account for more accidents?</font></h2><br>"
   ]
  },
  {
   "cell_type": "code",
   "execution_count": 33,
   "id": "b020fc9d",
   "metadata": {},
   "outputs": [
    {
     "data": {
      "text/html": [
       "<div>\n",
       "<style scoped>\n",
       "    .dataframe tbody tr th:only-of-type {\n",
       "        vertical-align: middle;\n",
       "    }\n",
       "\n",
       "    .dataframe tbody tr th {\n",
       "        vertical-align: top;\n",
       "    }\n",
       "\n",
       "    .dataframe thead th {\n",
       "        text-align: right;\n",
       "    }\n",
       "</style>\n",
       "<table border=\"1\" class=\"dataframe\">\n",
       "  <thead>\n",
       "    <tr style=\"text-align: right;\">\n",
       "      <th>accident_severity</th>\n",
       "      <th>Fatal injury</th>\n",
       "      <th>Serious Injury</th>\n",
       "      <th>Slight Injury</th>\n",
       "      <th>All</th>\n",
       "    </tr>\n",
       "    <tr>\n",
       "      <th>day_of_week</th>\n",
       "      <th></th>\n",
       "      <th></th>\n",
       "      <th></th>\n",
       "      <th></th>\n",
       "    </tr>\n",
       "  </thead>\n",
       "  <tbody>\n",
       "    <tr>\n",
       "      <th>Friday</th>\n",
       "      <td>16</td>\n",
       "      <td>313</td>\n",
       "      <td>1712</td>\n",
       "      <td>2041</td>\n",
       "    </tr>\n",
       "    <tr>\n",
       "      <th>Monday</th>\n",
       "      <td>12</td>\n",
       "      <td>204</td>\n",
       "      <td>1465</td>\n",
       "      <td>1681</td>\n",
       "    </tr>\n",
       "    <tr>\n",
       "      <th>Saturday</th>\n",
       "      <td>37</td>\n",
       "      <td>245</td>\n",
       "      <td>1384</td>\n",
       "      <td>1666</td>\n",
       "    </tr>\n",
       "    <tr>\n",
       "      <th>Sunday</th>\n",
       "      <td>35</td>\n",
       "      <td>190</td>\n",
       "      <td>1242</td>\n",
       "      <td>1467</td>\n",
       "    </tr>\n",
       "    <tr>\n",
       "      <th>Thursday</th>\n",
       "      <td>22</td>\n",
       "      <td>272</td>\n",
       "      <td>1557</td>\n",
       "      <td>1851</td>\n",
       "    </tr>\n",
       "    <tr>\n",
       "      <th>Tuesday</th>\n",
       "      <td>17</td>\n",
       "      <td>257</td>\n",
       "      <td>1496</td>\n",
       "      <td>1770</td>\n",
       "    </tr>\n",
       "    <tr>\n",
       "      <th>Wednesday</th>\n",
       "      <td>19</td>\n",
       "      <td>262</td>\n",
       "      <td>1559</td>\n",
       "      <td>1840</td>\n",
       "    </tr>\n",
       "    <tr>\n",
       "      <th>All</th>\n",
       "      <td>158</td>\n",
       "      <td>1743</td>\n",
       "      <td>10415</td>\n",
       "      <td>12316</td>\n",
       "    </tr>\n",
       "  </tbody>\n",
       "</table>\n",
       "</div>"
      ],
      "text/plain": [
       "accident_severity  Fatal injury  Serious Injury  Slight Injury    All\n",
       "day_of_week                                                          \n",
       "Friday                       16             313           1712   2041\n",
       "Monday                       12             204           1465   1681\n",
       "Saturday                     37             245           1384   1666\n",
       "Sunday                       35             190           1242   1467\n",
       "Thursday                     22             272           1557   1851\n",
       "Tuesday                      17             257           1496   1770\n",
       "Wednesday                    19             262           1559   1840\n",
       "All                         158            1743          10415  12316"
      ]
     },
     "execution_count": 33,
     "metadata": {},
     "output_type": "execute_result"
    }
   ],
   "source": [
    "ff = pd.crosstab(index=hypothesis_df['day_of_week'], columns=hypothesis_df['accident_severity'], margins=True)\n",
    "ff"
   ]
  },
  {
   "cell_type": "code",
   "execution_count": 34,
   "id": "69ad3409",
   "metadata": {},
   "outputs": [
    {
     "name": "stdout",
     "output_type": "stream",
     "text": [
      "Accident percentage on weekdays: 0.75\n",
      "Accident percentage on weekends: 0.25\n"
     ]
    }
   ],
   "source": [
    "print('Accident percentage on weekdays:',round(sum([ff.iloc[i,3] for i in range(0,7) if ff.index[i] not in ['Saturday','Sunday']])/ff.iloc[7,3],2))\n",
    "print('Accident percentage on weekends:',round(sum([ff.iloc[i,3] for i in range(0,7) if ff.index[i] in ['Saturday','Sunday']])/ff.iloc[7,3],2))\n"
   ]
  },
  {
   "cell_type": "markdown",
   "id": "a14ae617",
   "metadata": {},
   "source": [
    "<div style=\"border-radius:10px; border:#DEB887 solid; padding: 15px; background-color: #FFFAF0; font-size:100%; text-align:left\">\n",
    "<h3 align=\"left\"><font color='#DEB887'>Observation:</font></h3>\n",
    "    \n",
    "Its quite clear that there is no indication of more accidents happening on weekends"
   ]
  },
  {
   "cell_type": "markdown",
   "id": "99f1849f",
   "metadata": {},
   "source": [
    "<div style=\"border-radius:10px; border: #0080FF solid; padding: 15px; background-color: #CEF6F5; font-size:100%; text-align:left\">\n",
    "<h2 align=\"left\"><font color='#0080FF'>Hypothesis 4: Are there more dangerous injuries at night than in day? </font></h2><br>\n",
    "<font color='#0080FF'>We would consider both fatal and serious to be dangerous injuries</font>"
   ]
  },
  {
   "cell_type": "code",
   "execution_count": 35,
   "id": "9c9923ed",
   "metadata": {},
   "outputs": [
    {
     "data": {
      "text/html": [
       "<div>\n",
       "<style scoped>\n",
       "    .dataframe tbody tr th:only-of-type {\n",
       "        vertical-align: middle;\n",
       "    }\n",
       "\n",
       "    .dataframe tbody tr th {\n",
       "        vertical-align: top;\n",
       "    }\n",
       "\n",
       "    .dataframe thead th {\n",
       "        text-align: right;\n",
       "    }\n",
       "</style>\n",
       "<table border=\"1\" class=\"dataframe\">\n",
       "  <thead>\n",
       "    <tr style=\"text-align: right;\">\n",
       "      <th>accident_severity</th>\n",
       "      <th>Fatal injury</th>\n",
       "      <th>Serious Injury</th>\n",
       "      <th>Slight Injury</th>\n",
       "      <th>All</th>\n",
       "    </tr>\n",
       "    <tr>\n",
       "      <th>light_condition</th>\n",
       "      <th></th>\n",
       "      <th></th>\n",
       "      <th></th>\n",
       "      <th></th>\n",
       "    </tr>\n",
       "  </thead>\n",
       "  <tbody>\n",
       "    <tr>\n",
       "      <th>Darkness - lights lit</th>\n",
       "      <td>66</td>\n",
       "      <td>465</td>\n",
       "      <td>2755</td>\n",
       "      <td>3286</td>\n",
       "    </tr>\n",
       "    <tr>\n",
       "      <th>Darkness - lights unlit</th>\n",
       "      <td>0</td>\n",
       "      <td>7</td>\n",
       "      <td>33</td>\n",
       "      <td>40</td>\n",
       "    </tr>\n",
       "    <tr>\n",
       "      <th>Darkness - no lighting</th>\n",
       "      <td>5</td>\n",
       "      <td>49</td>\n",
       "      <td>138</td>\n",
       "      <td>192</td>\n",
       "    </tr>\n",
       "    <tr>\n",
       "      <th>Daylight</th>\n",
       "      <td>87</td>\n",
       "      <td>1222</td>\n",
       "      <td>7489</td>\n",
       "      <td>8798</td>\n",
       "    </tr>\n",
       "    <tr>\n",
       "      <th>All</th>\n",
       "      <td>158</td>\n",
       "      <td>1743</td>\n",
       "      <td>10415</td>\n",
       "      <td>12316</td>\n",
       "    </tr>\n",
       "  </tbody>\n",
       "</table>\n",
       "</div>"
      ],
      "text/plain": [
       "accident_severity        Fatal injury  Serious Injury  Slight Injury    All\n",
       "light_condition                                                            \n",
       "Darkness - lights lit              66             465           2755   3286\n",
       "Darkness - lights unlit             0               7             33     40\n",
       "Darkness - no lighting              5              49            138    192\n",
       "Daylight                           87            1222           7489   8798\n",
       "All                               158            1743          10415  12316"
      ]
     },
     "execution_count": 35,
     "metadata": {},
     "output_type": "execute_result"
    }
   ],
   "source": [
    "ff = pd.crosstab(index=hypothesis_df['light_condition'], columns=hypothesis_df['accident_severity'], margins=True)\n",
    "pd.crosstab(index=hypothesis_df['light_condition'], columns=hypothesis_df['accident_severity'], margins=True)\n",
    "ff"
   ]
  },
  {
   "cell_type": "code",
   "execution_count": 36,
   "id": "288fd534",
   "metadata": {},
   "outputs": [
    {
     "name": "stdout",
     "output_type": "stream",
     "text": [
      "Proportion of accidents with dangerous injuries: 15.44 %\n",
      "Proportion of accidents with slight injuries: 84.56 %\n"
     ]
    }
   ],
   "source": [
    "total_accidents = ff.iloc[4, 3]  # Access the value from the last row ('All') and the last column ('All')\n",
    "\n",
    "# Calculate the proportion of accidents with dangerous injuries (Fatal or Serious) relative to total accidents\n",
    "dangerous_injuries_proportion = sum(ff.iloc[light_index, i] for light_index in range(4) for i in [0, 1]) / total_accidents\n",
    "\n",
    "# Print the proportion of dangerous injuries\n",
    "print('Proportion of accidents with dangerous injuries:', round(dangerous_injuries_proportion * 100, 2), '%')\n",
    "\n",
    "# Calculate the proportion of accidents with slight injuries relative to total accidents\n",
    "slight_injuries_proportion = sum(ff.iloc[light_index, 2] for light_index in range(4)) / total_accidents\n",
    "\n",
    "# Print the proportion of slight injuries\n",
    "print('Proportion of accidents with slight injuries:', round(slight_injuries_proportion * 100, 2), '%')\n"
   ]
  },
  {
   "cell_type": "code",
   "execution_count": 37,
   "id": "dd4e9981",
   "metadata": {},
   "outputs": [
    {
     "name": "stdout",
     "output_type": "stream",
     "text": [
      "Proportion of accidents with dangerous injuries during the day: 14.88 %\n",
      "Proportion of accidents with slight injuries during the day: 85.12 %\n"
     ]
    }
   ],
   "source": [
    "# Calculate the proportion of accidents with dangerous injuries (Fatal or Serious) during the day\n",
    "dangerous_injuries_proportion = sum(ff.iloc[3, i] for i in [0, 1]) / ff.iloc[3, 3]\n",
    "print('Proportion of accidents with dangerous injuries during the day:', round(dangerous_injuries_proportion * 100, 2), '%')\n",
    "\n",
    "# Calculate the proportion of accidents with slight injuries during the day\n",
    "slight_injuries_proportion = ff.iloc[3, 2] / ff.iloc[3, 3]\n",
    "print('Proportion of accidents with slight injuries during the day:', round(slight_injuries_proportion * 100, 2), '%')\n"
   ]
  },
  {
   "cell_type": "markdown",
   "id": "7200d630",
   "metadata": {},
   "source": [
    "<div style=\"border-radius:10px; border:#DEB887 solid; padding: 15px; background-color: #FFFAF0; font-size:100%; text-align:left\">\n",
    "<h3 align=\"left\"><font color='#DEB887'>Observation:</font></h3>\n",
    "    \n",
    "Although it does that in daylight there are more number of accidents but the dangerous injuries percentage are almost same either be it day or night."
   ]
  },
  {
   "cell_type": "markdown",
   "id": "5dc8ad25",
   "metadata": {},
   "source": [
    "<div style=\"border-radius:10px; border: #0080FF solid; padding: 15px; background-color: #CEF6F5; font-size:100%; text-align:left\">\n",
    "<h2 align=\"left\"><font color='#0080FF'>Hypothesis 5: More accidents under some specific non-normal weather? </font></h2><br>\n",
    "<font color='#0080FF'>We would not consider normal weather</font>"
   ]
  },
  {
   "cell_type": "code",
   "execution_count": 38,
   "id": "0eaf2e1b",
   "metadata": {
    "scrolled": true
   },
   "outputs": [
    {
     "data": {
      "text/html": [
       "<div>\n",
       "<style scoped>\n",
       "    .dataframe tbody tr th:only-of-type {\n",
       "        vertical-align: middle;\n",
       "    }\n",
       "\n",
       "    .dataframe tbody tr th {\n",
       "        vertical-align: top;\n",
       "    }\n",
       "\n",
       "    .dataframe thead th {\n",
       "        text-align: right;\n",
       "    }\n",
       "</style>\n",
       "<table border=\"1\" class=\"dataframe\">\n",
       "  <thead>\n",
       "    <tr style=\"text-align: right;\">\n",
       "      <th>accident_severity</th>\n",
       "      <th>Fatal injury</th>\n",
       "      <th>Serious Injury</th>\n",
       "      <th>Slight Injury</th>\n",
       "      <th>All</th>\n",
       "    </tr>\n",
       "    <tr>\n",
       "      <th>weather_condition</th>\n",
       "      <th></th>\n",
       "      <th></th>\n",
       "      <th></th>\n",
       "      <th></th>\n",
       "    </tr>\n",
       "  </thead>\n",
       "  <tbody>\n",
       "    <tr>\n",
       "      <th>Cloudy</th>\n",
       "      <td>0</td>\n",
       "      <td>8</td>\n",
       "      <td>117</td>\n",
       "      <td>125</td>\n",
       "    </tr>\n",
       "    <tr>\n",
       "      <th>Fog or mist</th>\n",
       "      <td>0</td>\n",
       "      <td>1</td>\n",
       "      <td>9</td>\n",
       "      <td>10</td>\n",
       "    </tr>\n",
       "    <tr>\n",
       "      <th>Other</th>\n",
       "      <td>0</td>\n",
       "      <td>28</td>\n",
       "      <td>268</td>\n",
       "      <td>296</td>\n",
       "    </tr>\n",
       "    <tr>\n",
       "      <th>Raining</th>\n",
       "      <td>23</td>\n",
       "      <td>158</td>\n",
       "      <td>1150</td>\n",
       "      <td>1331</td>\n",
       "    </tr>\n",
       "    <tr>\n",
       "      <th>Raining and Windy</th>\n",
       "      <td>0</td>\n",
       "      <td>2</td>\n",
       "      <td>38</td>\n",
       "      <td>40</td>\n",
       "    </tr>\n",
       "    <tr>\n",
       "      <th>Snow</th>\n",
       "      <td>0</td>\n",
       "      <td>5</td>\n",
       "      <td>56</td>\n",
       "      <td>61</td>\n",
       "    </tr>\n",
       "    <tr>\n",
       "      <th>Unknown</th>\n",
       "      <td>0</td>\n",
       "      <td>51</td>\n",
       "      <td>241</td>\n",
       "      <td>292</td>\n",
       "    </tr>\n",
       "    <tr>\n",
       "      <th>Windy</th>\n",
       "      <td>0</td>\n",
       "      <td>16</td>\n",
       "      <td>82</td>\n",
       "      <td>98</td>\n",
       "    </tr>\n",
       "  </tbody>\n",
       "</table>\n",
       "</div>"
      ],
      "text/plain": [
       "accident_severity  Fatal injury  Serious Injury  Slight Injury   All\n",
       "weather_condition                                                   \n",
       "Cloudy                        0               8            117   125\n",
       "Fog or mist                   0               1              9    10\n",
       "Other                         0              28            268   296\n",
       "Raining                      23             158           1150  1331\n",
       "Raining and Windy             0               2             38    40\n",
       "Snow                          0               5             56    61\n",
       "Unknown                       0              51            241   292\n",
       "Windy                         0              16             82    98"
      ]
     },
     "execution_count": 38,
     "metadata": {},
     "output_type": "execute_result"
    }
   ],
   "source": [
    "ff = pd.crosstab(index=hypothesis_df['weather_condition'], columns=hypothesis_df['accident_severity'], margins=True)\n",
    "pd.crosstab(index=hypothesis_df['weather_condition'], columns=hypothesis_df['accident_severity'], margins=True)\n",
    "ff.drop(['Normal','All'],axis=0)"
   ]
  },
  {
   "cell_type": "markdown",
   "id": "cf64ecc2",
   "metadata": {},
   "source": [
    "<div style=\"border-radius:10px; border:#DEB887 solid; padding: 15px; background-color: #FFFAF0; font-size:100%; text-align:left\">\n",
    "<h3 align=\"left\"><font color='#DEB887'>Observation:</font></h3>\n",
    "    \n",
    "Without any analysis we can clearly see that rainy weather causes more accident and also all the fatal injuries have occured under non-normal conditions are there in rainy weather"
   ]
  },
  {
   "cell_type": "code",
   "execution_count": 39,
   "id": "e9a84f14",
   "metadata": {},
   "outputs": [],
   "source": [
    "# ///////////////////////////"
   ]
  },
  {
   "cell_type": "markdown",
   "id": "e441fd53",
   "metadata": {},
   "source": [
    "# <span style=\"font-family:cursive;text-align:center\">⚙️ Preprocessing</span>"
   ]
  },
  {
   "cell_type": "code",
   "execution_count": 40,
   "id": "5bcabd4f",
   "metadata": {},
   "outputs": [
    {
     "data": {
      "text/plain": [
       "day_of_week                   0\n",
       "driver_age                    0\n",
       "driver_sex                    0\n",
       "educational_level           741\n",
       "vehicle_driver_relation     579\n",
       "driving_experience          829\n",
       "vehicle_type                950\n",
       "vehicle_owner               482\n",
       "service_year               3928\n",
       "vehicle_defect             4427\n",
       "accident_area               239\n",
       "lanes                       385\n",
       "road_allignment             142\n",
       "junction_type               887\n",
       "surface_type                172\n",
       "road_surface_conditions       0\n",
       "light_condition               0\n",
       "weather_condition             0\n",
       "collision_type              155\n",
       "vehicles_involved             0\n",
       "casualties                    0\n",
       "vehicle_movement            308\n",
       "casualty_class                0\n",
       "casualty_sex                  0\n",
       "casualty_age                  0\n",
       "casualty_severity             0\n",
       "casualty_work              3198\n",
       "casualty_fitness           2635\n",
       "pedestrian_movement           0\n",
       "accident_cause                0\n",
       "accident_severity             0\n",
       "hour                          0\n",
       "minute                        0\n",
       "dtype: int64"
      ]
     },
     "execution_count": 40,
     "metadata": {},
     "output_type": "execute_result"
    }
   ],
   "source": [
    "df.isna().sum()"
   ]
  },
  {
   "cell_type": "code",
   "execution_count": 41,
   "id": "f3f3188b",
   "metadata": {},
   "outputs": [],
   "source": [
    "# dropping columns that can cause imbalance while imputation\n",
    "\n",
    "df.drop(columns = ['vehicle_defect', 'vehicle_driver_relation', 'casualty_work', 'casualty_fitness'], inplace=True)"
   ]
  },
  {
   "cell_type": "code",
   "execution_count": 42,
   "id": "d7887fe1",
   "metadata": {},
   "outputs": [
    {
     "data": {
      "text/plain": [
       "day_of_week                   0\n",
       "driver_age                    0\n",
       "driver_sex                    0\n",
       "educational_level           741\n",
       "driving_experience          829\n",
       "vehicle_type                950\n",
       "vehicle_owner               482\n",
       "service_year               3928\n",
       "accident_area               239\n",
       "lanes                       385\n",
       "road_allignment             142\n",
       "junction_type               887\n",
       "surface_type                172\n",
       "road_surface_conditions       0\n",
       "light_condition               0\n",
       "weather_condition             0\n",
       "collision_type              155\n",
       "vehicles_involved             0\n",
       "casualties                    0\n",
       "vehicle_movement            308\n",
       "casualty_class                0\n",
       "casualty_sex                  0\n",
       "casualty_age                  0\n",
       "casualty_severity             0\n",
       "pedestrian_movement           0\n",
       "accident_cause                0\n",
       "accident_severity             0\n",
       "hour                          0\n",
       "minute                        0\n",
       "dtype: int64"
      ]
     },
     "execution_count": 42,
     "metadata": {},
     "output_type": "execute_result"
    }
   ],
   "source": [
    "df.isna().sum() "
   ]
  },
  {
   "cell_type": "code",
   "execution_count": 47,
   "id": "93947f93",
   "metadata": {},
   "outputs": [],
   "source": [
    "impute_cols = [x for x in df.isna().sum()[df.isna().sum() != 0].index.tolist()]\n",
    "for feat in impute_cols:\n",
    "    mode = df[feat].mode()[0]\n",
    "    df[feat].fillna(mode, inplace=True)"
   ]
  },
  {
   "cell_type": "code",
   "execution_count": 48,
   "id": "149bd7e8",
   "metadata": {},
   "outputs": [
    {
     "data": {
      "text/plain": [
       "0        Going straight\n",
       "1        Going straight\n",
       "2        Going straight\n",
       "3        Going straight\n",
       "4        Going straight\n",
       "              ...      \n",
       "12311    Going straight\n",
       "12312             Other\n",
       "12313             Other\n",
       "12314             Other\n",
       "12315          Stopping\n",
       "Name: vehicle_movement, Length: 12316, dtype: object"
      ]
     },
     "execution_count": 48,
     "metadata": {},
     "output_type": "execute_result"
    }
   ],
   "source": [
    "df[feat]"
   ]
  },
  {
   "cell_type": "code",
   "execution_count": 49,
   "id": "27a13587",
   "metadata": {},
   "outputs": [
    {
     "data": {
      "text/plain": [
       "day_of_week                0\n",
       "driver_age                 0\n",
       "driver_sex                 0\n",
       "educational_level          0\n",
       "driving_experience         0\n",
       "vehicle_type               0\n",
       "vehicle_owner              0\n",
       "service_year               0\n",
       "accident_area              0\n",
       "lanes                      0\n",
       "road_allignment            0\n",
       "junction_type              0\n",
       "surface_type               0\n",
       "road_surface_conditions    0\n",
       "light_condition            0\n",
       "weather_condition          0\n",
       "collision_type             0\n",
       "vehicles_involved          0\n",
       "casualties                 0\n",
       "vehicle_movement           0\n",
       "casualty_class             0\n",
       "casualty_sex               0\n",
       "casualty_age               0\n",
       "casualty_severity          0\n",
       "pedestrian_movement        0\n",
       "accident_cause             0\n",
       "accident_severity          0\n",
       "hour                       0\n",
       "minute                     0\n",
       "dtype: int64"
      ]
     },
     "execution_count": 49,
     "metadata": {},
     "output_type": "execute_result"
    }
   ],
   "source": [
    "df.isna().sum() "
   ]
  },
  {
   "cell_type": "markdown",
   "id": "23f5b169",
   "metadata": {},
   "source": [
    "### <span style=\"font-family:cursive;text-align:center\"> Encoding</span>"
   ]
  },
  {
   "cell_type": "code",
   "execution_count": 50,
   "id": "ac4fd2fe",
   "metadata": {},
   "outputs": [],
   "source": [
    "# label encoding: ordinal (order) ranks (V)\n",
    "# one-hot encoding (binary) nominal data 0,1 (X)\n",
    "\n",
    "# target encoding (look into it in the second)\n",
    "\n",
    "# If you are using a pre-built function => split data before encoding\n",
    "# if you are using own function => you can do either\n",
    "\n",
    "#  ideally split the data"
   ]
  },
  {
   "cell_type": "code",
   "execution_count": 51,
   "id": "d82bcbed",
   "metadata": {},
   "outputs": [
    {
     "data": {
      "text/plain": [
       "(12316, 29)"
      ]
     },
     "execution_count": 51,
     "metadata": {},
     "output_type": "execute_result"
    }
   ],
   "source": [
    "def ordinal_encoder(df, feats): \n",
    "    for feat in feats:    \n",
    "        feat_val = list(np.arange(df[feat].nunique()))\n",
    "        feat_key = list(df[feat].sort_values().unique())\n",
    "        feat_dict = dict(zip(feat_key, feat_val))\n",
    "        df[feat] = df[feat].map(feat_dict)\n",
    "    return df\n",
    "\n",
    "df = ordinal_encoder(df, df.drop(['accident_severity'], axis=1).columns)\n",
    "df.shape\n"
   ]
  },
  {
   "cell_type": "code",
   "execution_count": 52,
   "id": "207e8966",
   "metadata": {},
   "outputs": [
    {
     "data": {
      "text/plain": [
       "<AxesSubplot:>"
      ]
     },
     "execution_count": 52,
     "metadata": {},
     "output_type": "execute_result"
    },
    {
     "data": {
      "image/png": "[encoded data removed]",
      "text/plain": [
       "<Figure size 1584x1224 with 2 Axes>"
      ]
     },
     "metadata": {},
     "output_type": "display_data"
    }
   ],
   "source": [
    "plt.figure(figsize=(22,17))\n",
    "sns.set(font_scale=0.8)\n",
    "sns.heatmap(df.corr(), annot=True, cmap=plt.cm.CMRmap_r)"
   ]
  },
  {
   "cell_type": "markdown",
   "id": "8eddd41b",
   "metadata": {},
   "source": [
    "# Upsampling"
   ]
  },
  {
   "cell_type": "code",
   "execution_count": 53,
   "id": "346e3fe8",
   "metadata": {},
   "outputs": [
    {
     "name": "stdout",
     "output_type": "stream",
     "text": [
      "(8621, 28) (3695, 28) (8621,) (3695,)\n"
     ]
    }
   ],
   "source": [
    "X = df.drop('accident_severity', axis=1)\n",
    "y = df['accident_severity']\n",
    "\n",
    "X_train, X_test, y_train, y_test = train_test_split(X, y, test_size=0.3, random_state=42)\n",
    "print(X_train.shape, X_test.shape, y_train.shape, y_test.shape)"
   ]
  },
  {
   "cell_type": "code",
   "execution_count": 54,
   "id": "6199bfbe",
   "metadata": {},
   "outputs": [],
   "source": [
    "oversample = SMOTE()\n",
    "X_train, y_train = oversample.fit_resample(X_train, y_train)"
   ]
  },
  {
   "cell_type": "code",
   "execution_count": 55,
   "id": "5b7d666d",
   "metadata": {},
   "outputs": [],
   "source": [
    "y_test = ordinal_encoder(pd.DataFrame(y_test, columns = ['accident_severity']), pd.DataFrame(y_test, columns = ['accident_severity']).columns)['accident_severity']\n",
    "y_train = ordinal_encoder(pd.DataFrame(y_train, columns = ['accident_severity']), pd.DataFrame(y_train, columns = ['accident_severity']).columns)['accident_severity']"
   ]
  },
  {
   "cell_type": "markdown",
   "id": "18fba0de",
   "metadata": {},
   "source": [
    "# <span style=\"font-family:cursive;text-align:center\">🧰 Baseline Modelling</span>"
   ]
  },
  {
   "cell_type": "code",
   "execution_count": 56,
   "id": "6200d844",
   "metadata": {},
   "outputs": [
    {
     "name": "stdout",
     "output_type": "stream",
     "text": [
      "Accuracy Scores:\n",
      "{'xgb': 0.8005412719891746, 'rf': 0.8010825439783491, 'extree': 0.8108254397834912}\n"
     ]
    }
   ],
   "source": [
    "from sklearn.model_selection import train_test_split\n",
    "from sklearn.metrics import accuracy_score\n",
    "from xgboost import XGBClassifier\n",
    "from sklearn.ensemble import RandomForestClassifier, ExtraTreesClassifier\n",
    "\n",
    "def modelling(X_train, y_train, X_test, y_test, **kwargs):\n",
    "    scores = {}\n",
    "    models = []\n",
    "\n",
    "    # XGBoost\n",
    "    if 'xgb' in kwargs and kwargs['xgb']:\n",
    "        xgb = XGBClassifier()\n",
    "        xgb.fit(X_train, y_train)\n",
    "        y_pred_xgb = xgb.predict(X_test)\n",
    "        scores['xgb'] = accuracy_score(y_test, y_pred_xgb)\n",
    "        models.append(xgb)        \n",
    "    \n",
    "    # Random Forest\n",
    "    if 'rf' in kwargs and kwargs['rf']:\n",
    "        rf = RandomForestClassifier(n_estimators=200)\n",
    "        rf.fit(X_train, y_train)\n",
    "        y_pred_rf = rf.predict(X_test)\n",
    "        scores['rf'] = accuracy_score(y_test, y_pred_rf)\n",
    "        models.append(rf)\n",
    "\n",
    "        \n",
    "    # Extra Trees\n",
    "    if 'extree' in kwargs and kwargs['extree']:\n",
    "        extree = ExtraTreesClassifier()\n",
    "        extree.fit(X_train, y_train)\n",
    "        y_pred_extree = extree.predict(X_test)\n",
    "        scores['extree'] = accuracy_score(y_test, y_pred_extree)\n",
    "        models.append(extree)\n",
    "\n",
    "    return scores, models\n",
    "\n",
    "# Assuming you have X_train, X_test, y_train, and y_test\n",
    "scores, models = modelling(X_train, y_train, X_test, y_test, xgb=True, rf=True, extree=True)\n",
    "print(\"Accuracy Scores:\")\n",
    "print(scores)"
   ]
  },
  {
   "cell_type": "code",
   "execution_count": 57,
   "id": "e2478d36",
   "metadata": {
    "scrolled": false
   },
   "outputs": [
    {
     "data": {
      "image/png": "[encoded data removed]",
      "text/plain": [
       "<Figure size 360x360 with 1 Axes>"
      ]
     },
     "metadata": {},
     "output_type": "display_data"
    },
    {
     "data": {
      "image/png": "[encoded data removed]",
      "text/plain": [
       "<Figure size 360x360 with 1 Axes>"
      ]
     },
     "metadata": {},
     "output_type": "display_data"
    },
    {
     "data": {
      "image/png": "[encoded data removed]",
      "text/plain": [
       "<Figure size 360x360 with 1 Axes>"
      ]
     },
     "metadata": {},
     "output_type": "display_data"
    }
   ],
   "source": [
    "y_pred_xgb = models[0].predict(X_test)\n",
    "y_pred_rf = models[1].predict(X_test)\n",
    "y_pred_ext = models[2].predict(X_test)\n",
    "\n",
    "\n",
    "tb = mcnemar_tables(y_test, \n",
    "                    y_pred_xgb,\n",
    "                    y_pred_rf, \n",
    "                    y_pred_ext)\n",
    "\n",
    "brd = checkerboard_plot(tb['model_0 vs model_1'],\n",
    "                        figsize=(5, 5),\n",
    "                        fmt='%d',\n",
    "                        col_labels=['model rf wrong', 'model rf right'],\n",
    "                        row_labels=['model xgb wrong', 'model xgb right'])\n",
    "plt.show()\n",
    "\n",
    "brd = checkerboard_plot(tb['model_0 vs model_2'],\n",
    "                        figsize=(5, 5),\n",
    "                        fmt='%d',\n",
    "                        col_labels=['model ext wrong', 'model ext right'],\n",
    "                        row_labels=['model xgb wrong', 'model xgb right'])\n",
    "plt.show()\n",
    "\n",
    "brd = checkerboard_plot(tb['model_1 vs model_2'],\n",
    "                        figsize=(5, 5),\n",
    "                        fmt='%d',\n",
    "                        col_labels=['model ext wrong', 'model ext right'],\n",
    "                        row_labels=['model rf wrong', 'model rf right'])\n",
    "plt.show()"
   ]
  },
  {
   "cell_type": "code",
   "execution_count": 58,
   "id": "5d8c90b9",
   "metadata": {},
   "outputs": [
    {
     "name": "stdout",
     "output_type": "stream",
     "text": [
      "XGBoost:\n",
      "Accuracy: 0.8005412719891746\n",
      "Precision: 0.7631282520774905\n",
      "Recall: 0.8005412719891746\n",
      "\n",
      "\n",
      "Random Forest:\n",
      "Accuracy: 0.8010825439783491\n",
      "Precision: 0.7639947331139167\n",
      "Recall: 0.8010825439783491\n",
      "\n",
      "\n",
      "Extra Trees:\n",
      "Accuracy: 0.8108254397834912\n",
      "Precision: 0.7520761130428659\n",
      "Recall: 0.8108254397834912\n"
     ]
    }
   ],
   "source": [
    "from sklearn.metrics import accuracy_score, precision_score, recall_score\n",
    "\n",
    "# Calculate metrics for XGBoost model\n",
    "accuracy_xgb = accuracy_score(y_test, y_pred_xgb)\n",
    "precision_xgb = precision_score(y_test, y_pred_xgb, average='weighted')\n",
    "recall_xgb = recall_score(y_test, y_pred_xgb, average='weighted')\n",
    "\n",
    "# Calculate metrics for Random Forest model\n",
    "accuracy_rf = accuracy_score(y_test, y_pred_rf)\n",
    "precision_rf = precision_score(y_test, y_pred_rf, average='weighted')\n",
    "recall_rf = recall_score(y_test, y_pred_rf, average='weighted')\n",
    "\n",
    "# Calculate metrics for Extra Trees model\n",
    "accuracy_ext = accuracy_score(y_test, y_pred_ext)\n",
    "precision_ext = precision_score(y_test, y_pred_ext, average='weighted')\n",
    "recall_ext = recall_score(y_test, y_pred_ext, average='weighted')\n",
    "\n",
    "\n",
    "# Print the metrics\n",
    "print(\"XGBoost:\")\n",
    "print(\"Accuracy:\", accuracy_xgb)\n",
    "print(\"Precision:\", precision_xgb)\n",
    "print(\"Recall:\", recall_xgb)\n",
    "print(\"\\n\")\n",
    "\n",
    "print(\"Random Forest:\")\n",
    "print(\"Accuracy:\", accuracy_rf)\n",
    "print(\"Precision:\", precision_rf)\n",
    "print(\"Recall:\", recall_rf)\n",
    "print(\"\\n\")\n",
    "\n",
    "print(\"Extra Trees:\")\n",
    "print(\"Accuracy:\", accuracy_ext)\n",
    "print(\"Precision:\", precision_ext)\n",
    "print(\"Recall:\", recall_ext)\n"
   ]
  },
  {
   "cell_type": "code",
   "execution_count": 59,
   "id": "cfa13149",
   "metadata": {},
   "outputs": [
    {
     "data": {
      "image/png": "[encoded data removed]",
      "text/plain": [
       "<Figure size 720x432 with 1 Axes>"
      ]
     },
     "metadata": {},
     "output_type": "display_data"
    }
   ],
   "source": [
    "import matplotlib.pyplot as plt\n",
    "\n",
    "# Define the metrics and models\n",
    "metrics = ['Accuracy', 'Precision', 'Recall']\n",
    "models = ['XGBoost', 'Random Forest', 'Extra Trees']\n",
    "accuracy_scores = [accuracy_xgb, accuracy_rf, accuracy_ext]\n",
    "precision_scores = [precision_xgb, precision_rf, precision_ext]\n",
    "recall_scores = [recall_xgb, recall_rf, recall_ext]\n",
    "\n",
    "# Plotting\n",
    "plt.figure(figsize=(10, 6))\n",
    "\n",
    "# Plotting accuracy scores\n",
    "plt.bar([model + ' Accuracy' for model in models], accuracy_scores, color='skyblue')\n",
    "\n",
    "# Plotting precision scores\n",
    "plt.bar([model + ' Precision' for model in models], precision_scores, color='salmon')\n",
    "\n",
    "# Plotting recall scores\n",
    "plt.bar([model + ' Recall' for model in models], recall_scores, color='lightgreen')\n",
    "\n",
    "plt.ylabel('Score')\n",
    "plt.title('Comparison of Metrics for Different Models')\n",
    "plt.xticks(rotation=45, ha='right')\n",
    "plt.legend(metrics)\n",
    "plt.tight_layout() \n",
    "plt.show()\n"
   ]
  },
  {
   "cell_type": "code",
   "execution_count": 62,
   "id": "d6a39232",
   "metadata": {},
   "outputs": [],
   "source": [
    "extree = ExtraTreesClassifier()\n",
    "extree.fit(X_train, y_train)\n",
    "y_pred = extree.predict(X_test)"
   ]
  },
  {
   "cell_type": "code",
   "execution_count": 63,
   "id": "3971c39f",
   "metadata": {},
   "outputs": [
    {
     "data": {
      "text/plain": [
       "{'bootstrap': False,\n",
       " 'ccp_alpha': 0.0,\n",
       " 'class_weight': None,\n",
       " 'criterion': 'gini',\n",
       " 'max_depth': None,\n",
       " 'max_features': 'sqrt',\n",
       " 'max_leaf_nodes': None,\n",
       " 'max_samples': None,\n",
       " 'min_impurity_decrease': 0.0,\n",
       " 'min_samples_leaf': 1,\n",
       " 'min_samples_split': 2,\n",
       " 'min_weight_fraction_leaf': 0.0,\n",
       " 'n_estimators': 100,\n",
       " 'n_jobs': None,\n",
       " 'oob_score': False,\n",
       " 'random_state': None,\n",
       " 'verbose': 0,\n",
       " 'warm_start': False}"
      ]
     },
     "execution_count": 63,
     "metadata": {},
     "output_type": "execute_result"
    }
   ],
   "source": [
    "extree.get_params()"
   ]
  },
  {
   "cell_type": "markdown",
   "id": "7576c4ea",
   "metadata": {},
   "source": [
    "# <span style=\"font-family:cursive;text-align:center\">🛠️ Hyperparameter Tuning</span>"
   ]
  },
  {
   "cell_type": "code",
   "execution_count": 65,
   "id": "fe10ee6a",
   "metadata": {},
   "outputs": [
    {
     "name": "stdout",
     "output_type": "stream",
     "text": [
      "Fitting 3 folds for each of 32 candidates, totalling 96 fits\n"
     ]
    },
    {
     "data": {
      "text/plain": [
       "({'ccp_alpha': 0.0,\n",
       "  'criterion': 'gini',\n",
       "  'max_depth': 11,\n",
       "  'min_samples_split': 3,\n",
       "  'n_estimators': 300},\n",
       " 0.8644027555638694)"
      ]
     },
     "execution_count": 65,
     "metadata": {},
     "output_type": "execute_result"
    }
   ],
   "source": [
    "gkf = KFold(n_splits=3, shuffle=True, random_state=42).split(X=X_train, y=y_train)\n",
    "\n",
    "# A parameter grid for ETrees\n",
    "params = {\n",
    "    'n_estimators': range(100, 500, 100),  # [100,200,300,400,500]\n",
    "    'ccp_alpha': [0.0, 0.1],\n",
    "    'criterion': ['gini'],\n",
    "    'max_depth': [5,11],\n",
    "    'min_samples_split': [2,3],\n",
    "}\n",
    "\n",
    "extree_estimator = ExtraTreesClassifier()\n",
    "\n",
    "gsearch = GridSearchCV(\n",
    "    estimator= extree_estimator,\n",
    "    param_grid= params,\n",
    "    scoring='f1_weighted',\n",
    "    n_jobs=-1,\n",
    "    cv=gkf,\n",
    "    verbose=1,\n",
    ")\n",
    "\n",
    "\n",
    "extree_model = gsearch.fit(X=X_train, y=y_train)\n",
    "(gsearch.best_params_, gsearch.best_score_)"
   ]
  },
  {
   "cell_type": "markdown",
   "id": "93cb7116",
   "metadata": {},
   "source": [
    "<div class=\"alert alert-block alert-success\" style=\"font-size:14px; font-family:verdana; line-height: 1.7em;\">\n",
    "   <b><u>Parameters:</u></b>\n",
    "  'ccp_alpha':<span style=\"color:red\">0.0</span>,\n",
    "  'criterion': <span style=\"color:red\">'gini'</span>,\n",
    "  'max_depth': <span style=\"color:red\">11</span>,\n",
    "  'min_samples_split': <span style=\"color:red\">2</span>,\n",
    "  'n_estimators': <span style=\"color:red\">400</span>\n",
    "<br>\n",
    "<b><u>Best Score: </u></b><span style=\"color:red\">0.86</span><br>\n",
    "</div>"
   ]
  },
  {
   "cell_type": "code",
   "execution_count": 66,
   "id": "de00119f",
   "metadata": {},
   "outputs": [
    {
     "name": "stdout",
     "output_type": "stream",
     "text": [
      "Fitting 3 folds for each of 8 candidates, totalling 24 fits\n"
     ]
    },
    {
     "data": {
      "text/plain": [
       "({'class_weight': None, 'max_depth': 15, 'min_samples_split': 2},\n",
       " 0.918450256788805)"
      ]
     },
     "execution_count": 66,
     "metadata": {},
     "output_type": "execute_result"
    }
   ],
   "source": [
    "gkf2 = KFold(n_splits=3, shuffle=True, random_state=101).split(X=X_train, y=y_train)\n",
    "\n",
    "params2 = {\n",
    "    'max_depth': [11,15],\n",
    "    'min_samples_split': [2,3],\n",
    "    'class_weight': ['balanced', None],\n",
    "\n",
    "}\n",
    "\n",
    "extree2 = ExtraTreesClassifier(ccp_alpha = 0.0,\n",
    "                                criterion = 'gini',\n",
    "                                max_depth = 11,\n",
    "                                min_samples_split = 3)\n",
    "\n",
    "gsearch2 = GridSearchCV(\n",
    "    estimator= extree2,\n",
    "    param_grid= params2,\n",
    "    scoring='f1_weighted',\n",
    "    n_jobs=-1,\n",
    "    cv=gkf2,\n",
    "    verbose=3,\n",
    ")\n",
    "\n",
    "extree_model2 = gsearch2.fit(X=X_train, y=y_train)\n",
    "\n",
    "(gsearch2.best_params_, gsearch2.best_score_)"
   ]
  },
  {
   "cell_type": "markdown",
   "id": "b86680a8",
   "metadata": {},
   "source": [
    "<div class=\"alert alert-block alert-success\" style=\"font-size:14px; font-family:verdana; line-height: 1.7em;\">\n",
    "   <b><u>Parameters:</u></b>\n",
    "  'class_weight':<span style=\"color:red\">balanced</span>,\n",
    "  'max_depth': <span style=\"color:red\">15</span>,\n",
    "  'min_samples_split': <span style=\"color:red\">2</span>,\n",
    "<br>\n",
    "<b><u>Best Score: </u></b><span style=\"color:red\">0.92</span><br>\n",
    "</div>"
   ]
  },
  {
   "cell_type": "code",
   "execution_count": 67,
   "id": "2daec978",
   "metadata": {},
   "outputs": [
    {
     "data": {
      "text/html": [
       "<style>#sk-container-id-1 {color: black;background-color: white;}#sk-container-id-1 pre{padding: 0;}#sk-container-id-1 div.sk-toggleable {background-color: white;}#sk-container-id-1 label.sk-toggleable__label {cursor: pointer;display: block;width: 100%;margin-bottom: 0;padding: 0.3em;box-sizing: border-box;text-align: center;}#sk-container-id-1 label.sk-toggleable__label-arrow:before {content: \"▸\";float: left;margin-right: 0.25em;color: #696969;}#sk-container-id-1 label.sk-toggleable__label-arrow:hover:before {color: black;}#sk-container-id-1 div.sk-estimator:hover label.sk-toggleable__label-arrow:before {color: black;}#sk-container-id-1 div.sk-toggleable__content {max-height: 0;max-width: 0;overflow: hidden;text-align: left;background-color: #f0f8ff;}#sk-container-id-1 div.sk-toggleable__content pre {margin: 0.2em;color: black;border-radius: 0.25em;background-color: #f0f8ff;}#sk-container-id-1 input.sk-toggleable__control:checked~div.sk-toggleable__content {max-height: 200px;max-width: 100%;overflow: auto;}#sk-container-id-1 input.sk-toggleable__control:checked~label.sk-toggleable__label-arrow:before {content: \"▾\";}#sk-container-id-1 div.sk-estimator input.sk-toggleable__control:checked~label.sk-toggleable__label {background-color: #d4ebff;}#sk-container-id-1 div.sk-label input.sk-toggleable__control:checked~label.sk-toggleable__label {background-color: #d4ebff;}#sk-container-id-1 input.sk-hidden--visually {border: 0;clip: rect(1px 1px 1px 1px);clip: rect(1px, 1px, 1px, 1px);height: 1px;margin: -1px;overflow: hidden;padding: 0;position: absolute;width: 1px;}#sk-container-id-1 div.sk-estimator {font-family: monospace;background-color: #f0f8ff;border: 1px dotted black;border-radius: 0.25em;box-sizing: border-box;margin-bottom: 0.5em;}#sk-container-id-1 div.sk-estimator:hover {background-color: #d4ebff;}#sk-container-id-1 div.sk-parallel-item::after {content: \"\";width: 100%;border-bottom: 1px solid gray;flex-grow: 1;}#sk-container-id-1 div.sk-label:hover label.sk-toggleable__label {background-color: #d4ebff;}#sk-container-id-1 div.sk-serial::before {content: \"\";position: absolute;border-left: 1px solid gray;box-sizing: border-box;top: 0;bottom: 0;left: 50%;z-index: 0;}#sk-container-id-1 div.sk-serial {display: flex;flex-direction: column;align-items: center;background-color: white;padding-right: 0.2em;padding-left: 0.2em;position: relative;}#sk-container-id-1 div.sk-item {position: relative;z-index: 1;}#sk-container-id-1 div.sk-parallel {display: flex;align-items: stretch;justify-content: center;background-color: white;position: relative;}#sk-container-id-1 div.sk-item::before, #sk-container-id-1 div.sk-parallel-item::before {content: \"\";position: absolute;border-left: 1px solid gray;box-sizing: border-box;top: 0;bottom: 0;left: 50%;z-index: -1;}#sk-container-id-1 div.sk-parallel-item {display: flex;flex-direction: column;z-index: 1;position: relative;background-color: white;}#sk-container-id-1 div.sk-parallel-item:first-child::after {align-self: flex-end;width: 50%;}#sk-container-id-1 div.sk-parallel-item:last-child::after {align-self: flex-start;width: 50%;}#sk-container-id-1 div.sk-parallel-item:only-child::after {width: 0;}#sk-container-id-1 div.sk-dashed-wrapped {border: 1px dashed gray;margin: 0 0.4em 0.5em 0.4em;box-sizing: border-box;padding-bottom: 0.4em;background-color: white;}#sk-container-id-1 div.sk-label label {font-family: monospace;font-weight: bold;display: inline-block;line-height: 1.2em;}#sk-container-id-1 div.sk-label-container {text-align: center;}#sk-container-id-1 div.sk-container {/* jupyter's `normalize.less` sets `[hidden] { display: none; }` but bootstrap.min.css set `[hidden] { display: none !important; }` so we also need the `!important` here to be able to override the default hidden behavior on the sphinx rendered scikit-learn.org. See: https://github.com/scikit-learn/scikit-learn/issues/21755 */display: inline-block !important;position: relative;}#sk-container-id-1 div.sk-text-repr-fallback {display: none;}</style><div id=\"sk-container-id-1\" class=\"sk-top-container\"><div class=\"sk-text-repr-fallback\"><pre>ExtraTreesClassifier(class_weight=&#x27;balanced&#x27;, max_depth=15, n_estimators=400)</pre><b>In a Jupyter environment, please rerun this cell to show the HTML representation or trust the notebook. <br />On GitHub, the HTML representation is unable to render, please try loading this page with nbviewer.org.</b></div><div class=\"sk-container\" hidden><div class=\"sk-item\"><div class=\"sk-estimator sk-toggleable\"><input class=\"sk-toggleable__control sk-hidden--visually\" id=\"sk-estimator-id-1\" type=\"checkbox\" checked><label for=\"sk-estimator-id-1\" class=\"sk-toggleable__label sk-toggleable__label-arrow\">ExtraTreesClassifier</label><div class=\"sk-toggleable__content\"><pre>ExtraTreesClassifier(class_weight=&#x27;balanced&#x27;, max_depth=15, n_estimators=400)</pre></div></div></div></div></div>"
      ],
      "text/plain": [
       "ExtraTreesClassifier(class_weight='balanced', max_depth=15, n_estimators=400)"
      ]
     },
     "execution_count": 67,
     "metadata": {},
     "output_type": "execute_result"
    }
   ],
   "source": [
    "extree_tuned = ExtraTreesClassifier(ccp_alpha = 0.0,\n",
    "                                criterion = 'gini',\n",
    "                                min_samples_split = 2,\n",
    "                                class_weight = 'balanced',\n",
    "                                max_depth = 15,\n",
    "                                n_estimators = 400)\n",
    "\n",
    "extree_tuned.fit(X_train, y_train)"
   ]
  },
  {
   "cell_type": "code",
   "execution_count": 68,
   "id": "49a54ad7",
   "metadata": {},
   "outputs": [
    {
     "name": "stdout",
     "output_type": "stream",
     "text": [
      "[0.05974431 0.05747172 0.01428988 0.02947929 0.04312365 0.03572489\n",
      " 0.02004645 0.03419059 0.02811595 0.03578804 0.01373271 0.04389583\n",
      " 0.01126002 0.04467593 0.06259413 0.0177271  0.03304912 0.06873552\n",
      " 0.06601686 0.02062249 0.02977071 0.03254595 0.02950401 0.02134887\n",
      " 0.01093004 0.04104245 0.04247802 0.05209547]\n"
     ]
    }
   ],
   "source": [
    "print(extree_tuned.feature_importances_)"
   ]
  },
  {
   "cell_type": "code",
   "execution_count": 69,
   "id": "b6723ca2",
   "metadata": {},
   "outputs": [
    {
     "data": {
      "image/png": "[encoded data removed]",
      "text/plain": [
       "<Figure size 864x864 with 1 Axes>"
      ]
     },
     "metadata": {},
     "output_type": "display_data"
    }
   ],
   "source": [
    "feat_importances = pd.Series(extree_tuned.feature_importances_, index=X.columns)\n",
    "plt.figure(figsize=(12,12))\n",
    "myexplode = [0.12,0,0,0,0,0,0,0,0,0]\n",
    "plt.pie(feat_importances.nlargest(10),labels=feat_importances.nlargest(10).index, autopct='%.0f%%',explode= myexplode,\n",
    "        textprops={'fontsize': 16})\n",
    "centre_circle = plt.Circle((0,0),0.10,fc='white')\n",
    "fig = plt.gcf()\n",
    "fig.gca().add_artist(centre_circle)\n",
    "plt.title('Important features considered by Extra Trees Classifier',fontsize=20)\n",
    "plt.show()"
   ]
  },
  {
   "cell_type": "code",
   "execution_count": 71,
   "id": "54c0e0c1",
   "metadata": {},
   "outputs": [],
   "source": [
    "import joblib"
   ]
  },
  {
   "cell_type": "code",
   "execution_count": 73,
   "id": "955553fd",
   "metadata": {},
   "outputs": [
    {
     "data": {
      "text/plain": [
       "['extree_model.joblib']"
      ]
     },
     "execution_count": 73,
     "metadata": {},
     "output_type": "execute_result"
    }
   ],
   "source": [
    "joblib.dump(extree, 'extree_model.joblib')"
   ]
  },
  {
   "cell_type": "code",
   "execution_count": null,
   "id": "99267085",
   "metadata": {},
   "outputs": [],
   "source": []
  }
 ],
 "metadata": {
  "kernelspec": {
   "display_name": "Python 3 (ipykernel)",
   "language": "python",
   "name": "python3"
  },
  "language_info": {
   "codemirror_mode": {
    "name": "ipython",
    "version": 3
   },
   "file_extension": ".py",
   "mimetype": "text/x-python",
   "name": "python",
   "nbconvert_exporter": "python",
   "pygments_lexer": "ipython3",
   "version": "3.9.12"
  }
 },
 "nbformat": 4,
 "nbformat_minor": 5
}
